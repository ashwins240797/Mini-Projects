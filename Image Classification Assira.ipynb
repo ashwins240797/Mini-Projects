{
 "cells": [
  {
   "cell_type": "code",
   "execution_count": 38,
   "metadata": {},
   "outputs": [],
   "source": [
    "from keras.models import Sequential\n",
    "from keras.layers import Conv2D,MaxPool2D,Flatten,Dense"
   ]
  },
  {
   "cell_type": "code",
   "execution_count": 39,
   "metadata": {},
   "outputs": [],
   "source": [
    "#Build CNN Model\n",
    "\n",
    "model = Sequential()\n",
    "model.add(Conv2D(32, 3, 3, input_shape = (64, 64, 3), activation = 'relu'))\n",
    "model.add(MaxPool2D(pool_size = (2, 2)))\n",
    "model.add(Conv2D(32, 3, 3, activation = 'relu'))\n",
    "model.add(MaxPool2D(pool_size = (2, 2)))\n",
    "model.add(Flatten())\n",
    "model.add(Dense(128, activation = 'relu'))\n",
    "model.add(Dense(1, activation = 'sigmoid'))\n"
   ]
  },
  {
   "cell_type": "code",
   "execution_count": 40,
   "metadata": {},
   "outputs": [],
   "source": [
    "model.compile(optimizer = 'adam', loss = 'binary_crossentropy', metrics = ['accuracy'])"
   ]
  },
  {
   "cell_type": "code",
   "execution_count": 41,
   "metadata": {},
   "outputs": [],
   "source": [
    "from keras.preprocessing.image import ImageDataGenerator\n",
    "\n",
    "train_data = ImageDataGenerator(rescale = 1./255,\n",
    "                                   shear_range = 0.2,\n",
    "                                   zoom_range = 0.2,\n",
    "                                   horizontal_flip = True)"
   ]
  },
  {
   "cell_type": "code",
   "execution_count": 42,
   "metadata": {},
   "outputs": [],
   "source": [
    "test_data = ImageDataGenerator(rescale = 1./255)"
   ]
  },
  {
   "cell_type": "code",
   "execution_count": 43,
   "metadata": {},
   "outputs": [
    {
     "name": "stdout",
     "output_type": "stream",
     "text": [
      "Found 8000 images belonging to 2 classes.\n"
     ]
    }
   ],
   "source": [
    "training_set = train_data.flow_from_directory('D://M_AI//Deep Learning//Datasets//L5enddataset/training_set',\n",
    "                                                 target_size = (64, 64),\n",
    "                                                 batch_size = 32,\n",
    "                                                 class_mode = 'binary')"
   ]
  },
  {
   "cell_type": "code",
   "execution_count": 44,
   "metadata": {},
   "outputs": [
    {
     "name": "stdout",
     "output_type": "stream",
     "text": [
      "Found 2000 images belonging to 2 classes.\n"
     ]
    }
   ],
   "source": [
    "test_set = test_data.flow_from_directory('D://M_AI//Deep Learning//Datasets//L5enddataset/test_set',\n",
    "                                            target_size = (64, 64),\n",
    "                                            batch_size = 32,\n",
    "                                            class_mode = 'binary')"
   ]
  },
  {
   "cell_type": "code",
   "execution_count": 45,
   "metadata": {},
   "outputs": [
    {
     "name": "stdout",
     "output_type": "stream",
     "text": [
      "Epoch 1/10\n",
      "250/250 [==============================] - 72s 282ms/step - loss: 0.6929 - accuracy: 0.5061 - val_loss: 0.6901 - val_accuracy: 0.5005\n",
      "Epoch 2/10\n",
      "250/250 [==============================] - 69s 276ms/step - loss: 0.6823 - accuracy: 0.5651 - val_loss: 0.6599 - val_accuracy: 0.6020\n",
      "Epoch 3/10\n",
      "250/250 [==============================] - 70s 278ms/step - loss: 0.6606 - accuracy: 0.6046 - val_loss: 0.6429 - val_accuracy: 0.6260\n",
      "Epoch 4/10\n",
      "250/250 [==============================] - 70s 282ms/step - loss: 0.6496 - accuracy: 0.6152 - val_loss: 0.6456 - val_accuracy: 0.6280\n",
      "Epoch 5/10\n",
      "250/250 [==============================] - 70s 280ms/step - loss: 0.6401 - accuracy: 0.6352 - val_loss: 0.6320 - val_accuracy: 0.6405\n",
      "Epoch 6/10\n",
      "250/250 [==============================] - 71s 285ms/step - loss: 0.6296 - accuracy: 0.6460 - val_loss: 0.6181 - val_accuracy: 0.6575\n",
      "Epoch 7/10\n",
      "250/250 [==============================] - 67s 270ms/step - loss: 0.6239 - accuracy: 0.6555 - val_loss: 0.6164 - val_accuracy: 0.6560\n",
      "Epoch 8/10\n",
      "250/250 [==============================] - 70s 279ms/step - loss: 0.6136 - accuracy: 0.6613 - val_loss: 0.6150 - val_accuracy: 0.6640\n",
      "Epoch 9/10\n",
      "250/250 [==============================] - 70s 278ms/step - loss: 0.6033 - accuracy: 0.6663 - val_loss: 0.6092 - val_accuracy: 0.6675\n",
      "Epoch 10/10\n",
      "250/250 [==============================] - 71s 285ms/step - loss: 0.6035 - accuracy: 0.6673 - val_loss: 0.6273 - val_accuracy: 0.6525\n"
     ]
    },
    {
     "data": {
      "text/plain": [
       "<tensorflow.python.keras.callbacks.History at 0x17707a67eb0>"
      ]
     },
     "execution_count": 45,
     "metadata": {},
     "output_type": "execute_result"
    }
   ],
   "source": [
    "model.fit_generator(training_set, epochs = 10, validation_data = test_set)\n",
    "                                          "
   ]
  },
  {
   "cell_type": "code",
   "execution_count": 54,
   "metadata": {},
   "outputs": [
    {
     "name": "stdout",
     "output_type": "stream",
     "text": [
      "[[1.]]\n",
      "cat\n"
     ]
    }
   ],
   "source": [
    "import numpy as np\n",
    "from keras.preprocessing import image\n",
    "test_image = image.load_img('D://M_AI//Deep Learning//Datasets//L5enddataset//test_set//cats//cat.4110.jpg',target_size=(64,64))\n",
    "test_image = image.img_to_array(test_image)\n",
    "test_image = np.expand_dims(test_image,axis=0)\n",
    "result = model.predict(test_image)\n",
    "print(result)\n",
    "training_set.class_indices\n",
    "if result[0][0]>=0.5:\n",
    "    prediction= 'cat'\n",
    "else:\n",
    "    prediction = 'dog'\n",
    "print(prediction)"
   ]
  },
  {
   "cell_type": "code",
   "execution_count": null,
   "metadata": {},
   "outputs": [],
   "source": []
  }
 ],
 "metadata": {
  "kernelspec": {
   "display_name": "Python 3",
   "language": "python",
   "name": "python3"
  },
  "language_info": {
   "codemirror_mode": {
    "name": "ipython",
    "version": 3
   },
   "file_extension": ".py",
   "mimetype": "text/x-python",
   "name": "python",
   "nbconvert_exporter": "python",
   "pygments_lexer": "ipython3",
   "version": "3.8.5"
  }
 },
 "nbformat": 4,
 "nbformat_minor": 4
}

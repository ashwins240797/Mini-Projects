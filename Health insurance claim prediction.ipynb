{
 "cells": [
  {
   "cell_type": "code",
   "execution_count": 32,
   "metadata": {},
   "outputs": [],
   "source": [
    "import pandas as pd\n",
    "import numpy as np\n",
    "\n",
    "import matplotlib\n",
    "import matplotlib.pyplot as plt\n",
    "from pandas.plotting import scatter_matrix\n",
    "%matplotlib inline\n",
    "\n",
    "import seaborn as sns\n",
    "sns.set(style='white',color_codes=True)\n",
    "sns.set(font_scale=1.5)\n",
    "\n",
    "from sklearn.linear_model import LogisticRegression\n",
    "from sklearn.model_selection import train_test_split\n",
    "\n",
    "from sklearn.metrics import confusion_matrix\n",
    "from sklearn.metrics import classification_report\n",
    "from sklearn.metrics import accuracy_score\n",
    "from sklearn.metrics import precision_score\n",
    "from sklearn.metrics import recall_score\n",
    "from sklearn.metrics import f1_score\n",
    "from sklearn import metrics"
   ]
  },
  {
   "cell_type": "code",
   "execution_count": 33,
   "metadata": {},
   "outputs": [
    {
     "data": {
      "text/plain": [
       "(1338, 8)"
      ]
     },
     "execution_count": 33,
     "metadata": {},
     "output_type": "execute_result"
    }
   ],
   "source": [
    "# load the dataset\n",
    "df = pd.read_csv(\"D://M_AI//Machine Learning//Projects//insurance2.csv\")\n",
    "df.shape"
   ]
  },
  {
   "cell_type": "code",
   "execution_count": 34,
   "metadata": {},
   "outputs": [
    {
     "data": {
      "text/html": [
       "<div>\n",
       "<style scoped>\n",
       "    .dataframe tbody tr th:only-of-type {\n",
       "        vertical-align: middle;\n",
       "    }\n",
       "\n",
       "    .dataframe tbody tr th {\n",
       "        vertical-align: top;\n",
       "    }\n",
       "\n",
       "    .dataframe thead th {\n",
       "        text-align: right;\n",
       "    }\n",
       "</style>\n",
       "<table border=\"1\" class=\"dataframe\">\n",
       "  <thead>\n",
       "    <tr style=\"text-align: right;\">\n",
       "      <th></th>\n",
       "      <th>age</th>\n",
       "      <th>sex</th>\n",
       "      <th>bmi</th>\n",
       "      <th>children</th>\n",
       "      <th>smoker</th>\n",
       "      <th>region</th>\n",
       "      <th>charges</th>\n",
       "      <th>insuranceclaim</th>\n",
       "    </tr>\n",
       "  </thead>\n",
       "  <tbody>\n",
       "    <tr>\n",
       "      <th>0</th>\n",
       "      <td>19</td>\n",
       "      <td>0</td>\n",
       "      <td>27.900</td>\n",
       "      <td>0</td>\n",
       "      <td>1</td>\n",
       "      <td>3</td>\n",
       "      <td>16884.92400</td>\n",
       "      <td>1</td>\n",
       "    </tr>\n",
       "    <tr>\n",
       "      <th>1</th>\n",
       "      <td>18</td>\n",
       "      <td>1</td>\n",
       "      <td>33.770</td>\n",
       "      <td>1</td>\n",
       "      <td>0</td>\n",
       "      <td>2</td>\n",
       "      <td>1725.55230</td>\n",
       "      <td>1</td>\n",
       "    </tr>\n",
       "    <tr>\n",
       "      <th>2</th>\n",
       "      <td>28</td>\n",
       "      <td>1</td>\n",
       "      <td>33.000</td>\n",
       "      <td>3</td>\n",
       "      <td>0</td>\n",
       "      <td>2</td>\n",
       "      <td>4449.46200</td>\n",
       "      <td>0</td>\n",
       "    </tr>\n",
       "    <tr>\n",
       "      <th>3</th>\n",
       "      <td>33</td>\n",
       "      <td>1</td>\n",
       "      <td>22.705</td>\n",
       "      <td>0</td>\n",
       "      <td>0</td>\n",
       "      <td>1</td>\n",
       "      <td>21984.47061</td>\n",
       "      <td>0</td>\n",
       "    </tr>\n",
       "    <tr>\n",
       "      <th>4</th>\n",
       "      <td>32</td>\n",
       "      <td>1</td>\n",
       "      <td>28.880</td>\n",
       "      <td>0</td>\n",
       "      <td>0</td>\n",
       "      <td>1</td>\n",
       "      <td>3866.85520</td>\n",
       "      <td>1</td>\n",
       "    </tr>\n",
       "  </tbody>\n",
       "</table>\n",
       "</div>"
      ],
      "text/plain": [
       "   age  sex     bmi  children  smoker  region      charges  insuranceclaim\n",
       "0   19    0  27.900         0       1       3  16884.92400               1\n",
       "1   18    1  33.770         1       0       2   1725.55230               1\n",
       "2   28    1  33.000         3       0       2   4449.46200               0\n",
       "3   33    1  22.705         0       0       1  21984.47061               0\n",
       "4   32    1  28.880         0       0       1   3866.85520               1"
      ]
     },
     "execution_count": 34,
     "metadata": {},
     "output_type": "execute_result"
    }
   ],
   "source": [
    "df.head()"
   ]
  },
  {
   "cell_type": "code",
   "execution_count": 35,
   "metadata": {},
   "outputs": [
    {
     "data": {
      "text/plain": [
       "age               0\n",
       "sex               0\n",
       "bmi               0\n",
       "children          0\n",
       "smoker            0\n",
       "region            0\n",
       "charges           0\n",
       "insuranceclaim    0\n",
       "dtype: int64"
      ]
     },
     "execution_count": 35,
     "metadata": {},
     "output_type": "execute_result"
    }
   ],
   "source": [
    "df.isna().sum()"
   ]
  },
  {
   "cell_type": "code",
   "execution_count": 36,
   "metadata": {},
   "outputs": [
    {
     "data": {
      "text/plain": [
       "age                 int64\n",
       "sex                 int64\n",
       "bmi               float64\n",
       "children            int64\n",
       "smoker              int64\n",
       "region              int64\n",
       "charges           float64\n",
       "insuranceclaim      int64\n",
       "dtype: object"
      ]
     },
     "execution_count": 36,
     "metadata": {},
     "output_type": "execute_result"
    }
   ],
   "source": [
    "df.dtypes"
   ]
  },
  {
   "cell_type": "code",
   "execution_count": 37,
   "metadata": {},
   "outputs": [
    {
     "data": {
      "text/plain": [
       "<matplotlib.axes._subplots.AxesSubplot at 0x270cc92fcd0>"
      ]
     },
     "execution_count": 37,
     "metadata": {},
     "output_type": "execute_result"
    },
    {
     "data": {
      "image/png": "[encoded data removed]",
      "text/plain": [
       "<Figure size 432x288 with 2 Axes>"
      ]
     },
     "metadata": {},
     "output_type": "display_data"
    }
   ],
   "source": [
    "# check the correlation using the heatmap\n",
    "plt.figure(figsize=(6,4))\n",
    "sns.heatmap(df.corr())"
   ]
  },
  {
   "cell_type": "code",
   "execution_count": 38,
   "metadata": {},
   "outputs": [
    {
     "name": "stdout",
     "output_type": "stream",
     "text": [
      "                     age       sex       bmi  children    smoker    region  \\\n",
      "age             1.000000 -0.020856  0.109272  0.042469 -0.025019  0.002127   \n",
      "sex            -0.020856  1.000000  0.046371  0.017163  0.076185  0.004588   \n",
      "bmi             0.109272  0.046371  1.000000  0.012759  0.003750  0.157566   \n",
      "children        0.042469  0.017163  0.012759  1.000000  0.007673  0.016569   \n",
      "smoker         -0.025019  0.076185  0.003750  0.007673  1.000000 -0.002181   \n",
      "region          0.002127  0.004588  0.157566  0.016569 -0.002181  1.000000   \n",
      "charges         0.299008  0.057292  0.198341  0.067998  0.787251 -0.006208   \n",
      "insuranceclaim  0.113723  0.031565  0.384198 -0.409526  0.333261  0.020891   \n",
      "\n",
      "                 charges  insuranceclaim  \n",
      "age             0.299008        0.113723  \n",
      "sex             0.057292        0.031565  \n",
      "bmi             0.198341        0.384198  \n",
      "children        0.067998       -0.409526  \n",
      "smoker          0.787251        0.333261  \n",
      "region         -0.006208        0.020891  \n",
      "charges         1.000000        0.309418  \n",
      "insuranceclaim  0.309418        1.000000  \n"
     ]
    }
   ],
   "source": [
    "# finding correlation values\n",
    "corr = df.corr()\n",
    "print(corr)"
   ]
  },
  {
   "cell_type": "code",
   "execution_count": 39,
   "metadata": {},
   "outputs": [],
   "source": [
    "used_features = ['age','sex','bmi','children','smoker','region','charges']\n",
    "X = df[used_features]\n",
    "y = df.insuranceclaim"
   ]
  },
  {
   "cell_type": "code",
   "execution_count": 40,
   "metadata": {},
   "outputs": [
    {
     "name": "stdout",
     "output_type": "stream",
     "text": [
      "(936, 7)\n",
      "(402, 7)\n",
      "(936,)\n",
      "(402,)\n"
     ]
    }
   ],
   "source": [
    "# split train and test data sets\n",
    "X_Train,X_test,y_Train,y_test = train_test_split(X,y,test_size=0.3,random_state=None)\n",
    "\n",
    "print(X_Train.shape)\n",
    "print(X_test.shape)\n",
    "print(y_Train.shape)\n",
    "print(y_test.shape)"
   ]
  },
  {
   "cell_type": "code",
   "execution_count": 41,
   "metadata": {},
   "outputs": [],
   "source": [
    "# Normalizing the inputs\n",
    "means = np.mean(X_Train, axis=0)\n",
    "stds = np.std(X_Train, axis=0)\n",
    "\n",
    "X_Train = (X_Train - means)/stds\n",
    "X_test = (X_test - means)/stds"
   ]
  },
  {
   "cell_type": "code",
   "execution_count": 42,
   "metadata": {},
   "outputs": [
    {
     "name": "stdout",
     "output_type": "stream",
     "text": [
      "[[ 0.41227169  0.06075026  1.49445582 -1.65580352  1.51012481 -0.14595571\n",
      "   0.09028936]]\n",
      "[0.67687558]\n"
     ]
    }
   ],
   "source": [
    "# call logistic regression \n",
    "logReg = LogisticRegression()\n",
    "logReg.fit(X_Train,y_Train)\n",
    "\n",
    "# print coefficients and intercepts\n",
    "print(logReg.coef_)\n",
    "print(logReg.intercept_)"
   ]
  },
  {
   "cell_type": "code",
   "execution_count": 43,
   "metadata": {},
   "outputs": [],
   "source": [
    "y_pred = logReg.predict(X_test)"
   ]
  },
  {
   "cell_type": "code",
   "execution_count": 44,
   "metadata": {},
   "outputs": [
    {
     "data": {
      "text/plain": [
       "array([[123,  33],\n",
       "       [ 20, 226]], dtype=int64)"
      ]
     },
     "execution_count": 44,
     "metadata": {},
     "output_type": "execute_result"
    }
   ],
   "source": [
    "# confusion matrix\n",
    "metrics.confusion_matrix(y_test,y_pred)"
   ]
  },
  {
   "cell_type": "code",
   "execution_count": 45,
   "metadata": {},
   "outputs": [
    {
     "data": {
      "text/plain": [
       "0.8681592039800995"
      ]
     },
     "execution_count": 45,
     "metadata": {},
     "output_type": "execute_result"
    }
   ],
   "source": [
    "# finding the accuracy of the model\n",
    "metrics.accuracy_score(y_test,y_pred)"
   ]
  },
  {
   "cell_type": "code",
   "execution_count": 46,
   "metadata": {},
   "outputs": [
    {
     "name": "stdout",
     "output_type": "stream",
     "text": [
      "              precision    recall  f1-score   support\n",
      "\n",
      "           0       0.86      0.79      0.82       156\n",
      "           1       0.87      0.92      0.90       246\n",
      "\n",
      "    accuracy                           0.87       402\n",
      "   macro avg       0.87      0.85      0.86       402\n",
      "weighted avg       0.87      0.87      0.87       402\n",
      "\n"
     ]
    }
   ],
   "source": [
    "# Classification report\n",
    "print(classification_report(y_test,y_pred))"
   ]
  },
  {
   "cell_type": "code",
   "execution_count": 47,
   "metadata": {},
   "outputs": [
    {
     "data": {
      "text/plain": [
       "array([[6.18196685e-01, 3.81803315e-01],\n",
       "       [9.61572650e-01, 3.84273497e-02],\n",
       "       [7.54772872e-01, 2.45227128e-01],\n",
       "       [9.62532666e-03, 9.90374673e-01],\n",
       "       [3.48227326e-01, 6.51772674e-01],\n",
       "       [5.06542612e-01, 4.93457388e-01],\n",
       "       [4.83648053e-01, 5.16351947e-01],\n",
       "       [8.10095911e-01, 1.89904089e-01],\n",
       "       [2.22115596e-01, 7.77884404e-01],\n",
       "       [2.39305723e-01, 7.60694277e-01],\n",
       "       [1.22806572e-01, 8.77193428e-01],\n",
       "       [2.27861447e-02, 9.77213855e-01],\n",
       "       [4.09361636e-02, 9.59063836e-01],\n",
       "       [7.54023557e-01, 2.45976443e-01],\n",
       "       [4.28025727e-01, 5.71974273e-01],\n",
       "       [7.83251723e-02, 9.21674828e-01],\n",
       "       [2.36295789e-01, 7.63704211e-01],\n",
       "       [7.07533630e-01, 2.92466370e-01],\n",
       "       [6.86970453e-01, 3.13029547e-01],\n",
       "       [3.14577821e-02, 9.68542218e-01],\n",
       "       [1.83277605e-01, 8.16722395e-01],\n",
       "       [2.94692583e-01, 7.05307417e-01],\n",
       "       [1.76131725e-01, 8.23868275e-01],\n",
       "       [9.59306261e-01, 4.06937390e-02],\n",
       "       [6.32956512e-01, 3.67043488e-01],\n",
       "       [6.99093564e-01, 3.00906436e-01],\n",
       "       [6.05737361e-01, 3.94262639e-01],\n",
       "       [1.10045164e-01, 8.89954836e-01],\n",
       "       [4.81031179e-01, 5.18968821e-01],\n",
       "       [1.21467033e-01, 8.78532967e-01],\n",
       "       [2.93033071e-02, 9.70696693e-01],\n",
       "       [4.64301544e-01, 5.35698456e-01],\n",
       "       [7.11406567e-03, 9.92885934e-01],\n",
       "       [4.93022943e-02, 9.50697706e-01],\n",
       "       [5.72750035e-03, 9.94272500e-01],\n",
       "       [4.23596080e-01, 5.76403920e-01],\n",
       "       [5.38785308e-01, 4.61214692e-01],\n",
       "       [1.95727676e-02, 9.80427232e-01],\n",
       "       [1.25882334e-03, 9.98741177e-01],\n",
       "       [5.59862607e-01, 4.40137393e-01],\n",
       "       [6.45917409e-01, 3.54082591e-01],\n",
       "       [2.19895018e-02, 9.78010498e-01],\n",
       "       [5.78792619e-02, 9.42120738e-01],\n",
       "       [2.38854972e-02, 9.76114503e-01],\n",
       "       [5.22367017e-01, 4.77632983e-01],\n",
       "       [1.64303800e-01, 8.35696200e-01],\n",
       "       [2.28296457e-01, 7.71703543e-01],\n",
       "       [9.41720067e-01, 5.82799332e-02],\n",
       "       [3.67209849e-02, 9.63279015e-01],\n",
       "       [1.11022967e-01, 8.88977033e-01],\n",
       "       [1.00469267e-01, 8.99530733e-01],\n",
       "       [3.99800733e-03, 9.96001993e-01],\n",
       "       [5.09302715e-03, 9.94906973e-01],\n",
       "       [4.91700466e-02, 9.50829953e-01],\n",
       "       [5.25133244e-01, 4.74866756e-01],\n",
       "       [8.98375481e-01, 1.01624519e-01],\n",
       "       [5.67597972e-04, 9.99432402e-01],\n",
       "       [8.74997189e-02, 9.12500281e-01],\n",
       "       [4.43430569e-02, 9.55656943e-01],\n",
       "       [9.01170922e-01, 9.88290784e-02],\n",
       "       [1.32742721e-01, 8.67257279e-01],\n",
       "       [2.76684487e-01, 7.23315513e-01],\n",
       "       [3.56160319e-01, 6.43839681e-01],\n",
       "       [6.90577716e-04, 9.99309422e-01],\n",
       "       [9.96887459e-01, 3.11254118e-03],\n",
       "       [5.07746011e-01, 4.92253989e-01],\n",
       "       [8.73299132e-01, 1.26700868e-01],\n",
       "       [1.80480597e-01, 8.19519403e-01],\n",
       "       [5.50760369e-01, 4.49239631e-01],\n",
       "       [9.56277214e-01, 4.37227855e-02],\n",
       "       [9.23286916e-04, 9.99076713e-01],\n",
       "       [7.71820968e-01, 2.28179032e-01],\n",
       "       [8.31913807e-01, 1.68086193e-01],\n",
       "       [5.18148714e-02, 9.48185129e-01],\n",
       "       [4.88595757e-02, 9.51140424e-01],\n",
       "       [8.04902244e-02, 9.19509776e-01],\n",
       "       [8.02476154e-03, 9.91975238e-01],\n",
       "       [2.99258274e-01, 7.00741726e-01],\n",
       "       [5.68462314e-01, 4.31537686e-01],\n",
       "       [5.19697647e-03, 9.94803024e-01],\n",
       "       [9.15128351e-01, 8.48716490e-02],\n",
       "       [7.26271460e-01, 2.73728540e-01],\n",
       "       [4.12614986e-01, 5.87385014e-01],\n",
       "       [5.09947955e-02, 9.49005205e-01],\n",
       "       [2.94714298e-01, 7.05285702e-01],\n",
       "       [7.82484427e-01, 2.17515573e-01],\n",
       "       [7.80418316e-01, 2.19581684e-01],\n",
       "       [3.30000571e-01, 6.69999429e-01],\n",
       "       [6.60795774e-02, 9.33920423e-01],\n",
       "       [6.73496889e-01, 3.26503111e-01],\n",
       "       [3.66214900e-01, 6.33785100e-01],\n",
       "       [2.47673568e-01, 7.52326432e-01],\n",
       "       [7.84224375e-01, 2.15775625e-01],\n",
       "       [5.50929580e-01, 4.49070420e-01],\n",
       "       [1.66980553e-02, 9.83301945e-01],\n",
       "       [8.81256975e-01, 1.18743025e-01],\n",
       "       [9.57497627e-01, 4.25023728e-02],\n",
       "       [4.83352254e-03, 9.95166477e-01],\n",
       "       [9.01527499e-02, 9.09847250e-01],\n",
       "       [1.50363555e-01, 8.49636445e-01],\n",
       "       [5.84359846e-01, 4.15640154e-01],\n",
       "       [2.58477985e-01, 7.41522015e-01],\n",
       "       [8.56287674e-01, 1.43712326e-01],\n",
       "       [1.69606333e-02, 9.83039367e-01],\n",
       "       [2.23642837e-02, 9.77635716e-01],\n",
       "       [1.25161872e-02, 9.87483813e-01],\n",
       "       [1.10283286e-01, 8.89716714e-01],\n",
       "       [8.66093117e-02, 9.13390688e-01],\n",
       "       [1.32407918e-01, 8.67592082e-01],\n",
       "       [1.75033587e-01, 8.24966413e-01],\n",
       "       [4.00852142e-01, 5.99147858e-01],\n",
       "       [5.76905947e-02, 9.42309405e-01],\n",
       "       [6.08493962e-01, 3.91506038e-01],\n",
       "       [5.96552717e-03, 9.94034473e-01],\n",
       "       [1.12138252e-02, 9.88786175e-01],\n",
       "       [2.55721359e-01, 7.44278641e-01],\n",
       "       [6.64282748e-01, 3.35717252e-01],\n",
       "       [3.40907991e-02, 9.65909201e-01],\n",
       "       [6.19617374e-02, 9.38038263e-01],\n",
       "       [7.33734348e-01, 2.66265652e-01],\n",
       "       [9.26449945e-01, 7.35500553e-02],\n",
       "       [3.93878720e-01, 6.06121280e-01],\n",
       "       [7.54465486e-01, 2.45534514e-01],\n",
       "       [7.80397591e-02, 9.21960241e-01],\n",
       "       [2.79753431e-01, 7.20246569e-01],\n",
       "       [2.76228449e-01, 7.23771551e-01],\n",
       "       [9.93159720e-01, 6.84028017e-03],\n",
       "       [2.84243119e-02, 9.71575688e-01],\n",
       "       [1.66278821e-02, 9.83372118e-01],\n",
       "       [3.63466860e-01, 6.36533140e-01],\n",
       "       [2.75933885e-02, 9.72406611e-01],\n",
       "       [9.87564994e-01, 1.24350062e-02],\n",
       "       [4.10739409e-01, 5.89260591e-01],\n",
       "       [9.20193779e-01, 7.98062206e-02],\n",
       "       [3.00456011e-02, 9.69954399e-01],\n",
       "       [6.54934713e-01, 3.45065287e-01],\n",
       "       [4.02314327e-01, 5.97685673e-01],\n",
       "       [8.30948400e-01, 1.69051600e-01],\n",
       "       [6.98879605e-01, 3.01120395e-01],\n",
       "       [7.78472564e-01, 2.21527436e-01],\n",
       "       [9.16300166e-02, 9.08369983e-01],\n",
       "       [8.69806452e-01, 1.30193548e-01],\n",
       "       [5.26201118e-03, 9.94737989e-01],\n",
       "       [8.97848065e-03, 9.91021519e-01],\n",
       "       [8.87991699e-01, 1.12008301e-01],\n",
       "       [1.15556545e-01, 8.84443455e-01],\n",
       "       [1.75907498e-01, 8.24092502e-01],\n",
       "       [4.42848011e-01, 5.57151989e-01],\n",
       "       [4.86154699e-01, 5.13845301e-01],\n",
       "       [1.59966153e-01, 8.40033847e-01],\n",
       "       [1.13819426e-02, 9.88618057e-01],\n",
       "       [9.92375754e-01, 7.62424642e-03],\n",
       "       [6.80988307e-01, 3.19011693e-01],\n",
       "       [9.06736741e-01, 9.32632593e-02],\n",
       "       [9.82582645e-01, 1.74173550e-02],\n",
       "       [9.02783779e-01, 9.72162215e-02],\n",
       "       [8.84954304e-01, 1.15045696e-01],\n",
       "       [3.57638810e-02, 9.64236119e-01],\n",
       "       [1.48782579e-02, 9.85121742e-01],\n",
       "       [3.82881731e-02, 9.61711827e-01],\n",
       "       [2.09003455e-02, 9.79099655e-01],\n",
       "       [2.67901260e-01, 7.32098740e-01],\n",
       "       [1.92764477e-01, 8.07235523e-01],\n",
       "       [9.87127370e-01, 1.28726297e-02],\n",
       "       [2.70490783e-04, 9.99729509e-01],\n",
       "       [5.84317337e-01, 4.15682663e-01],\n",
       "       [3.37882164e-01, 6.62117836e-01],\n",
       "       [6.89897899e-02, 9.31010210e-01],\n",
       "       [2.28374737e-01, 7.71625263e-01],\n",
       "       [7.03360430e-04, 9.99296640e-01],\n",
       "       [2.06148158e-01, 7.93851842e-01],\n",
       "       [9.98757464e-01, 1.24253599e-03],\n",
       "       [3.27625596e-01, 6.72374404e-01],\n",
       "       [2.09504312e-01, 7.90495688e-01],\n",
       "       [5.01718707e-01, 4.98281293e-01],\n",
       "       [1.01140264e-01, 8.98859736e-01],\n",
       "       [4.39332264e-01, 5.60667736e-01],\n",
       "       [9.77232491e-02, 9.02276751e-01],\n",
       "       [5.41907004e-01, 4.58092996e-01],\n",
       "       [2.84949799e-01, 7.15050201e-01],\n",
       "       [4.96896306e-01, 5.03103694e-01],\n",
       "       [1.03525797e-01, 8.96474203e-01],\n",
       "       [1.80992327e-03, 9.98190077e-01],\n",
       "       [1.37085567e-01, 8.62914433e-01],\n",
       "       [5.46245141e-01, 4.53754859e-01],\n",
       "       [5.45431372e-02, 9.45456863e-01],\n",
       "       [7.06741259e-01, 2.93258741e-01],\n",
       "       [5.97539758e-02, 9.40246024e-01],\n",
       "       [5.39255460e-02, 9.46074454e-01],\n",
       "       [5.59416667e-01, 4.40583333e-01],\n",
       "       [5.58557596e-01, 4.41442404e-01],\n",
       "       [1.38044945e-03, 9.98619551e-01],\n",
       "       [9.37083705e-01, 6.29162945e-02],\n",
       "       [7.41512398e-01, 2.58487602e-01],\n",
       "       [3.91760016e-01, 6.08239984e-01],\n",
       "       [2.22099760e-01, 7.77900240e-01],\n",
       "       [7.64650535e-01, 2.35349465e-01],\n",
       "       [2.97122756e-01, 7.02877244e-01],\n",
       "       [1.08170123e-02, 9.89182988e-01],\n",
       "       [9.74957207e-01, 2.50427934e-02],\n",
       "       [2.31819312e-01, 7.68180688e-01],\n",
       "       [1.57745293e-01, 8.42254707e-01],\n",
       "       [1.09538109e-02, 9.89046189e-01],\n",
       "       [7.42624468e-01, 2.57375532e-01],\n",
       "       [6.57160691e-01, 3.42839309e-01],\n",
       "       [5.25180518e-01, 4.74819482e-01],\n",
       "       [3.18607784e-01, 6.81392216e-01],\n",
       "       [1.58315072e-02, 9.84168493e-01],\n",
       "       [8.87835378e-01, 1.12164622e-01],\n",
       "       [8.03214176e-01, 1.96785824e-01],\n",
       "       [2.68778112e-01, 7.31221888e-01],\n",
       "       [9.42171545e-01, 5.78284550e-02],\n",
       "       [7.57795109e-01, 2.42204891e-01],\n",
       "       [3.10455625e-02, 9.68954437e-01],\n",
       "       [6.25125617e-03, 9.93748744e-01],\n",
       "       [3.98382877e-01, 6.01617123e-01],\n",
       "       [2.62540919e-01, 7.37459081e-01],\n",
       "       [4.34076808e-01, 5.65923192e-01],\n",
       "       [8.82056011e-01, 1.17943989e-01],\n",
       "       [6.14428853e-01, 3.85571147e-01],\n",
       "       [1.85229699e-01, 8.14770301e-01],\n",
       "       [6.00721816e-01, 3.99278184e-01],\n",
       "       [3.40868162e-01, 6.59131838e-01],\n",
       "       [7.63947828e-01, 2.36052172e-01],\n",
       "       [8.47858828e-01, 1.52141172e-01],\n",
       "       [9.09731701e-01, 9.02682987e-02],\n",
       "       [3.99417809e-01, 6.00582191e-01],\n",
       "       [8.22440476e-01, 1.77559524e-01],\n",
       "       [3.33387146e-01, 6.66612854e-01],\n",
       "       [6.72126015e-04, 9.99327874e-01],\n",
       "       [4.11694079e-01, 5.88305921e-01],\n",
       "       [8.67945664e-01, 1.32054336e-01],\n",
       "       [5.96441545e-01, 4.03558455e-01],\n",
       "       [2.62405999e-01, 7.37594001e-01],\n",
       "       [2.98357184e-01, 7.01642816e-01],\n",
       "       [3.50336225e-03, 9.96496638e-01],\n",
       "       [9.96911464e-01, 3.08853644e-03],\n",
       "       [1.28817041e-02, 9.87118296e-01],\n",
       "       [9.80097833e-01, 1.99021667e-02],\n",
       "       [8.84211832e-01, 1.15788168e-01],\n",
       "       [7.87610528e-01, 2.12389472e-01],\n",
       "       [8.47102731e-01, 1.52897269e-01],\n",
       "       [5.44348966e-02, 9.45565103e-01],\n",
       "       [1.43640207e-01, 8.56359793e-01],\n",
       "       [1.19400374e-01, 8.80599626e-01],\n",
       "       [1.80586962e-02, 9.81941304e-01],\n",
       "       [4.18254876e-01, 5.81745124e-01],\n",
       "       [6.60742806e-01, 3.39257194e-01],\n",
       "       [1.24634382e-01, 8.75365618e-01],\n",
       "       [1.47143890e-02, 9.85285611e-01],\n",
       "       [5.11479541e-01, 4.88520459e-01],\n",
       "       [3.56962689e-02, 9.64303731e-01],\n",
       "       [2.11488946e-03, 9.97885111e-01],\n",
       "       [1.93398810e-01, 8.06601190e-01],\n",
       "       [8.04674192e-01, 1.95325808e-01],\n",
       "       [9.95972676e-01, 4.02732442e-03],\n",
       "       [1.06634404e-01, 8.93365596e-01],\n",
       "       [9.43786816e-01, 5.62131835e-02],\n",
       "       [4.89199777e-01, 5.10800223e-01],\n",
       "       [3.68886163e-03, 9.96311138e-01],\n",
       "       [2.47953923e-01, 7.52046077e-01],\n",
       "       [9.89855907e-01, 1.01440930e-02],\n",
       "       [2.99778280e-01, 7.00221720e-01],\n",
       "       [1.49290725e-01, 8.50709275e-01],\n",
       "       [8.46347720e-01, 1.53652280e-01],\n",
       "       [8.89192050e-02, 9.11080795e-01],\n",
       "       [1.57227791e-01, 8.42772209e-01],\n",
       "       [1.74318575e-01, 8.25681425e-01],\n",
       "       [8.80340565e-01, 1.19659435e-01],\n",
       "       [1.78165781e-01, 8.21834219e-01],\n",
       "       [9.58447942e-01, 4.15520583e-02],\n",
       "       [1.82927053e-01, 8.17072947e-01],\n",
       "       [3.08143133e-01, 6.91856867e-01],\n",
       "       [6.38787685e-01, 3.61212315e-01],\n",
       "       [9.99464740e-01, 5.35260422e-04],\n",
       "       [6.81949795e-01, 3.18050205e-01],\n",
       "       [9.40327619e-01, 5.96723814e-02],\n",
       "       [2.45706665e-02, 9.75429333e-01],\n",
       "       [9.49426177e-01, 5.05738232e-02],\n",
       "       [5.10102961e-01, 4.89897039e-01],\n",
       "       [2.09407095e-02, 9.79059290e-01],\n",
       "       [1.89735900e-01, 8.10264100e-01],\n",
       "       [2.50072722e-01, 7.49927278e-01],\n",
       "       [6.29969197e-02, 9.37003080e-01],\n",
       "       [4.69214574e-01, 5.30785426e-01],\n",
       "       [2.72546571e-01, 7.27453429e-01],\n",
       "       [3.53127982e-01, 6.46872018e-01],\n",
       "       [1.10268722e-01, 8.89731278e-01],\n",
       "       [2.53329749e-01, 7.46670251e-01],\n",
       "       [3.79820816e-01, 6.20179184e-01],\n",
       "       [4.72956060e-01, 5.27043940e-01],\n",
       "       [7.52045847e-02, 9.24795415e-01],\n",
       "       [1.09483865e-01, 8.90516135e-01],\n",
       "       [4.10990617e-02, 9.58900938e-01],\n",
       "       [9.73469080e-01, 2.65309195e-02],\n",
       "       [8.77351859e-01, 1.22648141e-01],\n",
       "       [8.55499412e-01, 1.44500588e-01],\n",
       "       [8.28175521e-01, 1.71824479e-01],\n",
       "       [5.27991784e-01, 4.72008216e-01],\n",
       "       [2.88422706e-01, 7.11577294e-01],\n",
       "       [4.89229411e-02, 9.51077059e-01],\n",
       "       [6.54275480e-01, 3.45724520e-01],\n",
       "       [6.32279932e-03, 9.93677201e-01],\n",
       "       [6.60612247e-02, 9.33938775e-01],\n",
       "       [9.71219739e-01, 2.87802605e-02],\n",
       "       [4.74813903e-01, 5.25186097e-01],\n",
       "       [5.59154987e-01, 4.40845013e-01],\n",
       "       [9.92049335e-01, 7.95066486e-03],\n",
       "       [6.59279772e-01, 3.40720228e-01],\n",
       "       [1.45328440e-02, 9.85467156e-01],\n",
       "       [4.87889157e-01, 5.12110843e-01],\n",
       "       [7.91127194e-01, 2.08872806e-01],\n",
       "       [9.05737691e-01, 9.42623089e-02],\n",
       "       [9.41914184e-01, 5.80858160e-02],\n",
       "       [3.85752631e-01, 6.14247369e-01],\n",
       "       [3.41800762e-03, 9.96581992e-01],\n",
       "       [6.27277148e-03, 9.93727229e-01],\n",
       "       [6.85312408e-01, 3.14687592e-01],\n",
       "       [3.20138298e-01, 6.79861702e-01],\n",
       "       [1.99006666e-03, 9.98009933e-01],\n",
       "       [7.75528679e-02, 9.22447132e-01],\n",
       "       [1.99451870e-01, 8.00548130e-01],\n",
       "       [9.45892854e-02, 9.05410715e-01],\n",
       "       [2.36682182e-01, 7.63317818e-01],\n",
       "       [4.80264803e-01, 5.19735197e-01],\n",
       "       [9.67428720e-01, 3.25712800e-02],\n",
       "       [9.84179753e-01, 1.58202475e-02],\n",
       "       [6.96309575e-01, 3.03690425e-01],\n",
       "       [4.89036651e-02, 9.51096335e-01],\n",
       "       [4.96886104e-04, 9.99503114e-01],\n",
       "       [1.87135642e-01, 8.12864358e-01],\n",
       "       [5.75199290e-02, 9.42480071e-01],\n",
       "       [7.54606280e-01, 2.45393720e-01],\n",
       "       [1.61045556e-01, 8.38954444e-01],\n",
       "       [9.06875414e-04, 9.99093125e-01],\n",
       "       [5.24049096e-02, 9.47595090e-01],\n",
       "       [5.50545733e-01, 4.49454267e-01],\n",
       "       [1.78572306e-02, 9.82142769e-01],\n",
       "       [7.68634359e-01, 2.31365641e-01],\n",
       "       [5.26482206e-01, 4.73517794e-01],\n",
       "       [8.78893370e-03, 9.91211066e-01],\n",
       "       [1.78278991e-01, 8.21721009e-01],\n",
       "       [9.50161842e-01, 4.98381578e-02],\n",
       "       [3.00624102e-01, 6.99375898e-01],\n",
       "       [2.06322587e-01, 7.93677413e-01],\n",
       "       [2.10843006e-01, 7.89156994e-01],\n",
       "       [4.23571763e-01, 5.76428237e-01],\n",
       "       [4.09363289e-01, 5.90636711e-01],\n",
       "       [8.09510293e-02, 9.19048971e-01],\n",
       "       [4.04206687e-01, 5.95793313e-01],\n",
       "       [8.63368843e-01, 1.36631157e-01],\n",
       "       [5.08905615e-01, 4.91094385e-01],\n",
       "       [2.48788665e-01, 7.51211335e-01],\n",
       "       [1.08902832e-01, 8.91097168e-01],\n",
       "       [4.15044424e-01, 5.84955576e-01],\n",
       "       [1.11782651e-03, 9.98882173e-01],\n",
       "       [1.44559015e-03, 9.98554410e-01],\n",
       "       [1.61286462e-01, 8.38713538e-01],\n",
       "       [5.17223086e-01, 4.82776914e-01],\n",
       "       [2.21422512e-03, 9.97785775e-01],\n",
       "       [8.28219319e-01, 1.71780681e-01],\n",
       "       [9.72134973e-01, 2.78650271e-02],\n",
       "       [9.83789417e-02, 9.01621058e-01],\n",
       "       [1.74202189e-01, 8.25797811e-01],\n",
       "       [4.26712359e-01, 5.73287641e-01],\n",
       "       [3.37731651e-02, 9.66226835e-01],\n",
       "       [8.86169387e-02, 9.11383061e-01],\n",
       "       [7.58647121e-02, 9.24135288e-01],\n",
       "       [9.42346967e-01, 5.76530334e-02],\n",
       "       [4.61596097e-01, 5.38403903e-01],\n",
       "       [3.08901945e-01, 6.91098055e-01],\n",
       "       [9.97165277e-03, 9.90028347e-01],\n",
       "       [3.90967743e-01, 6.09032257e-01],\n",
       "       [4.04427337e-01, 5.95572663e-01],\n",
       "       [2.51055411e-01, 7.48944589e-01],\n",
       "       [2.29495082e-01, 7.70504918e-01],\n",
       "       [9.95969613e-01, 4.03038658e-03],\n",
       "       [1.04060965e-02, 9.89593904e-01],\n",
       "       [3.31645747e-01, 6.68354253e-01],\n",
       "       [9.33682127e-01, 6.63178728e-02],\n",
       "       [8.86270130e-01, 1.13729870e-01],\n",
       "       [3.87009796e-01, 6.12990204e-01],\n",
       "       [4.63283264e-01, 5.36716736e-01],\n",
       "       [2.62439085e-03, 9.97375609e-01],\n",
       "       [9.21238305e-01, 7.87616947e-02],\n",
       "       [2.15146782e-03, 9.97848532e-01],\n",
       "       [8.67675905e-02, 9.13232410e-01],\n",
       "       [9.29032968e-02, 9.07096703e-01],\n",
       "       [1.33322808e-02, 9.86667719e-01],\n",
       "       [8.51032427e-01, 1.48967573e-01],\n",
       "       [9.76776363e-01, 2.32236366e-02],\n",
       "       [1.20077071e-03, 9.98799229e-01],\n",
       "       [7.38209033e-01, 2.61790967e-01],\n",
       "       [5.31075807e-02, 9.46892419e-01],\n",
       "       [4.26898134e-01, 5.73101866e-01],\n",
       "       [4.80135126e-01, 5.19864874e-01],\n",
       "       [2.69579588e-03, 9.97304204e-01],\n",
       "       [1.99360396e-01, 8.00639604e-01],\n",
       "       [2.57883574e-01, 7.42116426e-01],\n",
       "       [4.56639383e-05, 9.99954336e-01],\n",
       "       [2.49084781e-01, 7.50915219e-01],\n",
       "       [3.65010131e-01, 6.34989869e-01]])"
      ]
     },
     "execution_count": 47,
     "metadata": {},
     "output_type": "execute_result"
    }
   ],
   "source": [
    "# predict insurance claim probability\n",
    "logReg.predict_proba(X_test)"
   ]
  },
  {
   "cell_type": "code",
   "execution_count": 49,
   "metadata": {},
   "outputs": [
    {
     "data": {
      "text/plain": [
       "Text(0.5, 0, 'Importance')"
      ]
     },
     "execution_count": 49,
     "metadata": {},
     "output_type": "execute_result"
    },
    {
     "data": {
      "image/png": "[encoded data removed]",
      "text/plain": [
       "<Figure size 792x432 with 1 Axes>"
      ]
     },
     "metadata": {},
     "output_type": "display_data"
    }
   ],
   "source": [
    "#  Different features vs Insurance Claim behaviour\n",
    "labels = list(X)\n",
    "coeff = list(logReg.coef_[0])\n",
    "\n",
    "features = pd.DataFrame()\n",
    "features['Features'] = labels\n",
    "features['importance'] = coeff\n",
    "features.sort_values(by=['importance'], ascending=True, inplace=True)\n",
    "features['positive'] = features['importance'] > 0\n",
    "features.set_index('Features', inplace=True)\n",
    "features.importance.plot(kind='barh', figsize=(11, 6),color = features.positive.map({True: 'blue', False: 'red'}))\n",
    "plt.xlabel('Importance')"
   ]
  },
  {
   "cell_type": "code",
   "execution_count": null,
   "metadata": {},
   "outputs": [],
   "source": []
  },
  {
   "cell_type": "code",
   "execution_count": null,
   "metadata": {},
   "outputs": [],
   "source": []
  }
 ],
 "metadata": {
  "kernelspec": {
   "display_name": "Python 3",
   "language": "python",
   "name": "python3"
  },
  "language_info": {
   "codemirror_mode": {
    "name": "ipython",
    "version": 3
   },
   "file_extension": ".py",
   "mimetype": "text/x-python",
   "name": "python",
   "nbconvert_exporter": "python",
   "pygments_lexer": "ipython3",
   "version": "3.8.3"
  }
 },
 "nbformat": 4,
 "nbformat_minor": 4
}

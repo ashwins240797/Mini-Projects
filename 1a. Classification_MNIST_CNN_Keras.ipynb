{
 "cells": [
  {
   "cell_type": "markdown",
   "metadata": {
    "colab_type": "text",
    "id": "zzxDzUlzlaTC"
   },
   "source": [
    "### Load tensorflow"
   ]
  },
  {
   "cell_type": "code",
   "execution_count": 1,
   "metadata": {
    "colab": {},
    "colab_type": "code",
    "executionInfo": {
     "elapsed": 1741,
     "status": "ok",
     "timestamp": 1600597750972,
     "user": {
      "displayName": "Sayan Dey",
      "photoUrl": "https://lh3.googleusercontent.com/a-/AOh14Gh0tYuahicdtu0ngYhiTohPNVHqEWKVjhIXb2sx=s64",
      "userId": "07932039372029331807"
     },
     "user_tz": -330
    },
    "id": "dBKP8ZyjVnUk"
   },
   "outputs": [],
   "source": [
    "import numpy as np\n",
    "#np.random.seed(42)"
   ]
  },
  {
   "cell_type": "code",
   "execution_count": 2,
   "metadata": {
    "colab": {},
    "colab_type": "code",
    "executionInfo": {
     "elapsed": 1775,
     "status": "ok",
     "timestamp": 1600597763343,
     "user": {
      "displayName": "Sayan Dey",
      "photoUrl": "https://lh3.googleusercontent.com/a-/AOh14Gh0tYuahicdtu0ngYhiTohPNVHqEWKVjhIXb2sx=s64",
      "userId": "07932039372029331807"
     },
     "user_tz": -330
    },
    "id": "QRSjlO8YlaTD"
   },
   "outputs": [],
   "source": [
    "import tensorflow as tf"
   ]
  },
  {
   "cell_type": "markdown",
   "metadata": {
    "colab_type": "text",
    "id": "Q1Z5_xYClaTH"
   },
   "source": [
    "### Collect Data"
   ]
  },
  {
   "cell_type": "code",
   "execution_count": 3,
   "metadata": {
    "colab": {
     "base_uri": "https://localhost:8080/",
     "height": 51
    },
    "colab_type": "code",
    "executionInfo": {
     "elapsed": 2030,
     "status": "ok",
     "timestamp": 1600597763942,
     "user": {
      "displayName": "Sayan Dey",
      "photoUrl": "https://lh3.googleusercontent.com/a-/AOh14Gh0tYuahicdtu0ngYhiTohPNVHqEWKVjhIXb2sx=s64",
      "userId": "07932039372029331807"
     },
     "user_tz": -330
    },
    "id": "6AOgxO3AlaTI",
    "outputId": "58ad2e25-9626-4b20-db4c-8579231f7164"
   },
   "outputs": [],
   "source": [
    "(trainX, trainY),(testX, testY) = tf.keras.datasets.mnist.load_data()"
   ]
  },
  {
   "cell_type": "code",
   "execution_count": 4,
   "metadata": {
    "colab": {
     "base_uri": "https://localhost:8080/",
     "height": 34
    },
    "colab_type": "code",
    "executionInfo": {
     "elapsed": 1917,
     "status": "ok",
     "timestamp": 1600597763944,
     "user": {
      "displayName": "Sayan Dey",
      "photoUrl": "https://lh3.googleusercontent.com/a-/AOh14Gh0tYuahicdtu0ngYhiTohPNVHqEWKVjhIXb2sx=s64",
      "userId": "07932039372029331807"
     },
     "user_tz": -330
    },
    "id": "RkKWEr9ZlaTN",
    "outputId": "eca49b7b-48a5-4e6a-dee0-afa2e3855112"
   },
   "outputs": [
    {
     "data": {
      "text/plain": [
       "(60000, 28, 28)"
      ]
     },
     "execution_count": 4,
     "metadata": {},
     "output_type": "execute_result"
    }
   ],
   "source": [
    "trainX.shape"
   ]
  },
  {
   "cell_type": "markdown",
   "metadata": {
    "colab_type": "text",
    "id": "BZtz_GoBlaTQ"
   },
   "source": [
    "### Convert Output label to multiple values"
   ]
  },
  {
   "cell_type": "code",
   "execution_count": 5,
   "metadata": {
    "colab": {},
    "colab_type": "code",
    "executionInfo": {
     "elapsed": 1244,
     "status": "ok",
     "timestamp": 1600597763947,
     "user": {
      "displayName": "Sayan Dey",
      "photoUrl": "https://lh3.googleusercontent.com/a-/AOh14Gh0tYuahicdtu0ngYhiTohPNVHqEWKVjhIXb2sx=s64",
      "userId": "07932039372029331807"
     },
     "user_tz": -330
    },
    "id": "fltHpNSTlaTR"
   },
   "outputs": [],
   "source": [
    "trainY = tf.keras.utils.to_categorical(trainY, num_classes=10)\n",
    "testY = tf.keras.utils.to_categorical(testY, num_classes=10)"
   ]
  },
  {
   "cell_type": "markdown",
   "metadata": {
    "colab_type": "text",
    "id": "zyLCiNu2laTT"
   },
   "source": [
    "## Build the Graph"
   ]
  },
  {
   "cell_type": "code",
   "execution_count": 6,
   "metadata": {
    "colab": {},
    "colab_type": "code",
    "executionInfo": {
     "elapsed": 1345,
     "status": "ok",
     "timestamp": 1600597788027,
     "user": {
      "displayName": "Sayan Dey",
      "photoUrl": "https://lh3.googleusercontent.com/a-/AOh14Gh0tYuahicdtu0ngYhiTohPNVHqEWKVjhIXb2sx=s64",
      "userId": "07932039372029331807"
     },
     "user_tz": -330
    },
    "id": "oyFnCvrDlaTV"
   },
   "outputs": [],
   "source": [
    "tf.keras.backend.clear_session()\n",
    "#Initialize model, reshape & normalize data\n",
    "model = tf.keras.models.Sequential()\n",
    "\n",
    "#Reshape data from 2D (28,28) to 3D (28, 28, 1)\n",
    "model.add(tf.keras.layers.Reshape((28,28,1),input_shape=(28,28,)))\n",
    "\n",
    "#normalize data\n",
    "model.add(tf.keras.layers.BatchNormalization())"
   ]
  },
  {
   "cell_type": "markdown",
   "metadata": {
    "colab_type": "text",
    "id": "ty3W8cr2laTX"
   },
   "source": [
    "### Apply Convolutional Layers, MaxPooling"
   ]
  },
  {
   "cell_type": "code",
   "execution_count": 7,
   "metadata": {
    "colab": {},
    "colab_type": "code",
    "executionInfo": {
     "elapsed": 1356,
     "status": "ok",
     "timestamp": 1600597789683,
     "user": {
      "displayName": "Sayan Dey",
      "photoUrl": "https://lh3.googleusercontent.com/a-/AOh14Gh0tYuahicdtu0ngYhiTohPNVHqEWKVjhIXb2sx=s64",
      "userId": "07932039372029331807"
     },
     "user_tz": -330
    },
    "id": "lGBw31K3laTY"
   },
   "outputs": [],
   "source": [
    "#Add first convolutional layer\n",
    "model.add(tf.keras.layers.Conv2D(32, #Number of filters \n",
    "                                 kernel_size=(3,3), #Size of the filter\n",
    "                                 activation='relu'))\n",
    "\n",
    "#Add second convolutional layer\n",
    "model.add(tf.keras.layers.Conv2D(64, kernel_size=(3,3), activation='relu'))\n",
    "\n",
    "#Add MaxPooling layer\n",
    "model.add(tf.keras.layers.MaxPool2D(pool_size=(2,2)))"
   ]
  },
  {
   "cell_type": "markdown",
   "metadata": {
    "colab_type": "text",
    "id": "I2R3PieRlaTb"
   },
   "source": [
    "### Add layers for Classification"
   ]
  },
  {
   "cell_type": "code",
   "execution_count": 8,
   "metadata": {
    "colab": {},
    "colab_type": "code",
    "executionInfo": {
     "elapsed": 755,
     "status": "ok",
     "timestamp": 1600597790113,
     "user": {
      "displayName": "Sayan Dey",
      "photoUrl": "https://lh3.googleusercontent.com/a-/AOh14Gh0tYuahicdtu0ngYhiTohPNVHqEWKVjhIXb2sx=s64",
      "userId": "07932039372029331807"
     },
     "user_tz": -330
    },
    "id": "mN05mk8hlaTc"
   },
   "outputs": [],
   "source": [
    "#Flatten the output\n",
    "model.add(tf.keras.layers.Flatten())\n",
    "\n",
    "#Dense layer\n",
    "model.add(tf.keras.layers.Dense(128, activation='relu'))\n",
    "\n",
    "#Add another dropout layer\n",
    "model.add(tf.keras.layers.Dropout(0.25))\n",
    "\n",
    "#Output layer\n",
    "model.add(tf.keras.layers.Dense(10, activation='softmax'))"
   ]
  },
  {
   "cell_type": "code",
   "execution_count": 9,
   "metadata": {
    "colab": {},
    "colab_type": "code",
    "executionInfo": {
     "elapsed": 1171,
     "status": "ok",
     "timestamp": 1600597791924,
     "user": {
      "displayName": "Sayan Dey",
      "photoUrl": "https://lh3.googleusercontent.com/a-/AOh14Gh0tYuahicdtu0ngYhiTohPNVHqEWKVjhIXb2sx=s64",
      "userId": "07932039372029331807"
     },
     "user_tz": -330
    },
    "id": "mm1fHVpklaTf"
   },
   "outputs": [],
   "source": [
    "model.compile(optimizer='adam', \n",
    "              loss='categorical_crossentropy', metrics=['accuracy'])"
   ]
  },
  {
   "cell_type": "code",
   "execution_count": 10,
   "metadata": {
    "colab": {
     "base_uri": "https://localhost:8080/",
     "height": 459
    },
    "colab_type": "code",
    "executionInfo": {
     "elapsed": 856,
     "status": "ok",
     "timestamp": 1600597792599,
     "user": {
      "displayName": "Sayan Dey",
      "photoUrl": "https://lh3.googleusercontent.com/a-/AOh14Gh0tYuahicdtu0ngYhiTohPNVHqEWKVjhIXb2sx=s64",
      "userId": "07932039372029331807"
     },
     "user_tz": -330
    },
    "id": "TlREpRGWlaTi",
    "outputId": "b89632ad-9f3e-4c3c-b4f0-3998524e67ac"
   },
   "outputs": [
    {
     "name": "stdout",
     "output_type": "stream",
     "text": [
      "Model: \"sequential\"\n",
      "_________________________________________________________________\n",
      "Layer (type)                 Output Shape              Param #   \n",
      "=================================================================\n",
      "reshape (Reshape)            (None, 28, 28, 1)         0         \n",
      "_________________________________________________________________\n",
      "batch_normalization (BatchNo (None, 28, 28, 1)         4         \n",
      "_________________________________________________________________\n",
      "conv2d (Conv2D)              (None, 26, 26, 32)        320       \n",
      "_________________________________________________________________\n",
      "conv2d_1 (Conv2D)            (None, 24, 24, 64)        18496     \n",
      "_________________________________________________________________\n",
      "max_pooling2d (MaxPooling2D) (None, 12, 12, 64)        0         \n",
      "_________________________________________________________________\n",
      "flatten (Flatten)            (None, 9216)              0         \n",
      "_________________________________________________________________\n",
      "dense (Dense)                (None, 128)               1179776   \n",
      "_________________________________________________________________\n",
      "dropout (Dropout)            (None, 128)               0         \n",
      "_________________________________________________________________\n",
      "dense_1 (Dense)              (None, 10)                1290      \n",
      "=================================================================\n",
      "Total params: 1,199,886\n",
      "Trainable params: 1,199,884\n",
      "Non-trainable params: 2\n",
      "_________________________________________________________________\n"
     ]
    }
   ],
   "source": [
    "model.summary()"
   ]
  },
  {
   "cell_type": "markdown",
   "metadata": {
    "colab_type": "text",
    "id": "4kIsqrNElaTl"
   },
   "source": [
    "## Train the model"
   ]
  },
  {
   "cell_type": "code",
   "execution_count": 11,
   "metadata": {
    "colab": {
     "base_uri": "https://localhost:8080/",
     "height": 374
    },
    "colab_type": "code",
    "executionInfo": {
     "elapsed": 66542,
     "status": "ok",
     "timestamp": 1600597868285,
     "user": {
      "displayName": "Sayan Dey",
      "photoUrl": "https://lh3.googleusercontent.com/a-/AOh14Gh0tYuahicdtu0ngYhiTohPNVHqEWKVjhIXb2sx=s64",
      "userId": "07932039372029331807"
     },
     "user_tz": -330
    },
    "id": "FsJI729klaTo",
    "outputId": "c35a7008-d158-44b5-84dd-21e2077b19ce"
   },
   "outputs": [
    {
     "name": "stdout",
     "output_type": "stream",
     "text": [
      "Epoch 1/10\n",
      "1875/1875 [==============================] - 55s 29ms/step - loss: 0.2584 - accuracy: 0.9182 - val_loss: 0.0519 - val_accuracy: 0.9837\n",
      "Epoch 2/10\n",
      "1875/1875 [==============================] - 53s 28ms/step - loss: 0.0487 - accuracy: 0.9850 - val_loss: 0.0414 - val_accuracy: 0.9875\n",
      "Epoch 3/10\n",
      "1875/1875 [==============================] - 55s 29ms/step - loss: 0.0323 - accuracy: 0.9896 - val_loss: 0.0315 - val_accuracy: 0.9897\n",
      "Epoch 4/10\n",
      "1875/1875 [==============================] - 55s 29ms/step - loss: 0.0240 - accuracy: 0.9919 - val_loss: 0.0309 - val_accuracy: 0.9908\n",
      "Epoch 5/10\n",
      "1875/1875 [==============================] - 53s 28ms/step - loss: 0.0158 - accuracy: 0.9952 - val_loss: 0.0346 - val_accuracy: 0.9901\n",
      "Epoch 6/10\n",
      "1875/1875 [==============================] - 56s 30ms/step - loss: 0.0156 - accuracy: 0.9950 - val_loss: 0.0355 - val_accuracy: 0.9900\n",
      "Epoch 7/10\n",
      "1875/1875 [==============================] - 55s 29ms/step - loss: 0.0112 - accuracy: 0.9961 - val_loss: 0.0323 - val_accuracy: 0.9915\n",
      "Epoch 8/10\n",
      "1875/1875 [==============================] - 53s 28ms/step - loss: 0.0090 - accuracy: 0.9968 - val_loss: 0.0444 - val_accuracy: 0.9900\n",
      "Epoch 9/10\n",
      "1875/1875 [==============================] - 53s 28ms/step - loss: 0.0107 - accuracy: 0.9966 - val_loss: 0.0365 - val_accuracy: 0.9916\n",
      "Epoch 10/10\n",
      "1875/1875 [==============================] - 53s 28ms/step - loss: 0.0072 - accuracy: 0.9975 - val_loss: 0.0404 - val_accuracy: 0.9909\n"
     ]
    },
    {
     "data": {
      "text/plain": [
       "<tensorflow.python.keras.callbacks.History at 0x1fbbea65280>"
      ]
     },
     "execution_count": 11,
     "metadata": {},
     "output_type": "execute_result"
    }
   ],
   "source": [
    "#Train the model\n",
    "model.fit(trainX,trainY,          \n",
    "          validation_data=(testX,testY),\n",
    "          epochs=10,\n",
    "          batch_size=32)"
   ]
  },
  {
   "cell_type": "code",
   "execution_count": null,
   "metadata": {
    "colab": {},
    "colab_type": "code",
    "id": "NaMY7K3GEDp-"
   },
   "outputs": [],
   "source": []
  }
 ],
 "metadata": {
  "accelerator": "GPU",
  "colab": {
   "name": "1a. Classification_MNIST_CNN_Keras.ipynb",
   "provenance": []
  },
  "kernelspec": {
   "display_name": "Python 3",
   "language": "python",
   "name": "python3"
  },
  "language_info": {
   "codemirror_mode": {
    "name": "ipython",
    "version": 3
   },
   "file_extension": ".py",
   "mimetype": "text/x-python",
   "name": "python",
   "nbconvert_exporter": "python",
   "pygments_lexer": "ipython3",
   "version": "3.8.5"
  }
 },
 "nbformat": 4,
 "nbformat_minor": 1
}

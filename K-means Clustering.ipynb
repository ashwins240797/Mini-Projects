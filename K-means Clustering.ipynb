{
 "cells": [
  {
   "cell_type": "code",
   "execution_count": 22,
   "metadata": {},
   "outputs": [],
   "source": [
    "import numpy as np\n",
    "\n",
    "from sklearn.cluster import KMeans\n",
    "\n",
    "# Also import the random sample generator\n",
    "from sklearn.datasets import make_blobs\n",
    "\n",
    "# define the number of samples\n",
    "n_samples = 300\n",
    "\n",
    "# define random stste value to initialize the center\n",
    "random_state = 20"
   ]
  },
  {
   "cell_type": "code",
   "execution_count": 23,
   "metadata": {},
   "outputs": [],
   "source": [
    "# define the number of features as 5\n",
    "X,y = make_blobs(n_samples = n_samples, n_features = 5, random_state =None)"
   ]
  },
  {
   "cell_type": "code",
   "execution_count": 24,
   "metadata": {},
   "outputs": [
    {
     "data": {
      "text/plain": [
       "array([0, 0, 2, 0, 0, 0, 0, 2, 0, 0, 0, 0, 1, 1, 0, 2, 2, 2, 1, 1, 0, 2,\n",
       "       2, 0, 2, 0, 2, 0, 1, 2, 0, 0, 1, 2, 2, 2, 1, 2, 1, 2, 1, 2, 2, 2,\n",
       "       2, 0, 1, 0, 0, 1, 1, 0, 1, 1, 2, 0, 2, 0, 2, 1, 1, 1, 0, 0, 0, 2,\n",
       "       1, 2, 2, 2, 0, 2, 0, 1, 1, 1, 2, 1, 1, 2, 2, 2, 1, 0, 1, 2, 1, 1,\n",
       "       2, 2, 2, 2, 0, 1, 2, 2, 0, 1, 0, 0, 2, 1, 0, 0, 2, 0, 2, 2, 0, 2,\n",
       "       0, 0, 0, 1, 2, 0, 1, 0, 1, 2, 0, 1, 1, 0, 2, 0, 2, 2, 2, 0, 0, 2,\n",
       "       2, 1, 1, 2, 0, 0, 1, 1, 2, 0, 0, 0, 2, 1, 2, 1, 1, 1, 1, 0, 1, 1,\n",
       "       0, 2, 1, 0, 1, 1, 2, 0, 0, 2, 2, 2, 1, 1, 0, 1, 0, 2, 2, 1, 2, 0,\n",
       "       0, 1, 0, 2, 2, 1, 2, 2, 1, 0, 1, 1, 0, 1, 2, 0, 1, 0, 0, 1, 0, 0,\n",
       "       1, 2, 1, 1, 1, 0, 0, 2, 2, 0, 1, 2, 2, 2, 0, 1, 2, 2, 2, 1, 0, 0,\n",
       "       1, 2, 2, 2, 1, 1, 2, 1, 2, 0, 0, 0, 1, 1, 1, 0, 1, 2, 0, 1, 2, 1,\n",
       "       2, 0, 1, 0, 1, 2, 0, 1, 2, 1, 0, 1, 0, 2, 0, 2, 0, 2, 0, 2, 1, 0,\n",
       "       1, 1, 1, 1, 1, 1, 2, 1, 1, 0, 0, 2, 1, 1, 1, 1, 0, 2, 2, 0, 2, 0,\n",
       "       1, 0, 2, 1, 0, 2, 2, 0, 1, 2, 1, 0, 0, 0])"
      ]
     },
     "execution_count": 24,
     "metadata": {},
     "output_type": "execute_result"
    }
   ],
   "source": [
    "# define the number of clusters to be formed and in random state fit features into model\n",
    "predict_y = KMeans(n_clusters = 3, random_state = random_state).fit_predict(X)\n",
    "predict_y"
   ]
  },
  {
   "cell_type": "code",
   "execution_count": null,
   "metadata": {},
   "outputs": [],
   "source": []
  },
  {
   "cell_type": "code",
   "execution_count": null,
   "metadata": {},
   "outputs": [],
   "source": []
  }
 ],
 "metadata": {
  "kernelspec": {
   "display_name": "Python 3",
   "language": "python",
   "name": "python3"
  },
  "language_info": {
   "codemirror_mode": {
    "name": "ipython",
    "version": 3
   },
   "file_extension": ".py",
   "mimetype": "text/x-python",
   "name": "python",
   "nbconvert_exporter": "python",
   "pygments_lexer": "ipython3",
   "version": "3.8.3"
  }
 },
 "nbformat": 4,
 "nbformat_minor": 4
}

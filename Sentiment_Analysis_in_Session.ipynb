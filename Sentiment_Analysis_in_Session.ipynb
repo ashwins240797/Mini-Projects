{
 "cells": [
  {
   "cell_type": "markdown",
   "metadata": {},
   "source": [
    "# <font color=green>Sentiment Analysis</font>"
   ]
  },
  {
   "cell_type": "markdown",
   "metadata": {},
   "source": [
    "# <font color=orange>Click bellow for redirecting to repsective pages</font>"
   ]
  },
  {
   "cell_type": "markdown",
   "metadata": {},
   "source": [
    "1. [Exploring the dataset](#Exploring-the-dataset)\n",
    "\n",
    "   \n",
    "2. [Conversion of text to Cross Sectional Data](#Conversion-of-text-to-Cross-Sectional-Data)\n",
    "\n",
    "\n",
    "3. [Naive Bayes Model](#Naive-Bayes-Model)"
   ]
  },
  {
   "cell_type": "markdown",
   "metadata": {},
   "source": [
    "### Load the data \n",
    "\n",
    "##### 1 is positive Review and 0 is Negative Review"
   ]
  },
  {
   "cell_type": "code",
   "execution_count": 48,
   "metadata": {},
   "outputs": [],
   "source": [
    "import pandas as pd\n",
    "import numpy as np\n",
    "import warnings\n",
    "warnings.filterwarnings('ignore')\n",
    "train_ds = pd.read_csv( \"data_for_sentiment_analysis\", delimiter=\"\\t\" )"
   ]
  },
  {
   "cell_type": "code",
   "execution_count": 49,
   "metadata": {},
   "outputs": [
    {
     "data": {
      "text/html": [
       "<div>\n",
       "<style scoped>\n",
       "    .dataframe tbody tr th:only-of-type {\n",
       "        vertical-align: middle;\n",
       "    }\n",
       "\n",
       "    .dataframe tbody tr th {\n",
       "        vertical-align: top;\n",
       "    }\n",
       "\n",
       "    .dataframe thead th {\n",
       "        text-align: right;\n",
       "    }\n",
       "</style>\n",
       "<table border=\"1\" class=\"dataframe\">\n",
       "  <thead>\n",
       "    <tr style=\"text-align: right;\">\n",
       "      <th></th>\n",
       "      <th>sentiment</th>\n",
       "      <th>text</th>\n",
       "    </tr>\n",
       "  </thead>\n",
       "  <tbody>\n",
       "    <tr>\n",
       "      <th>0</th>\n",
       "      <td>1</td>\n",
       "      <td>The Da Vinci Code book is just awesome.</td>\n",
       "    </tr>\n",
       "    <tr>\n",
       "      <th>1</th>\n",
       "      <td>1</td>\n",
       "      <td>this was the first clive cussler i've ever rea...</td>\n",
       "    </tr>\n",
       "    <tr>\n",
       "      <th>2</th>\n",
       "      <td>1</td>\n",
       "      <td>i liked the Da Vinci Code a lot.</td>\n",
       "    </tr>\n",
       "    <tr>\n",
       "      <th>3</th>\n",
       "      <td>1</td>\n",
       "      <td>i liked the Da Vinci Code a lot.</td>\n",
       "    </tr>\n",
       "    <tr>\n",
       "      <th>4</th>\n",
       "      <td>1</td>\n",
       "      <td>I liked the Da Vinci Code but it ultimatly did...</td>\n",
       "    </tr>\n",
       "  </tbody>\n",
       "</table>\n",
       "</div>"
      ],
      "text/plain": [
       "   sentiment                                               text\n",
       "0          1            The Da Vinci Code book is just awesome.\n",
       "1          1  this was the first clive cussler i've ever rea...\n",
       "2          1                   i liked the Da Vinci Code a lot.\n",
       "3          1                   i liked the Da Vinci Code a lot.\n",
       "4          1  I liked the Da Vinci Code but it ultimatly did..."
      ]
     },
     "execution_count": 49,
     "metadata": {},
     "output_type": "execute_result"
    }
   ],
   "source": [
    "train_ds.head()"
   ]
  },
  {
   "cell_type": "code",
   "execution_count": 50,
   "metadata": {},
   "outputs": [
    {
     "data": {
      "text/html": [
       "<div>\n",
       "<style scoped>\n",
       "    .dataframe tbody tr th:only-of-type {\n",
       "        vertical-align: middle;\n",
       "    }\n",
       "\n",
       "    .dataframe tbody tr th {\n",
       "        vertical-align: top;\n",
       "    }\n",
       "\n",
       "    .dataframe thead th {\n",
       "        text-align: right;\n",
       "    }\n",
       "</style>\n",
       "<table border=\"1\" class=\"dataframe\">\n",
       "  <thead>\n",
       "    <tr style=\"text-align: right;\">\n",
       "      <th></th>\n",
       "      <th>sentiment</th>\n",
       "      <th>text</th>\n",
       "    </tr>\n",
       "  </thead>\n",
       "  <tbody>\n",
       "    <tr>\n",
       "      <th>0</th>\n",
       "      <td>1</td>\n",
       "      <td>The Da Vinci Code book is just awesome.</td>\n",
       "    </tr>\n",
       "    <tr>\n",
       "      <th>1</th>\n",
       "      <td>1</td>\n",
       "      <td>this was the first clive cussler i've ever rea...</td>\n",
       "    </tr>\n",
       "    <tr>\n",
       "      <th>2</th>\n",
       "      <td>1</td>\n",
       "      <td>i liked the Da Vinci Code a lot.</td>\n",
       "    </tr>\n",
       "    <tr>\n",
       "      <th>3</th>\n",
       "      <td>1</td>\n",
       "      <td>i liked the Da Vinci Code a lot.</td>\n",
       "    </tr>\n",
       "    <tr>\n",
       "      <th>4</th>\n",
       "      <td>1</td>\n",
       "      <td>I liked the Da Vinci Code but it ultimatly did...</td>\n",
       "    </tr>\n",
       "  </tbody>\n",
       "</table>\n",
       "</div>"
      ],
      "text/plain": [
       "   sentiment                                               text\n",
       "0          1            The Da Vinci Code book is just awesome.\n",
       "1          1  this was the first clive cussler i've ever rea...\n",
       "2          1                   i liked the Da Vinci Code a lot.\n",
       "3          1                   i liked the Da Vinci Code a lot.\n",
       "4          1  I liked the Da Vinci Code but it ultimatly did..."
      ]
     },
     "execution_count": 50,
     "metadata": {},
     "output_type": "execute_result"
    }
   ],
   "source": [
    "train_ds[train_ds.sentiment == 1][0:5]"
   ]
  },
  {
   "cell_type": "code",
   "execution_count": 51,
   "metadata": {},
   "outputs": [
    {
     "data": {
      "text/html": [
       "<div>\n",
       "<style scoped>\n",
       "    .dataframe tbody tr th:only-of-type {\n",
       "        vertical-align: middle;\n",
       "    }\n",
       "\n",
       "    .dataframe tbody tr th {\n",
       "        vertical-align: top;\n",
       "    }\n",
       "\n",
       "    .dataframe thead th {\n",
       "        text-align: right;\n",
       "    }\n",
       "</style>\n",
       "<table border=\"1\" class=\"dataframe\">\n",
       "  <thead>\n",
       "    <tr style=\"text-align: right;\">\n",
       "      <th></th>\n",
       "      <th>sentiment</th>\n",
       "      <th>text</th>\n",
       "    </tr>\n",
       "  </thead>\n",
       "  <tbody>\n",
       "    <tr>\n",
       "      <th>3943</th>\n",
       "      <td>0</td>\n",
       "      <td>da vinci code was a terrible movie.</td>\n",
       "    </tr>\n",
       "    <tr>\n",
       "      <th>3944</th>\n",
       "      <td>0</td>\n",
       "      <td>Then again, the Da Vinci code is super shitty ...</td>\n",
       "    </tr>\n",
       "    <tr>\n",
       "      <th>3945</th>\n",
       "      <td>0</td>\n",
       "      <td>The Da Vinci Code comes out tomorrow, which su...</td>\n",
       "    </tr>\n",
       "    <tr>\n",
       "      <th>3946</th>\n",
       "      <td>0</td>\n",
       "      <td>i thought the da vinci code movie was really b...</td>\n",
       "    </tr>\n",
       "    <tr>\n",
       "      <th>3947</th>\n",
       "      <td>0</td>\n",
       "      <td>God, Yahoo Games has this truly-awful looking ...</td>\n",
       "    </tr>\n",
       "  </tbody>\n",
       "</table>\n",
       "</div>"
      ],
      "text/plain": [
       "      sentiment                                               text\n",
       "3943          0                da vinci code was a terrible movie.\n",
       "3944          0  Then again, the Da Vinci code is super shitty ...\n",
       "3945          0  The Da Vinci Code comes out tomorrow, which su...\n",
       "3946          0  i thought the da vinci code movie was really b...\n",
       "3947          0  God, Yahoo Games has this truly-awful looking ..."
      ]
     },
     "execution_count": 51,
     "metadata": {},
     "output_type": "execute_result"
    }
   ],
   "source": [
    "train_ds[train_ds.sentiment == 0][0:5]"
   ]
  },
  {
   "cell_type": "markdown",
   "metadata": {},
   "source": [
    "# Exploring the dataset"
   ]
  },
  {
   "cell_type": "code",
   "execution_count": 52,
   "metadata": {},
   "outputs": [
    {
     "name": "stdout",
     "output_type": "stream",
     "text": [
      "<class 'pandas.core.frame.DataFrame'>\n",
      "RangeIndex: 6918 entries, 0 to 6917\n",
      "Data columns (total 2 columns):\n",
      "sentiment    6918 non-null int64\n",
      "text         6918 non-null object\n",
      "dtypes: int64(1), object(1)\n",
      "memory usage: 108.2+ KB\n"
     ]
    }
   ],
   "source": [
    "train_ds.info()"
   ]
  },
  {
   "cell_type": "code",
   "execution_count": 53,
   "metadata": {},
   "outputs": [
    {
     "data": {
      "text/plain": [
       "<Figure size 432x360 with 0 Axes>"
      ]
     },
     "execution_count": 53,
     "metadata": {},
     "output_type": "execute_result"
    },
    {
     "data": {
      "text/plain": [
       "<Figure size 432x360 with 0 Axes>"
      ]
     },
     "metadata": {},
     "output_type": "display_data"
    }
   ],
   "source": [
    "import matplotlib.pyplot as plt\n",
    "import seaborn as sn\n",
    "%matplotlib inline\n",
    "plt.figure( figsize=(6,5))"
   ]
  },
  {
   "cell_type": "code",
   "execution_count": 54,
   "metadata": {},
   "outputs": [
    {
     "data": {
      "image/png": "[encoded data removed]",
      "text/plain": [
       "<Figure size 432x288 with 1 Axes>"
      ]
     },
     "metadata": {
      "needs_background": "light"
     },
     "output_type": "display_data"
    }
   ],
   "source": [
    "# create count plot\n",
    "ax = sn.countplot(x='sentiment', data=train_ds)\n",
    "# annotate\n",
    "for p in ax.patches:\n",
    "    ax.annotate(p.get_height(), (p.get_x()+0.1, p.get_height()+50))"
   ]
  },
  {
   "cell_type": "code",
   "execution_count": 55,
   "metadata": {},
   "outputs": [],
   "source": [
    "review_volume = train_ds[\"sentiment\"].value_counts()"
   ]
  },
  {
   "cell_type": "code",
   "execution_count": 56,
   "metadata": {},
   "outputs": [
    {
     "data": {
      "text/plain": [
       "43.00375831165076"
      ]
     },
     "execution_count": 56,
     "metadata": {},
     "output_type": "execute_result"
    }
   ],
   "source": [
    "(review_volume[0]/train_ds.shape[0])*100"
   ]
  },
  {
   "cell_type": "code",
   "execution_count": 57,
   "metadata": {},
   "outputs": [
    {
     "data": {
      "text/plain": [
       "56.99624168834924"
      ]
     },
     "execution_count": 57,
     "metadata": {},
     "output_type": "execute_result"
    }
   ],
   "source": [
    "(review_volume[1]/train_ds.shape[0])*100"
   ]
  },
  {
   "cell_type": "markdown",
   "metadata": {},
   "source": [
    "### Inference : The no. of data points for both the catagres are balanced and hence it is good to proceed with Classification"
   ]
  },
  {
   "cell_type": "markdown",
   "metadata": {},
   "source": [
    "# Conversion of text to Cross Sectional Data\n",
    "\n",
    "* Count Vector Model (Bag Of Word)\n",
    "* Term Frequency model\n",
    "* Term Frequency - Inverse Document Frequency (TF-IDF) model\n",
    "* Ngram(s) model"
   ]
  },
  {
   "cell_type": "markdown",
   "metadata": {},
   "source": [
    "### Count Vector Model"
   ]
  },
  {
   "cell_type": "code",
   "execution_count": 58,
   "metadata": {},
   "outputs": [],
   "source": [
    "from sklearn.feature_extraction.text import CountVectorizer\n",
    "\n",
    "# Initialize the CountVectorizer\n",
    "count_vectorizer = CountVectorizer()\n",
    "\n",
    "# Create the dictionary from the corpus\n",
    "feature_vector = count_vectorizer.fit( train_ds.text )"
   ]
  },
  {
   "cell_type": "code",
   "execution_count": 59,
   "metadata": {},
   "outputs": [
    {
     "data": {
      "text/plain": [
       "CountVectorizer(analyzer='word', binary=False, decode_error='strict',\n",
       "                dtype=<class 'numpy.int64'>, encoding='utf-8', input='content',\n",
       "                lowercase=True, max_df=1.0, max_features=None, min_df=1,\n",
       "                ngram_range=(1, 1), preprocessor=None, stop_words=None,\n",
       "                strip_accents=None, token_pattern='(?u)\\\\b\\\\w\\\\w+\\\\b',\n",
       "                tokenizer=None, vocabulary=None)"
      ]
     },
     "execution_count": 59,
     "metadata": {},
     "output_type": "execute_result"
    }
   ],
   "source": [
    "feature_vector"
   ]
  },
  {
   "cell_type": "code",
   "execution_count": 60,
   "metadata": {},
   "outputs": [
    {
     "name": "stdout",
     "output_type": "stream",
     "text": [
      "Total number of features:  2132\n"
     ]
    }
   ],
   "source": [
    "# Get the feature names\n",
    "features = feature_vector.get_feature_names()\n",
    "print( \"Total number of features: \", len(features))"
   ]
  },
  {
   "cell_type": "code",
   "execution_count": 61,
   "metadata": {},
   "outputs": [
    {
     "data": {
      "text/plain": [
       "['could',\n",
       " 'romantic',\n",
       " 'point',\n",
       " 'anywhere',\n",
       " 'generally',\n",
       " 'altogether',\n",
       " 'suppose',\n",
       " 'grand',\n",
       " 'avatar',\n",
       " 'tomorrow']"
      ]
     },
     "execution_count": 61,
     "metadata": {},
     "output_type": "execute_result"
    }
   ],
   "source": [
    "import random\n",
    "random.sample(features, 10)"
   ]
  },
  {
   "cell_type": "code",
   "execution_count": 62,
   "metadata": {},
   "outputs": [
    {
     "data": {
      "text/plain": [
       "scipy.sparse.csr.csr_matrix"
      ]
     },
     "execution_count": 62,
     "metadata": {},
     "output_type": "execute_result"
    }
   ],
   "source": [
    "train_ds_features = count_vectorizer.transform( train_ds.text )\n",
    "type(train_ds_features)"
   ]
  },
  {
   "cell_type": "code",
   "execution_count": 63,
   "metadata": {},
   "outputs": [
    {
     "data": {
      "text/plain": [
       "<6918x2132 sparse matrix of type '<class 'numpy.int64'>'\n",
       "\twith 65398 stored elements in Compressed Sparse Row format>"
      ]
     },
     "execution_count": 63,
     "metadata": {},
     "output_type": "execute_result"
    }
   ],
   "source": [
    "train_ds_features"
   ]
  },
  {
   "cell_type": "markdown",
   "metadata": {},
   "source": [
    "## Displaying Document Vectors"
   ]
  },
  {
   "cell_type": "code",
   "execution_count": 64,
   "metadata": {},
   "outputs": [],
   "source": [
    "# Converting the matrix to a dataframe\n",
    "train_ds_df = pd.DataFrame(train_ds_features.todense())"
   ]
  },
  {
   "cell_type": "code",
   "execution_count": 65,
   "metadata": {},
   "outputs": [],
   "source": [
    "# Setting the column names to the features i.e. words\n",
    "train_ds_df.columns = features"
   ]
  },
  {
   "cell_type": "code",
   "execution_count": 66,
   "metadata": {},
   "outputs": [
    {
     "data": {
      "text/html": [
       "<div>\n",
       "<style scoped>\n",
       "    .dataframe tbody tr th:only-of-type {\n",
       "        vertical-align: middle;\n",
       "    }\n",
       "\n",
       "    .dataframe tbody tr th {\n",
       "        vertical-align: top;\n",
       "    }\n",
       "\n",
       "    .dataframe thead th {\n",
       "        text-align: right;\n",
       "    }\n",
       "</style>\n",
       "<table border=\"1\" class=\"dataframe\">\n",
       "  <thead>\n",
       "    <tr style=\"text-align: right;\">\n",
       "      <th></th>\n",
       "      <th>00</th>\n",
       "      <th>007</th>\n",
       "      <th>10</th>\n",
       "      <th>10pm</th>\n",
       "      <th>12</th>\n",
       "      <th>16</th>\n",
       "      <th>17</th>\n",
       "      <th>1984</th>\n",
       "      <th>1st</th>\n",
       "      <th>200</th>\n",
       "      <th>...</th>\n",
       "      <th>yip</th>\n",
       "      <th>you</th>\n",
       "      <th>young</th>\n",
       "      <th>younger</th>\n",
       "      <th>your</th>\n",
       "      <th>yuck</th>\n",
       "      <th>yuh</th>\n",
       "      <th>zach</th>\n",
       "      <th>zen</th>\n",
       "      <th>µª</th>\n",
       "    </tr>\n",
       "  </thead>\n",
       "  <tbody>\n",
       "    <tr>\n",
       "      <th>0</th>\n",
       "      <td>0</td>\n",
       "      <td>0</td>\n",
       "      <td>0</td>\n",
       "      <td>0</td>\n",
       "      <td>0</td>\n",
       "      <td>0</td>\n",
       "      <td>0</td>\n",
       "      <td>0</td>\n",
       "      <td>0</td>\n",
       "      <td>0</td>\n",
       "      <td>...</td>\n",
       "      <td>0</td>\n",
       "      <td>0</td>\n",
       "      <td>0</td>\n",
       "      <td>0</td>\n",
       "      <td>0</td>\n",
       "      <td>0</td>\n",
       "      <td>0</td>\n",
       "      <td>0</td>\n",
       "      <td>0</td>\n",
       "      <td>0</td>\n",
       "    </tr>\n",
       "    <tr>\n",
       "      <th>1</th>\n",
       "      <td>0</td>\n",
       "      <td>0</td>\n",
       "      <td>0</td>\n",
       "      <td>0</td>\n",
       "      <td>0</td>\n",
       "      <td>0</td>\n",
       "      <td>0</td>\n",
       "      <td>0</td>\n",
       "      <td>0</td>\n",
       "      <td>0</td>\n",
       "      <td>...</td>\n",
       "      <td>0</td>\n",
       "      <td>0</td>\n",
       "      <td>0</td>\n",
       "      <td>0</td>\n",
       "      <td>0</td>\n",
       "      <td>0</td>\n",
       "      <td>0</td>\n",
       "      <td>0</td>\n",
       "      <td>0</td>\n",
       "      <td>0</td>\n",
       "    </tr>\n",
       "    <tr>\n",
       "      <th>2</th>\n",
       "      <td>0</td>\n",
       "      <td>0</td>\n",
       "      <td>0</td>\n",
       "      <td>0</td>\n",
       "      <td>0</td>\n",
       "      <td>0</td>\n",
       "      <td>0</td>\n",
       "      <td>0</td>\n",
       "      <td>0</td>\n",
       "      <td>0</td>\n",
       "      <td>...</td>\n",
       "      <td>0</td>\n",
       "      <td>0</td>\n",
       "      <td>0</td>\n",
       "      <td>0</td>\n",
       "      <td>0</td>\n",
       "      <td>0</td>\n",
       "      <td>0</td>\n",
       "      <td>0</td>\n",
       "      <td>0</td>\n",
       "      <td>0</td>\n",
       "    </tr>\n",
       "    <tr>\n",
       "      <th>3</th>\n",
       "      <td>0</td>\n",
       "      <td>0</td>\n",
       "      <td>0</td>\n",
       "      <td>0</td>\n",
       "      <td>0</td>\n",
       "      <td>0</td>\n",
       "      <td>0</td>\n",
       "      <td>0</td>\n",
       "      <td>0</td>\n",
       "      <td>0</td>\n",
       "      <td>...</td>\n",
       "      <td>0</td>\n",
       "      <td>0</td>\n",
       "      <td>0</td>\n",
       "      <td>0</td>\n",
       "      <td>0</td>\n",
       "      <td>0</td>\n",
       "      <td>0</td>\n",
       "      <td>0</td>\n",
       "      <td>0</td>\n",
       "      <td>0</td>\n",
       "    </tr>\n",
       "    <tr>\n",
       "      <th>4</th>\n",
       "      <td>0</td>\n",
       "      <td>0</td>\n",
       "      <td>0</td>\n",
       "      <td>0</td>\n",
       "      <td>0</td>\n",
       "      <td>0</td>\n",
       "      <td>0</td>\n",
       "      <td>0</td>\n",
       "      <td>0</td>\n",
       "      <td>0</td>\n",
       "      <td>...</td>\n",
       "      <td>0</td>\n",
       "      <td>0</td>\n",
       "      <td>0</td>\n",
       "      <td>0</td>\n",
       "      <td>0</td>\n",
       "      <td>0</td>\n",
       "      <td>0</td>\n",
       "      <td>0</td>\n",
       "      <td>0</td>\n",
       "      <td>0</td>\n",
       "    </tr>\n",
       "  </tbody>\n",
       "</table>\n",
       "<p>5 rows × 2132 columns</p>\n",
       "</div>"
      ],
      "text/plain": [
       "   00  007  10  10pm  12  16  17  1984  1st  200  ...  yip  you  young  \\\n",
       "0   0    0   0     0   0   0   0     0    0    0  ...    0    0      0   \n",
       "1   0    0   0     0   0   0   0     0    0    0  ...    0    0      0   \n",
       "2   0    0   0     0   0   0   0     0    0    0  ...    0    0      0   \n",
       "3   0    0   0     0   0   0   0     0    0    0  ...    0    0      0   \n",
       "4   0    0   0     0   0   0   0     0    0    0  ...    0    0      0   \n",
       "\n",
       "   younger  your  yuck  yuh  zach  zen  µª  \n",
       "0        0     0     0    0     0    0   0  \n",
       "1        0     0     0    0     0    0   0  \n",
       "2        0     0     0    0     0    0   0  \n",
       "3        0     0     0    0     0    0   0  \n",
       "4        0     0     0    0     0    0   0  \n",
       "\n",
       "[5 rows x 2132 columns]"
      ]
     },
     "execution_count": 66,
     "metadata": {},
     "output_type": "execute_result"
    }
   ],
   "source": [
    "train_ds_df.head()"
   ]
  },
  {
   "cell_type": "code",
   "execution_count": 67,
   "metadata": {},
   "outputs": [
    {
     "data": {
      "text/html": [
       "<div>\n",
       "<style scoped>\n",
       "    .dataframe tbody tr th:only-of-type {\n",
       "        vertical-align: middle;\n",
       "    }\n",
       "\n",
       "    .dataframe tbody tr th {\n",
       "        vertical-align: top;\n",
       "    }\n",
       "\n",
       "    .dataframe thead th {\n",
       "        text-align: right;\n",
       "    }\n",
       "</style>\n",
       "<table border=\"1\" class=\"dataframe\">\n",
       "  <thead>\n",
       "    <tr style=\"text-align: right;\">\n",
       "      <th></th>\n",
       "      <th>sentiment</th>\n",
       "      <th>text</th>\n",
       "    </tr>\n",
       "  </thead>\n",
       "  <tbody>\n",
       "    <tr>\n",
       "      <th>0</th>\n",
       "      <td>1</td>\n",
       "      <td>The Da Vinci Code book is just awesome.</td>\n",
       "    </tr>\n",
       "  </tbody>\n",
       "</table>\n",
       "</div>"
      ],
      "text/plain": [
       "   sentiment                                     text\n",
       "0          1  The Da Vinci Code book is just awesome."
      ]
     },
     "execution_count": 67,
     "metadata": {},
     "output_type": "execute_result"
    }
   ],
   "source": [
    "train_ds[0:1]"
   ]
  },
  {
   "cell_type": "code",
   "execution_count": 68,
   "metadata": {},
   "outputs": [
    {
     "data": {
      "text/html": [
       "<div>\n",
       "<style scoped>\n",
       "    .dataframe tbody tr th:only-of-type {\n",
       "        vertical-align: middle;\n",
       "    }\n",
       "\n",
       "    .dataframe tbody tr th {\n",
       "        vertical-align: top;\n",
       "    }\n",
       "\n",
       "    .dataframe thead th {\n",
       "        text-align: right;\n",
       "    }\n",
       "</style>\n",
       "<table border=\"1\" class=\"dataframe\">\n",
       "  <thead>\n",
       "    <tr style=\"text-align: right;\">\n",
       "      <th></th>\n",
       "      <th>away</th>\n",
       "      <th>awesome</th>\n",
       "      <th>awesomely</th>\n",
       "      <th>awesomeness</th>\n",
       "      <th>awesomest</th>\n",
       "      <th>awful</th>\n",
       "      <th>awkward</th>\n",
       "    </tr>\n",
       "  </thead>\n",
       "  <tbody>\n",
       "    <tr>\n",
       "      <th>0</th>\n",
       "      <td>0</td>\n",
       "      <td>1</td>\n",
       "      <td>0</td>\n",
       "      <td>0</td>\n",
       "      <td>0</td>\n",
       "      <td>0</td>\n",
       "      <td>0</td>\n",
       "    </tr>\n",
       "  </tbody>\n",
       "</table>\n",
       "</div>"
      ],
      "text/plain": [
       "   away  awesome  awesomely  awesomeness  awesomest  awful  awkward\n",
       "0     0        1          0            0          0      0        0"
      ]
     },
     "execution_count": 68,
     "metadata": {},
     "output_type": "execute_result"
    }
   ],
   "source": [
    "train_ds_df.iloc[0:1, 150:157]"
   ]
  },
  {
   "cell_type": "markdown",
   "metadata": {},
   "source": [
    "### Removing low frequency words"
   ]
  },
  {
   "cell_type": "code",
   "execution_count": 69,
   "metadata": {},
   "outputs": [
    {
     "data": {
      "text/plain": [
       "array([ 1,  1,  4, ...,  1, 80,  1], dtype=int64)"
      ]
     },
     "execution_count": 69,
     "metadata": {},
     "output_type": "execute_result"
    }
   ],
   "source": [
    "# summing up the occurances of features column wise\n",
    "features_counts = np.sum( train_ds_features.toarray(), axis = 0 )\n",
    "features_counts"
   ]
  },
  {
   "cell_type": "code",
   "execution_count": 70,
   "metadata": {},
   "outputs": [],
   "source": [
    "feature_counts_df = pd.DataFrame( dict( features = features,\n",
    "counts = features_counts ) )"
   ]
  },
  {
   "cell_type": "code",
   "execution_count": 71,
   "metadata": {},
   "outputs": [
    {
     "data": {
      "text/html": [
       "<div>\n",
       "<style scoped>\n",
       "    .dataframe tbody tr th:only-of-type {\n",
       "        vertical-align: middle;\n",
       "    }\n",
       "\n",
       "    .dataframe tbody tr th {\n",
       "        vertical-align: top;\n",
       "    }\n",
       "\n",
       "    .dataframe thead th {\n",
       "        text-align: right;\n",
       "    }\n",
       "</style>\n",
       "<table border=\"1\" class=\"dataframe\">\n",
       "  <thead>\n",
       "    <tr style=\"text-align: right;\">\n",
       "      <th></th>\n",
       "      <th>features</th>\n",
       "      <th>counts</th>\n",
       "    </tr>\n",
       "  </thead>\n",
       "  <tbody>\n",
       "    <tr>\n",
       "      <th>0</th>\n",
       "      <td>00</td>\n",
       "      <td>1</td>\n",
       "    </tr>\n",
       "    <tr>\n",
       "      <th>1</th>\n",
       "      <td>007</td>\n",
       "      <td>1</td>\n",
       "    </tr>\n",
       "    <tr>\n",
       "      <th>2</th>\n",
       "      <td>10</td>\n",
       "      <td>4</td>\n",
       "    </tr>\n",
       "    <tr>\n",
       "      <th>3</th>\n",
       "      <td>10pm</td>\n",
       "      <td>1</td>\n",
       "    </tr>\n",
       "    <tr>\n",
       "      <th>4</th>\n",
       "      <td>12</td>\n",
       "      <td>1</td>\n",
       "    </tr>\n",
       "    <tr>\n",
       "      <th>...</th>\n",
       "      <td>...</td>\n",
       "      <td>...</td>\n",
       "    </tr>\n",
       "    <tr>\n",
       "      <th>2127</th>\n",
       "      <td>yuck</td>\n",
       "      <td>1</td>\n",
       "    </tr>\n",
       "    <tr>\n",
       "      <th>2128</th>\n",
       "      <td>yuh</td>\n",
       "      <td>1</td>\n",
       "    </tr>\n",
       "    <tr>\n",
       "      <th>2129</th>\n",
       "      <td>zach</td>\n",
       "      <td>1</td>\n",
       "    </tr>\n",
       "    <tr>\n",
       "      <th>2130</th>\n",
       "      <td>zen</td>\n",
       "      <td>80</td>\n",
       "    </tr>\n",
       "    <tr>\n",
       "      <th>2131</th>\n",
       "      <td>µª</td>\n",
       "      <td>1</td>\n",
       "    </tr>\n",
       "  </tbody>\n",
       "</table>\n",
       "<p>2132 rows × 2 columns</p>\n",
       "</div>"
      ],
      "text/plain": [
       "     features  counts\n",
       "0          00       1\n",
       "1         007       1\n",
       "2          10       4\n",
       "3        10pm       1\n",
       "4          12       1\n",
       "...       ...     ...\n",
       "2127     yuck       1\n",
       "2128      yuh       1\n",
       "2129     zach       1\n",
       "2130      zen      80\n",
       "2131       µª       1\n",
       "\n",
       "[2132 rows x 2 columns]"
      ]
     },
     "execution_count": 71,
     "metadata": {},
     "output_type": "execute_result"
    }
   ],
   "source": [
    "feature_counts_df"
   ]
  },
  {
   "cell_type": "code",
   "execution_count": 72,
   "metadata": {},
   "outputs": [
    {
     "data": {
      "image/png": "[encoded data removed]",
      "text/plain": [
       "<Figure size 864x360 with 1 Axes>"
      ]
     },
     "metadata": {
      "needs_background": "light"
     },
     "output_type": "display_data"
    }
   ],
   "source": [
    "plt.figure( figsize=(12,5))\n",
    "plt.hist(feature_counts_df.counts, bins=50, range = (0, 2000));\n",
    "plt.xlabel( 'Frequency of words' )\n",
    "plt.ylabel( 'Density' );"
   ]
  },
  {
   "cell_type": "code",
   "execution_count": 73,
   "metadata": {},
   "outputs": [],
   "source": [
    "# Initialize the CountVectorizer\n",
    "count_vectorizer = CountVectorizer(max_features=1000)\n",
    "# Create the dictionary from the corpus\n",
    "feature_vector = count_vectorizer.fit( train_ds.text )\n",
    "# Get the feature names\n",
    "features = feature_vector.get_feature_names()\n",
    "# Transform the document into vectors\n",
    "train_ds_features = count_vectorizer.transform( train_ds.text )\n",
    "# Count the frequency of the features\n",
    "features_counts = np.sum( train_ds_features.toarray(), axis = 0 )\n",
    "feature_counts = pd.DataFrame( dict( features = features,\n",
    "counts = features_counts ) )"
   ]
  },
  {
   "cell_type": "code",
   "execution_count": 74,
   "metadata": {},
   "outputs": [
    {
     "data": {
      "text/html": [
       "<div>\n",
       "<style scoped>\n",
       "    .dataframe tbody tr th:only-of-type {\n",
       "        vertical-align: middle;\n",
       "    }\n",
       "\n",
       "    .dataframe tbody tr th {\n",
       "        vertical-align: top;\n",
       "    }\n",
       "\n",
       "    .dataframe thead th {\n",
       "        text-align: right;\n",
       "    }\n",
       "</style>\n",
       "<table border=\"1\" class=\"dataframe\">\n",
       "  <thead>\n",
       "    <tr style=\"text-align: right;\">\n",
       "      <th></th>\n",
       "      <th>features</th>\n",
       "      <th>counts</th>\n",
       "    </tr>\n",
       "  </thead>\n",
       "  <tbody>\n",
       "    <tr>\n",
       "      <th>0</th>\n",
       "      <td>10</td>\n",
       "      <td>4</td>\n",
       "    </tr>\n",
       "    <tr>\n",
       "      <th>1</th>\n",
       "      <td>17</td>\n",
       "      <td>3</td>\n",
       "    </tr>\n",
       "    <tr>\n",
       "      <th>2</th>\n",
       "      <td>33</td>\n",
       "      <td>2</td>\n",
       "    </tr>\n",
       "    <tr>\n",
       "      <th>3</th>\n",
       "      <td>6th</td>\n",
       "      <td>3</td>\n",
       "    </tr>\n",
       "    <tr>\n",
       "      <th>4</th>\n",
       "      <td>aaron</td>\n",
       "      <td>2</td>\n",
       "    </tr>\n",
       "    <tr>\n",
       "      <th>...</th>\n",
       "      <td>...</td>\n",
       "      <td>...</td>\n",
       "    </tr>\n",
       "    <tr>\n",
       "      <th>995</th>\n",
       "      <td>yesterday</td>\n",
       "      <td>2</td>\n",
       "    </tr>\n",
       "    <tr>\n",
       "      <th>996</th>\n",
       "      <td>yet</td>\n",
       "      <td>8</td>\n",
       "    </tr>\n",
       "    <tr>\n",
       "      <th>997</th>\n",
       "      <td>you</td>\n",
       "      <td>331</td>\n",
       "    </tr>\n",
       "    <tr>\n",
       "      <th>998</th>\n",
       "      <td>your</td>\n",
       "      <td>9</td>\n",
       "    </tr>\n",
       "    <tr>\n",
       "      <th>999</th>\n",
       "      <td>zen</td>\n",
       "      <td>80</td>\n",
       "    </tr>\n",
       "  </tbody>\n",
       "</table>\n",
       "<p>1000 rows × 2 columns</p>\n",
       "</div>"
      ],
      "text/plain": [
       "      features  counts\n",
       "0           10       4\n",
       "1           17       3\n",
       "2           33       2\n",
       "3          6th       3\n",
       "4        aaron       2\n",
       "..         ...     ...\n",
       "995  yesterday       2\n",
       "996        yet       8\n",
       "997        you     331\n",
       "998       your       9\n",
       "999        zen      80\n",
       "\n",
       "[1000 rows x 2 columns]"
      ]
     },
     "execution_count": 74,
     "metadata": {},
     "output_type": "execute_result"
    }
   ],
   "source": [
    "feature_counts"
   ]
  },
  {
   "cell_type": "markdown",
   "metadata": {},
   "source": [
    "### Removing Stop Words "
   ]
  },
  {
   "cell_type": "code",
   "execution_count": 75,
   "metadata": {},
   "outputs": [],
   "source": [
    "from sklearn.feature_extraction import text\n",
    "my_stop_words = text.ENGLISH_STOP_WORDS"
   ]
  },
  {
   "cell_type": "code",
   "execution_count": 76,
   "metadata": {},
   "outputs": [
    {
     "data": {
      "text/plain": [
       "318"
      ]
     },
     "execution_count": 76,
     "metadata": {},
     "output_type": "execute_result"
    }
   ],
   "source": [
    "len(my_stop_words)"
   ]
  },
  {
   "cell_type": "code",
   "execution_count": 77,
   "metadata": {},
   "outputs": [],
   "source": [
    "# Adding custom words to the list of stop words\n",
    "my_stop_words = text.ENGLISH_STOP_WORDS.union( ['harry', 'potter', 'code', 'vinci', 'da','harry', 'mountain', 'movie', 'movies'])"
   ]
  },
  {
   "cell_type": "code",
   "execution_count": 78,
   "metadata": {},
   "outputs": [
    {
     "data": {
      "text/plain": [
       "326"
      ]
     },
     "execution_count": 78,
     "metadata": {},
     "output_type": "execute_result"
    }
   ],
   "source": [
    "len(my_stop_words)"
   ]
  },
  {
   "cell_type": "markdown",
   "metadata": {},
   "source": [
    "## Creating Count Vectors with removal of Stop Words and Considering highly frequent words "
   ]
  },
  {
   "cell_type": "code",
   "execution_count": 79,
   "metadata": {},
   "outputs": [],
   "source": [
    "count_vectorizer = CountVectorizer( stop_words = my_stop_words,max_features = 1000 )\n",
    "feature_vector = count_vectorizer.fit( train_ds.text )\n",
    "train_ds_features = count_vectorizer.transform( train_ds.text )\n",
    "features = feature_vector.get_feature_names()\n",
    "features_counts = np.sum( train_ds_features.toarray(), axis = 0 )\n",
    "feature_counts = pd.DataFrame( dict( features = features,counts = features_counts ) )"
   ]
  },
  {
   "cell_type": "code",
   "execution_count": 80,
   "metadata": {},
   "outputs": [
    {
     "data": {
      "text/html": [
       "<div>\n",
       "<style scoped>\n",
       "    .dataframe tbody tr th:only-of-type {\n",
       "        vertical-align: middle;\n",
       "    }\n",
       "\n",
       "    .dataframe tbody tr th {\n",
       "        vertical-align: top;\n",
       "    }\n",
       "\n",
       "    .dataframe thead th {\n",
       "        text-align: right;\n",
       "    }\n",
       "</style>\n",
       "<table border=\"1\" class=\"dataframe\">\n",
       "  <thead>\n",
       "    <tr style=\"text-align: right;\">\n",
       "      <th></th>\n",
       "      <th>features</th>\n",
       "      <th>counts</th>\n",
       "    </tr>\n",
       "  </thead>\n",
       "  <tbody>\n",
       "    <tr>\n",
       "      <th>73</th>\n",
       "      <td>brokeback</td>\n",
       "      <td>2000</td>\n",
       "    </tr>\n",
       "    <tr>\n",
       "      <th>408</th>\n",
       "      <td>love</td>\n",
       "      <td>1624</td>\n",
       "    </tr>\n",
       "    <tr>\n",
       "      <th>39</th>\n",
       "      <td>awesome</td>\n",
       "      <td>1127</td>\n",
       "    </tr>\n",
       "    <tr>\n",
       "      <th>436</th>\n",
       "      <td>mission</td>\n",
       "      <td>1094</td>\n",
       "    </tr>\n",
       "    <tr>\n",
       "      <th>341</th>\n",
       "      <td>impossible</td>\n",
       "      <td>1093</td>\n",
       "    </tr>\n",
       "    <tr>\n",
       "      <th>390</th>\n",
       "      <td>like</td>\n",
       "      <td>974</td>\n",
       "    </tr>\n",
       "    <tr>\n",
       "      <th>745</th>\n",
       "      <td>sucks</td>\n",
       "      <td>602</td>\n",
       "    </tr>\n",
       "    <tr>\n",
       "      <th>743</th>\n",
       "      <td>sucked</td>\n",
       "      <td>600</td>\n",
       "    </tr>\n",
       "    <tr>\n",
       "      <th>297</th>\n",
       "      <td>hate</td>\n",
       "      <td>578</td>\n",
       "    </tr>\n",
       "    <tr>\n",
       "      <th>652</th>\n",
       "      <td>really</td>\n",
       "      <td>374</td>\n",
       "    </tr>\n",
       "    <tr>\n",
       "      <th>741</th>\n",
       "      <td>stupid</td>\n",
       "      <td>365</td>\n",
       "    </tr>\n",
       "    <tr>\n",
       "      <th>362</th>\n",
       "      <td>just</td>\n",
       "      <td>287</td>\n",
       "    </tr>\n",
       "    <tr>\n",
       "      <th>374</th>\n",
       "      <td>know</td>\n",
       "      <td>276</td>\n",
       "    </tr>\n",
       "    <tr>\n",
       "      <th>742</th>\n",
       "      <td>suck</td>\n",
       "      <td>276</td>\n",
       "    </tr>\n",
       "    <tr>\n",
       "      <th>409</th>\n",
       "      <td>loved</td>\n",
       "      <td>256</td>\n",
       "    </tr>\n",
       "  </tbody>\n",
       "</table>\n",
       "</div>"
      ],
      "text/plain": [
       "       features  counts\n",
       "73    brokeback    2000\n",
       "408        love    1624\n",
       "39      awesome    1127\n",
       "436     mission    1094\n",
       "341  impossible    1093\n",
       "390        like     974\n",
       "745       sucks     602\n",
       "743      sucked     600\n",
       "297        hate     578\n",
       "652      really     374\n",
       "741      stupid     365\n",
       "362        just     287\n",
       "374        know     276\n",
       "742        suck     276\n",
       "409       loved     256"
      ]
     },
     "execution_count": 80,
     "metadata": {},
     "output_type": "execute_result"
    }
   ],
   "source": [
    "feature_counts.sort_values( \"counts\", ascending = False )[0:15]"
   ]
  },
  {
   "cell_type": "code",
   "execution_count": 81,
   "metadata": {},
   "outputs": [],
   "source": [
    "from nltk.stem.snowball import PorterStemmer\n",
    "stemmer = PorterStemmer()\n",
    "analyzer = CountVectorizer().build_analyzer()"
   ]
  },
  {
   "cell_type": "code",
   "execution_count": 82,
   "metadata": {},
   "outputs": [],
   "source": [
    "def stemmed_words(doc):\n",
    "    ### Stemming of words\n",
    "    stemmed_words = (stemmer.stem(w) for w in analyzer(doc))\n",
    "    ### Remove the words in stop words list\n",
    "    non_stop_words = [ word for word in list(set(stemmed_words) - set(my_stop_words)) ]\n",
    "    return non_stop_words"
   ]
  },
  {
   "cell_type": "markdown",
   "metadata": {},
   "source": [
    "### Features with Stemmed Words and filtered by Stop Words which are highly frequent word  "
   ]
  },
  {
   "cell_type": "code",
   "execution_count": 83,
   "metadata": {},
   "outputs": [
    {
     "data": {
      "text/html": [
       "<div>\n",
       "<style scoped>\n",
       "    .dataframe tbody tr th:only-of-type {\n",
       "        vertical-align: middle;\n",
       "    }\n",
       "\n",
       "    .dataframe tbody tr th {\n",
       "        vertical-align: top;\n",
       "    }\n",
       "\n",
       "    .dataframe thead th {\n",
       "        text-align: right;\n",
       "    }\n",
       "</style>\n",
       "<table border=\"1\" class=\"dataframe\">\n",
       "  <thead>\n",
       "    <tr style=\"text-align: right;\">\n",
       "      <th></th>\n",
       "      <th>features</th>\n",
       "      <th>counts</th>\n",
       "    </tr>\n",
       "  </thead>\n",
       "  <tbody>\n",
       "    <tr>\n",
       "      <th>80</th>\n",
       "      <td>brokeback</td>\n",
       "      <td>1930</td>\n",
       "    </tr>\n",
       "    <tr>\n",
       "      <th>297</th>\n",
       "      <td>harri</td>\n",
       "      <td>1916</td>\n",
       "    </tr>\n",
       "    <tr>\n",
       "      <th>407</th>\n",
       "      <td>love</td>\n",
       "      <td>1837</td>\n",
       "    </tr>\n",
       "    <tr>\n",
       "      <th>803</th>\n",
       "      <td>suck</td>\n",
       "      <td>1378</td>\n",
       "    </tr>\n",
       "    <tr>\n",
       "      <th>922</th>\n",
       "      <td>wa</td>\n",
       "      <td>1142</td>\n",
       "    </tr>\n",
       "    <tr>\n",
       "      <th>43</th>\n",
       "      <td>awesom</td>\n",
       "      <td>1116</td>\n",
       "    </tr>\n",
       "    <tr>\n",
       "      <th>345</th>\n",
       "      <td>imposs</td>\n",
       "      <td>1090</td>\n",
       "    </tr>\n",
       "    <tr>\n",
       "      <th>433</th>\n",
       "      <td>mission</td>\n",
       "      <td>1090</td>\n",
       "    </tr>\n",
       "    <tr>\n",
       "      <th>439</th>\n",
       "      <td>movi</td>\n",
       "      <td>1052</td>\n",
       "    </tr>\n",
       "    <tr>\n",
       "      <th>393</th>\n",
       "      <td>like</td>\n",
       "      <td>823</td>\n",
       "    </tr>\n",
       "    <tr>\n",
       "      <th>299</th>\n",
       "      <td>hate</td>\n",
       "      <td>636</td>\n",
       "    </tr>\n",
       "    <tr>\n",
       "      <th>54</th>\n",
       "      <td>becaus</td>\n",
       "      <td>524</td>\n",
       "    </tr>\n",
       "    <tr>\n",
       "      <th>604</th>\n",
       "      <td>realli</td>\n",
       "      <td>370</td>\n",
       "    </tr>\n",
       "    <tr>\n",
       "      <th>796</th>\n",
       "      <td>stupid</td>\n",
       "      <td>364</td>\n",
       "    </tr>\n",
       "    <tr>\n",
       "      <th>379</th>\n",
       "      <td>know</td>\n",
       "      <td>354</td>\n",
       "    </tr>\n",
       "  </tbody>\n",
       "</table>\n",
       "</div>"
      ],
      "text/plain": [
       "      features  counts\n",
       "80   brokeback    1930\n",
       "297      harri    1916\n",
       "407       love    1837\n",
       "803       suck    1378\n",
       "922         wa    1142\n",
       "43      awesom    1116\n",
       "345     imposs    1090\n",
       "433    mission    1090\n",
       "439       movi    1052\n",
       "393       like     823\n",
       "299       hate     636\n",
       "54      becaus     524\n",
       "604     realli     370\n",
       "796     stupid     364\n",
       "379       know     354"
      ]
     },
     "execution_count": 83,
     "metadata": {},
     "output_type": "execute_result"
    }
   ],
   "source": [
    "count_vectorizer = CountVectorizer( analyzer=stemmed_words, max_features = 1000)\n",
    "feature_vector = count_vectorizer.fit( train_ds.text )\n",
    "train_ds_features = count_vectorizer.transform( train_ds.text )\n",
    "features = feature_vector.get_feature_names()\n",
    "features_counts = np.sum( train_ds_features.toarray(), axis = 0 )\n",
    "feature_counts = pd.DataFrame( dict( features = features,\n",
    "counts = features_counts ) )\n",
    "feature_counts.sort_values( \"counts\", ascending = False )[0:15]"
   ]
  },
  {
   "cell_type": "code",
   "execution_count": null,
   "metadata": {},
   "outputs": [],
   "source": []
  },
  {
   "cell_type": "code",
   "execution_count": 84,
   "metadata": {},
   "outputs": [],
   "source": [
    "# Convert the document vector matrix into dataframe\n",
    "train_ds_df = pd.DataFrame(train_ds_features.todense())\n",
    "# Assign the features names to the column\n",
    "train_ds_df.columns = features\n",
    "# Assign the sentiment labels to the train_ds\n",
    "train_ds_df['sentiment'] = train_ds.sentiment"
   ]
  },
  {
   "cell_type": "code",
   "execution_count": 85,
   "metadata": {},
   "outputs": [],
   "source": [
    "from sklearn.model_selection import train_test_split\n",
    "train_X, test_X, train_y, test_y = train_test_split( train_ds_features,train_ds.sentiment,test_size = 0.3,random_state = 42 )"
   ]
  },
  {
   "cell_type": "markdown",
   "metadata": {},
   "source": [
    "### Naive Bayes Model"
   ]
  },
  {
   "cell_type": "code",
   "execution_count": 86,
   "metadata": {},
   "outputs": [
    {
     "name": "stdout",
     "output_type": "stream",
     "text": [
      "              precision    recall  f1-score   support\n",
      "\n",
      "           0       0.98      0.97      0.98       873\n",
      "           1       0.98      0.99      0.98      1203\n",
      "\n",
      "    accuracy                           0.98      2076\n",
      "   macro avg       0.98      0.98      0.98      2076\n",
      "weighted avg       0.98      0.98      0.98      2076\n",
      "\n"
     ]
    },
    {
     "data": {
      "image/png": "[encoded data removed]",
      "text/plain": [
       "<Figure size 432x288 with 2 Axes>"
      ]
     },
     "metadata": {
      "needs_background": "light"
     },
     "output_type": "display_data"
    }
   ],
   "source": [
    "from sklearn.naive_bayes import BernoulliNB\n",
    "nb_clf = BernoulliNB()\n",
    "nb_clf.fit( train_X.toarray(), train_y )\n",
    "\n",
    "test_ds_predicted = nb_clf.predict( test_X.toarray() )\n",
    "\n",
    "from sklearn import metrics\n",
    "print( metrics.classification_report( test_y, test_ds_predicted ) )\n",
    "\n",
    "from sklearn import metrics\n",
    "cm = metrics.confusion_matrix( test_y, test_ds_predicted )\n",
    "sn.heatmap(cm, annot=True, fmt='.2f' );"
   ]
  },
  {
   "cell_type": "code",
   "execution_count": null,
   "metadata": {},
   "outputs": [],
   "source": []
  },
  {
   "cell_type": "code",
   "execution_count": null,
   "metadata": {},
   "outputs": [],
   "source": []
  },
  {
   "cell_type": "code",
   "execution_count": 87,
   "metadata": {},
   "outputs": [],
   "source": [
    "COLUMN_NAMES = [\"Process\",\"Model Name\", \"F1 Scores\",\"Range of F1 Scores\",\"Std Deviation of F1 Scores\"]\n",
    "df_model_selection = pd.DataFrame(columns=COLUMN_NAMES)"
   ]
  },
  {
   "cell_type": "code",
   "execution_count": 88,
   "metadata": {},
   "outputs": [
    {
     "data": {
      "text/html": [
       "<div>\n",
       "<style scoped>\n",
       "    .dataframe tbody tr th:only-of-type {\n",
       "        vertical-align: middle;\n",
       "    }\n",
       "\n",
       "    .dataframe tbody tr th {\n",
       "        vertical-align: top;\n",
       "    }\n",
       "\n",
       "    .dataframe thead th {\n",
       "        text-align: right;\n",
       "    }\n",
       "</style>\n",
       "<table border=\"1\" class=\"dataframe\">\n",
       "  <thead>\n",
       "    <tr style=\"text-align: right;\">\n",
       "      <th></th>\n",
       "      <th>Process</th>\n",
       "      <th>Model Name</th>\n",
       "      <th>F1 Scores</th>\n",
       "      <th>Range of F1 Scores</th>\n",
       "      <th>Std Deviation of F1 Scores</th>\n",
       "    </tr>\n",
       "  </thead>\n",
       "  <tbody>\n",
       "  </tbody>\n",
       "</table>\n",
       "</div>"
      ],
      "text/plain": [
       "Empty DataFrame\n",
       "Columns: [Process, Model Name, F1 Scores, Range of F1 Scores, Std Deviation of F1 Scores]\n",
       "Index: []"
      ]
     },
     "execution_count": 88,
     "metadata": {},
     "output_type": "execute_result"
    }
   ],
   "source": [
    "df_model_selection"
   ]
  },
  {
   "cell_type": "code",
   "execution_count": 89,
   "metadata": {},
   "outputs": [],
   "source": [
    "from sklearn.model_selection import StratifiedKFold\n",
    "from sklearn.metrics import f1_score\n",
    "from sklearn import metrics"
   ]
  },
  {
   "cell_type": "code",
   "execution_count": 90,
   "metadata": {},
   "outputs": [],
   "source": [
    "def stratified_K_fold_validation(model_obj, model_name, process, n_splits, X, y):\n",
    "    global df_model_selection\n",
    "    \n",
    "    skf = StratifiedKFold(n_splits, random_state=29)\n",
    "    \n",
    "    weighted_f1_score = []\n",
    "    print(skf.split(X,y))\n",
    "    for train_index, val_index in skf.split(X,y):\n",
    "        X_train, X_test = X[train_index], X[val_index] \n",
    "        y_train, y_test = y[train_index], y[val_index]\n",
    "        \n",
    "        \n",
    "        model_obj.fit(X_train, y_train)##### HERE ###\n",
    "        test_ds_predicted = model_obj.predict( X_test ) ##### HERE ####   \n",
    "        #print( metrics.classification_report( y_test, test_ds_predicted ) )    \n",
    "        weighted_f1_score.append(round(f1_score(y_test, test_ds_predicted , average='weighted'),2))\n",
    "        \n",
    "    sd_weighted_f1_score = np.std(weighted_f1_score, ddof=1)\n",
    "    range_of_f1_scores = \"{}-{}\".format(min(weighted_f1_score),max(weighted_f1_score))    \n",
    "    df_model_selection = pd.concat([df_model_selection,pd.DataFrame([[process,model_name,sorted(weighted_f1_score),range_of_f1_scores,sd_weighted_f1_score]], columns =COLUMN_NAMES) ])"
   ]
  },
  {
   "cell_type": "code",
   "execution_count": 91,
   "metadata": {},
   "outputs": [
    {
     "data": {
      "text/plain": [
       "BernoulliNB(alpha=1.0, binarize=0.0, class_prior=None, fit_prior=True)"
      ]
     },
     "execution_count": 91,
     "metadata": {},
     "output_type": "execute_result"
    }
   ],
   "source": [
    "from sklearn.naive_bayes import BernoulliNB\n",
    "nb_clf = BernoulliNB()\n",
    "nb_clf.fit( train_X.toarray(), train_y )"
   ]
  },
  {
   "cell_type": "code",
   "execution_count": 92,
   "metadata": {},
   "outputs": [
    {
     "name": "stdout",
     "output_type": "stream",
     "text": [
      "<generator object _BaseKFold.split at 0x000002156B789948>\n"
     ]
    },
    {
     "data": {
      "text/html": [
       "<div>\n",
       "<style scoped>\n",
       "    .dataframe tbody tr th:only-of-type {\n",
       "        vertical-align: middle;\n",
       "    }\n",
       "\n",
       "    .dataframe tbody tr th {\n",
       "        vertical-align: top;\n",
       "    }\n",
       "\n",
       "    .dataframe thead th {\n",
       "        text-align: right;\n",
       "    }\n",
       "</style>\n",
       "<table border=\"1\" class=\"dataframe\">\n",
       "  <thead>\n",
       "    <tr style=\"text-align: right;\">\n",
       "      <th></th>\n",
       "      <th>Process</th>\n",
       "      <th>Model Name</th>\n",
       "      <th>F1 Scores</th>\n",
       "      <th>Range of F1 Scores</th>\n",
       "      <th>Std Deviation of F1 Scores</th>\n",
       "    </tr>\n",
       "  </thead>\n",
       "  <tbody>\n",
       "    <tr>\n",
       "      <th>0</th>\n",
       "      <td>Bag Of Words with NLTK Stemming</td>\n",
       "      <td>Binomial Naive Bayes Classifier</td>\n",
       "      <td>[0.92, 0.98, 0.99, 0.99, 1.0]</td>\n",
       "      <td>0.92-1.0</td>\n",
       "      <td>0.032094</td>\n",
       "    </tr>\n",
       "  </tbody>\n",
       "</table>\n",
       "</div>"
      ],
      "text/plain": [
       "                           Process                       Model Name  \\\n",
       "0  Bag Of Words with NLTK Stemming  Binomial Naive Bayes Classifier   \n",
       "\n",
       "                       F1 Scores Range of F1 Scores  \\\n",
       "0  [0.92, 0.98, 0.99, 0.99, 1.0]           0.92-1.0   \n",
       "\n",
       "   Std Deviation of F1 Scores  \n",
       "0                    0.032094  "
      ]
     },
     "execution_count": 92,
     "metadata": {},
     "output_type": "execute_result"
    }
   ],
   "source": [
    "model_obj = nb_clf\n",
    "model_name = \"Binomial Naive Bayes Classifier\"\n",
    "process = \"Bag Of Words with NLTK Stemming\"\n",
    "n_splits = 5\n",
    "X = train_ds_features.toarray()\n",
    "y = train_ds.sentiment\n",
    "stratified_K_fold_validation(model_obj, model_name, process, n_splits, X, y)\n",
    "\n",
    "\n",
    "df_model_selection"
   ]
  },
  {
   "cell_type": "markdown",
   "metadata": {},
   "source": [
    "# Logistic Regression "
   ]
  },
  {
   "cell_type": "code",
   "execution_count": 93,
   "metadata": {},
   "outputs": [],
   "source": [
    "from sklearn.linear_model import LogisticRegression\n",
    "logreg = LogisticRegression()\n",
    "logreg.fit(train_X.toarray(), train_y)\n",
    "test_ds_predicted = logreg.predict( test_X.toarray() )"
   ]
  },
  {
   "cell_type": "code",
   "execution_count": 94,
   "metadata": {},
   "outputs": [
    {
     "name": "stdout",
     "output_type": "stream",
     "text": [
      "              precision    recall  f1-score   support\n",
      "\n",
      "           0       0.99      0.99      0.99       873\n",
      "           1       0.99      1.00      0.99      1203\n",
      "\n",
      "    accuracy                           0.99      2076\n",
      "   macro avg       0.99      0.99      0.99      2076\n",
      "weighted avg       0.99      0.99      0.99      2076\n",
      "\n"
     ]
    }
   ],
   "source": [
    "from sklearn import metrics\n",
    "print( metrics.classification_report( test_y, test_ds_predicted ) )"
   ]
  },
  {
   "cell_type": "code",
   "execution_count": 95,
   "metadata": {},
   "outputs": [
    {
     "name": "stdout",
     "output_type": "stream",
     "text": [
      "<generator object _BaseKFold.split at 0x00000215014EE1C8>\n"
     ]
    },
    {
     "data": {
      "text/html": [
       "<div>\n",
       "<style scoped>\n",
       "    .dataframe tbody tr th:only-of-type {\n",
       "        vertical-align: middle;\n",
       "    }\n",
       "\n",
       "    .dataframe tbody tr th {\n",
       "        vertical-align: top;\n",
       "    }\n",
       "\n",
       "    .dataframe thead th {\n",
       "        text-align: right;\n",
       "    }\n",
       "</style>\n",
       "<table border=\"1\" class=\"dataframe\">\n",
       "  <thead>\n",
       "    <tr style=\"text-align: right;\">\n",
       "      <th></th>\n",
       "      <th>Process</th>\n",
       "      <th>Model Name</th>\n",
       "      <th>F1 Scores</th>\n",
       "      <th>Range of F1 Scores</th>\n",
       "      <th>Std Deviation of F1 Scores</th>\n",
       "    </tr>\n",
       "  </thead>\n",
       "  <tbody>\n",
       "    <tr>\n",
       "      <th>0</th>\n",
       "      <td>Bag Of Words with NLTK Stemming</td>\n",
       "      <td>Binomial Naive Bayes Classifier</td>\n",
       "      <td>[0.92, 0.98, 0.99, 0.99, 1.0]</td>\n",
       "      <td>0.92-1.0</td>\n",
       "      <td>0.032094</td>\n",
       "    </tr>\n",
       "    <tr>\n",
       "      <th>0</th>\n",
       "      <td>Bag Of Words with NLTK Stemming</td>\n",
       "      <td>Logistic Regression</td>\n",
       "      <td>[0.95, 0.98, 0.99, 1.0, 1.0]</td>\n",
       "      <td>0.95-1.0</td>\n",
       "      <td>0.020736</td>\n",
       "    </tr>\n",
       "  </tbody>\n",
       "</table>\n",
       "</div>"
      ],
      "text/plain": [
       "                           Process                       Model Name  \\\n",
       "0  Bag Of Words with NLTK Stemming  Binomial Naive Bayes Classifier   \n",
       "0  Bag Of Words with NLTK Stemming              Logistic Regression   \n",
       "\n",
       "                       F1 Scores Range of F1 Scores  \\\n",
       "0  [0.92, 0.98, 0.99, 0.99, 1.0]           0.92-1.0   \n",
       "0   [0.95, 0.98, 0.99, 1.0, 1.0]           0.95-1.0   \n",
       "\n",
       "   Std Deviation of F1 Scores  \n",
       "0                    0.032094  \n",
       "0                    0.020736  "
      ]
     },
     "execution_count": 95,
     "metadata": {},
     "output_type": "execute_result"
    }
   ],
   "source": [
    "model_obj = logreg\n",
    "model_name = \"Logistic Regression\"\n",
    "process = \"Bag Of Words with NLTK Stemming\"\n",
    "n_splits = 5\n",
    "X = train_ds_features.toarray()\n",
    "y = train_ds.sentiment\n",
    "stratified_K_fold_validation(model_obj, model_name, process, n_splits, X, y)\n",
    "df_model_selection"
   ]
  },
  {
   "cell_type": "markdown",
   "metadata": {},
   "source": [
    "# Decision Tree"
   ]
  },
  {
   "cell_type": "code",
   "execution_count": 96,
   "metadata": {},
   "outputs": [],
   "source": [
    "from sklearn.tree import DecisionTreeClassifier\n",
    "decision_tree = DecisionTreeClassifier(criterion='entropy')\n",
    "\n",
    "decision_tree.fit(train_X.toarray(), train_y)\n",
    "test_ds_predicted = decision_tree.predict( test_X.toarray() )"
   ]
  },
  {
   "cell_type": "code",
   "execution_count": 97,
   "metadata": {},
   "outputs": [
    {
     "name": "stdout",
     "output_type": "stream",
     "text": [
      "              precision    recall  f1-score   support\n",
      "\n",
      "           0       0.99      0.99      0.99       873\n",
      "           1       0.99      0.99      0.99      1203\n",
      "\n",
      "    accuracy                           0.99      2076\n",
      "   macro avg       0.99      0.99      0.99      2076\n",
      "weighted avg       0.99      0.99      0.99      2076\n",
      "\n"
     ]
    }
   ],
   "source": [
    "from sklearn import metrics\n",
    "print( metrics.classification_report( test_y, test_ds_predicted ) )"
   ]
  },
  {
   "cell_type": "code",
   "execution_count": 98,
   "metadata": {},
   "outputs": [
    {
     "name": "stdout",
     "output_type": "stream",
     "text": [
      "<generator object _BaseKFold.split at 0x00000215013E4CC8>\n"
     ]
    },
    {
     "data": {
      "text/html": [
       "<div>\n",
       "<style scoped>\n",
       "    .dataframe tbody tr th:only-of-type {\n",
       "        vertical-align: middle;\n",
       "    }\n",
       "\n",
       "    .dataframe tbody tr th {\n",
       "        vertical-align: top;\n",
       "    }\n",
       "\n",
       "    .dataframe thead th {\n",
       "        text-align: right;\n",
       "    }\n",
       "</style>\n",
       "<table border=\"1\" class=\"dataframe\">\n",
       "  <thead>\n",
       "    <tr style=\"text-align: right;\">\n",
       "      <th></th>\n",
       "      <th>Process</th>\n",
       "      <th>Model Name</th>\n",
       "      <th>F1 Scores</th>\n",
       "      <th>Range of F1 Scores</th>\n",
       "      <th>Std Deviation of F1 Scores</th>\n",
       "    </tr>\n",
       "  </thead>\n",
       "  <tbody>\n",
       "    <tr>\n",
       "      <th>0</th>\n",
       "      <td>Bag Of Words with NLTK Stemming</td>\n",
       "      <td>Binomial Naive Bayes Classifier</td>\n",
       "      <td>[0.92, 0.98, 0.99, 0.99, 1.0]</td>\n",
       "      <td>0.92-1.0</td>\n",
       "      <td>0.032094</td>\n",
       "    </tr>\n",
       "    <tr>\n",
       "      <th>0</th>\n",
       "      <td>Bag Of Words with NLTK Stemming</td>\n",
       "      <td>Logistic Regression</td>\n",
       "      <td>[0.95, 0.98, 0.99, 1.0, 1.0]</td>\n",
       "      <td>0.95-1.0</td>\n",
       "      <td>0.020736</td>\n",
       "    </tr>\n",
       "    <tr>\n",
       "      <th>0</th>\n",
       "      <td>Bag Of Words with NLTK Stemming</td>\n",
       "      <td>Decission Tree</td>\n",
       "      <td>[0.92, 0.98, 0.99, 0.99, 1.0]</td>\n",
       "      <td>0.92-1.0</td>\n",
       "      <td>0.032094</td>\n",
       "    </tr>\n",
       "  </tbody>\n",
       "</table>\n",
       "</div>"
      ],
      "text/plain": [
       "                           Process                       Model Name  \\\n",
       "0  Bag Of Words with NLTK Stemming  Binomial Naive Bayes Classifier   \n",
       "0  Bag Of Words with NLTK Stemming              Logistic Regression   \n",
       "0  Bag Of Words with NLTK Stemming                   Decission Tree   \n",
       "\n",
       "                       F1 Scores Range of F1 Scores  \\\n",
       "0  [0.92, 0.98, 0.99, 0.99, 1.0]           0.92-1.0   \n",
       "0   [0.95, 0.98, 0.99, 1.0, 1.0]           0.95-1.0   \n",
       "0  [0.92, 0.98, 0.99, 0.99, 1.0]           0.92-1.0   \n",
       "\n",
       "   Std Deviation of F1 Scores  \n",
       "0                    0.032094  \n",
       "0                    0.020736  \n",
       "0                    0.032094  "
      ]
     },
     "execution_count": 98,
     "metadata": {},
     "output_type": "execute_result"
    }
   ],
   "source": [
    "model_obj = decision_tree\n",
    "model_name = \"Decission Tree\"\n",
    "process = \"Bag Of Words with NLTK Stemming\"\n",
    "n_splits = 5\n",
    "X = train_ds_features.toarray()\n",
    "y = train_ds.sentiment\n",
    "stratified_K_fold_validation(model_obj, model_name, process, n_splits, X, y)\n",
    "df_model_selection"
   ]
  },
  {
   "cell_type": "markdown",
   "metadata": {},
   "source": [
    "# Random Forest"
   ]
  },
  {
   "cell_type": "code",
   "execution_count": 99,
   "metadata": {},
   "outputs": [],
   "source": [
    "from sklearn.ensemble import RandomForestClassifier\n",
    "random_forest = RandomForestClassifier(n_estimators=10)"
   ]
  },
  {
   "cell_type": "code",
   "execution_count": 100,
   "metadata": {},
   "outputs": [],
   "source": [
    "random_forest.fit(train_X.toarray(), train_y)\n",
    "test_ds_predicted = random_forest.predict( test_X.toarray() )"
   ]
  },
  {
   "cell_type": "code",
   "execution_count": 101,
   "metadata": {},
   "outputs": [
    {
     "name": "stdout",
     "output_type": "stream",
     "text": [
      "              precision    recall  f1-score   support\n",
      "\n",
      "           0       0.99      0.98      0.99       873\n",
      "           1       0.99      0.99      0.99      1203\n",
      "\n",
      "    accuracy                           0.99      2076\n",
      "   macro avg       0.99      0.99      0.99      2076\n",
      "weighted avg       0.99      0.99      0.99      2076\n",
      "\n"
     ]
    }
   ],
   "source": [
    "from sklearn import metrics\n",
    "print( metrics.classification_report( test_y, test_ds_predicted ) )"
   ]
  },
  {
   "cell_type": "code",
   "execution_count": 102,
   "metadata": {},
   "outputs": [
    {
     "name": "stdout",
     "output_type": "stream",
     "text": [
      "<generator object _BaseKFold.split at 0x000002150145F5C8>\n"
     ]
    },
    {
     "data": {
      "text/html": [
       "<div>\n",
       "<style scoped>\n",
       "    .dataframe tbody tr th:only-of-type {\n",
       "        vertical-align: middle;\n",
       "    }\n",
       "\n",
       "    .dataframe tbody tr th {\n",
       "        vertical-align: top;\n",
       "    }\n",
       "\n",
       "    .dataframe thead th {\n",
       "        text-align: right;\n",
       "    }\n",
       "</style>\n",
       "<table border=\"1\" class=\"dataframe\">\n",
       "  <thead>\n",
       "    <tr style=\"text-align: right;\">\n",
       "      <th></th>\n",
       "      <th>Process</th>\n",
       "      <th>Model Name</th>\n",
       "      <th>F1 Scores</th>\n",
       "      <th>Range of F1 Scores</th>\n",
       "      <th>Std Deviation of F1 Scores</th>\n",
       "    </tr>\n",
       "  </thead>\n",
       "  <tbody>\n",
       "    <tr>\n",
       "      <th>0</th>\n",
       "      <td>Bag Of Words with NLTK Stemming</td>\n",
       "      <td>Binomial Naive Bayes Classifier</td>\n",
       "      <td>[0.92, 0.98, 0.99, 0.99, 1.0]</td>\n",
       "      <td>0.92-1.0</td>\n",
       "      <td>0.032094</td>\n",
       "    </tr>\n",
       "    <tr>\n",
       "      <th>0</th>\n",
       "      <td>Bag Of Words with NLTK Stemming</td>\n",
       "      <td>Logistic Regression</td>\n",
       "      <td>[0.95, 0.98, 0.99, 1.0, 1.0]</td>\n",
       "      <td>0.95-1.0</td>\n",
       "      <td>0.020736</td>\n",
       "    </tr>\n",
       "    <tr>\n",
       "      <th>0</th>\n",
       "      <td>Bag Of Words with NLTK Stemming</td>\n",
       "      <td>Decission Tree</td>\n",
       "      <td>[0.92, 0.98, 0.99, 0.99, 1.0]</td>\n",
       "      <td>0.92-1.0</td>\n",
       "      <td>0.032094</td>\n",
       "    </tr>\n",
       "    <tr>\n",
       "      <th>0</th>\n",
       "      <td>Bag Of Words with NLTK Stemming</td>\n",
       "      <td>Random Forest</td>\n",
       "      <td>[0.92, 0.96, 0.99, 0.99, 1.0]</td>\n",
       "      <td>0.92-1.0</td>\n",
       "      <td>0.032711</td>\n",
       "    </tr>\n",
       "  </tbody>\n",
       "</table>\n",
       "</div>"
      ],
      "text/plain": [
       "                           Process                       Model Name  \\\n",
       "0  Bag Of Words with NLTK Stemming  Binomial Naive Bayes Classifier   \n",
       "0  Bag Of Words with NLTK Stemming              Logistic Regression   \n",
       "0  Bag Of Words with NLTK Stemming                   Decission Tree   \n",
       "0  Bag Of Words with NLTK Stemming                    Random Forest   \n",
       "\n",
       "                       F1 Scores Range of F1 Scores  \\\n",
       "0  [0.92, 0.98, 0.99, 0.99, 1.0]           0.92-1.0   \n",
       "0   [0.95, 0.98, 0.99, 1.0, 1.0]           0.95-1.0   \n",
       "0  [0.92, 0.98, 0.99, 0.99, 1.0]           0.92-1.0   \n",
       "0  [0.92, 0.96, 0.99, 0.99, 1.0]           0.92-1.0   \n",
       "\n",
       "   Std Deviation of F1 Scores  \n",
       "0                    0.032094  \n",
       "0                    0.020736  \n",
       "0                    0.032094  \n",
       "0                    0.032711  "
      ]
     },
     "execution_count": 102,
     "metadata": {},
     "output_type": "execute_result"
    }
   ],
   "source": [
    "model_obj = random_forest\n",
    "model_name = \"Random Forest\"\n",
    "process = \"Bag Of Words with NLTK Stemming\"\n",
    "n_splits = 5\n",
    "X = train_ds_features.toarray()\n",
    "y = train_ds.sentiment\n",
    "stratified_K_fold_validation(model_obj, model_name, process, n_splits, X, y)\n",
    "df_model_selection"
   ]
  },
  {
   "cell_type": "markdown",
   "metadata": {},
   "source": [
    "# XG Boost"
   ]
  },
  {
   "cell_type": "code",
   "execution_count": 103,
   "metadata": {},
   "outputs": [],
   "source": [
    "from xgboost import XGBClassifier\n",
    "xgboost = XGBClassifier()"
   ]
  },
  {
   "cell_type": "code",
   "execution_count": 104,
   "metadata": {},
   "outputs": [],
   "source": [
    "xgboost.fit(train_X.toarray(), train_y)\n",
    "test_ds_predicted = xgboost.predict( test_X.toarray() )"
   ]
  },
  {
   "cell_type": "code",
   "execution_count": 105,
   "metadata": {},
   "outputs": [
    {
     "name": "stdout",
     "output_type": "stream",
     "text": [
      "              precision    recall  f1-score   support\n",
      "\n",
      "           0       0.99      0.99      0.99       873\n",
      "           1       0.99      0.99      0.99      1203\n",
      "\n",
      "    accuracy                           0.99      2076\n",
      "   macro avg       0.99      0.99      0.99      2076\n",
      "weighted avg       0.99      0.99      0.99      2076\n",
      "\n"
     ]
    }
   ],
   "source": [
    "from sklearn import metrics\n",
    "print( metrics.classification_report( test_y, test_ds_predicted ) )"
   ]
  },
  {
   "cell_type": "code",
   "execution_count": 106,
   "metadata": {},
   "outputs": [
    {
     "name": "stdout",
     "output_type": "stream",
     "text": [
      "<generator object _BaseKFold.split at 0x00000215021E77C8>\n"
     ]
    },
    {
     "data": {
      "text/html": [
       "<div>\n",
       "<style scoped>\n",
       "    .dataframe tbody tr th:only-of-type {\n",
       "        vertical-align: middle;\n",
       "    }\n",
       "\n",
       "    .dataframe tbody tr th {\n",
       "        vertical-align: top;\n",
       "    }\n",
       "\n",
       "    .dataframe thead th {\n",
       "        text-align: right;\n",
       "    }\n",
       "</style>\n",
       "<table border=\"1\" class=\"dataframe\">\n",
       "  <thead>\n",
       "    <tr style=\"text-align: right;\">\n",
       "      <th></th>\n",
       "      <th>Process</th>\n",
       "      <th>Model Name</th>\n",
       "      <th>F1 Scores</th>\n",
       "      <th>Range of F1 Scores</th>\n",
       "      <th>Std Deviation of F1 Scores</th>\n",
       "    </tr>\n",
       "  </thead>\n",
       "  <tbody>\n",
       "    <tr>\n",
       "      <th>0</th>\n",
       "      <td>Bag Of Words with NLTK Stemming</td>\n",
       "      <td>Binomial Naive Bayes Classifier</td>\n",
       "      <td>[0.92, 0.98, 0.99, 0.99, 1.0]</td>\n",
       "      <td>0.92-1.0</td>\n",
       "      <td>0.032094</td>\n",
       "    </tr>\n",
       "    <tr>\n",
       "      <th>0</th>\n",
       "      <td>Bag Of Words with NLTK Stemming</td>\n",
       "      <td>Logistic Regression</td>\n",
       "      <td>[0.95, 0.98, 0.99, 1.0, 1.0]</td>\n",
       "      <td>0.95-1.0</td>\n",
       "      <td>0.020736</td>\n",
       "    </tr>\n",
       "    <tr>\n",
       "      <th>0</th>\n",
       "      <td>Bag Of Words with NLTK Stemming</td>\n",
       "      <td>Decission Tree</td>\n",
       "      <td>[0.92, 0.98, 0.99, 0.99, 1.0]</td>\n",
       "      <td>0.92-1.0</td>\n",
       "      <td>0.032094</td>\n",
       "    </tr>\n",
       "    <tr>\n",
       "      <th>0</th>\n",
       "      <td>Bag Of Words with NLTK Stemming</td>\n",
       "      <td>Random Forest</td>\n",
       "      <td>[0.92, 0.96, 0.99, 0.99, 1.0]</td>\n",
       "      <td>0.92-1.0</td>\n",
       "      <td>0.032711</td>\n",
       "    </tr>\n",
       "    <tr>\n",
       "      <th>0</th>\n",
       "      <td>Bag Of Words with NLTK Stemming</td>\n",
       "      <td>XG Boost</td>\n",
       "      <td>[0.95, 0.97, 0.99, 0.99, 1.0]</td>\n",
       "      <td>0.95-1.0</td>\n",
       "      <td>0.020000</td>\n",
       "    </tr>\n",
       "  </tbody>\n",
       "</table>\n",
       "</div>"
      ],
      "text/plain": [
       "                           Process                       Model Name  \\\n",
       "0  Bag Of Words with NLTK Stemming  Binomial Naive Bayes Classifier   \n",
       "0  Bag Of Words with NLTK Stemming              Logistic Regression   \n",
       "0  Bag Of Words with NLTK Stemming                   Decission Tree   \n",
       "0  Bag Of Words with NLTK Stemming                    Random Forest   \n",
       "0  Bag Of Words with NLTK Stemming                         XG Boost   \n",
       "\n",
       "                       F1 Scores Range of F1 Scores  \\\n",
       "0  [0.92, 0.98, 0.99, 0.99, 1.0]           0.92-1.0   \n",
       "0   [0.95, 0.98, 0.99, 1.0, 1.0]           0.95-1.0   \n",
       "0  [0.92, 0.98, 0.99, 0.99, 1.0]           0.92-1.0   \n",
       "0  [0.92, 0.96, 0.99, 0.99, 1.0]           0.92-1.0   \n",
       "0  [0.95, 0.97, 0.99, 0.99, 1.0]           0.95-1.0   \n",
       "\n",
       "   Std Deviation of F1 Scores  \n",
       "0                    0.032094  \n",
       "0                    0.020736  \n",
       "0                    0.032094  \n",
       "0                    0.032711  \n",
       "0                    0.020000  "
      ]
     },
     "execution_count": 106,
     "metadata": {},
     "output_type": "execute_result"
    }
   ],
   "source": [
    "model_obj = xgboost\n",
    "model_name = \"XG Boost\"\n",
    "process = \"Bag Of Words with NLTK Stemming\"\n",
    "n_splits = 5\n",
    "X = train_ds_features.toarray()\n",
    "y = train_ds.sentiment\n",
    "stratified_K_fold_validation(model_obj, model_name, process, n_splits, X, y)\n",
    "df_model_selection"
   ]
  },
  {
   "cell_type": "markdown",
   "metadata": {},
   "source": [
    "# SGD Classifier"
   ]
  },
  {
   "cell_type": "code",
   "execution_count": 107,
   "metadata": {},
   "outputs": [],
   "source": [
    "from sklearn.linear_model import SGDClassifier\n",
    "from sklearn.multiclass import OneVsRestClassifier\n",
    "\n",
    "sgd = OneVsRestClassifier(SGDClassifier())"
   ]
  },
  {
   "cell_type": "code",
   "execution_count": 108,
   "metadata": {},
   "outputs": [],
   "source": [
    "sgd.fit(train_X.toarray(), train_y)\n",
    "test_ds_predicted = sgd.predict( test_X.toarray() )"
   ]
  },
  {
   "cell_type": "code",
   "execution_count": 109,
   "metadata": {},
   "outputs": [
    {
     "name": "stdout",
     "output_type": "stream",
     "text": [
      "              precision    recall  f1-score   support\n",
      "\n",
      "           0       1.00      0.98      0.99       873\n",
      "           1       0.98      1.00      0.99      1203\n",
      "\n",
      "    accuracy                           0.99      2076\n",
      "   macro avg       0.99      0.99      0.99      2076\n",
      "weighted avg       0.99      0.99      0.99      2076\n",
      "\n"
     ]
    }
   ],
   "source": [
    "from sklearn import metrics\n",
    "print( metrics.classification_report( test_y, test_ds_predicted ) )"
   ]
  },
  {
   "cell_type": "code",
   "execution_count": 110,
   "metadata": {},
   "outputs": [
    {
     "name": "stdout",
     "output_type": "stream",
     "text": [
      "<generator object _BaseKFold.split at 0x00000215001FD4C8>\n"
     ]
    },
    {
     "data": {
      "text/html": [
       "<div>\n",
       "<style scoped>\n",
       "    .dataframe tbody tr th:only-of-type {\n",
       "        vertical-align: middle;\n",
       "    }\n",
       "\n",
       "    .dataframe tbody tr th {\n",
       "        vertical-align: top;\n",
       "    }\n",
       "\n",
       "    .dataframe thead th {\n",
       "        text-align: right;\n",
       "    }\n",
       "</style>\n",
       "<table border=\"1\" class=\"dataframe\">\n",
       "  <thead>\n",
       "    <tr style=\"text-align: right;\">\n",
       "      <th></th>\n",
       "      <th>Process</th>\n",
       "      <th>Model Name</th>\n",
       "      <th>F1 Scores</th>\n",
       "      <th>Range of F1 Scores</th>\n",
       "      <th>Std Deviation of F1 Scores</th>\n",
       "    </tr>\n",
       "  </thead>\n",
       "  <tbody>\n",
       "    <tr>\n",
       "      <th>0</th>\n",
       "      <td>Bag Of Words with NLTK Stemming</td>\n",
       "      <td>Binomial Naive Bayes Classifier</td>\n",
       "      <td>[0.92, 0.98, 0.99, 0.99, 1.0]</td>\n",
       "      <td>0.92-1.0</td>\n",
       "      <td>0.032094</td>\n",
       "    </tr>\n",
       "    <tr>\n",
       "      <th>0</th>\n",
       "      <td>Bag Of Words with NLTK Stemming</td>\n",
       "      <td>Logistic Regression</td>\n",
       "      <td>[0.95, 0.98, 0.99, 1.0, 1.0]</td>\n",
       "      <td>0.95-1.0</td>\n",
       "      <td>0.020736</td>\n",
       "    </tr>\n",
       "    <tr>\n",
       "      <th>0</th>\n",
       "      <td>Bag Of Words with NLTK Stemming</td>\n",
       "      <td>Decission Tree</td>\n",
       "      <td>[0.92, 0.98, 0.99, 0.99, 1.0]</td>\n",
       "      <td>0.92-1.0</td>\n",
       "      <td>0.032094</td>\n",
       "    </tr>\n",
       "    <tr>\n",
       "      <th>0</th>\n",
       "      <td>Bag Of Words with NLTK Stemming</td>\n",
       "      <td>Random Forest</td>\n",
       "      <td>[0.92, 0.96, 0.99, 0.99, 1.0]</td>\n",
       "      <td>0.92-1.0</td>\n",
       "      <td>0.032711</td>\n",
       "    </tr>\n",
       "    <tr>\n",
       "      <th>0</th>\n",
       "      <td>Bag Of Words with NLTK Stemming</td>\n",
       "      <td>XG Boost</td>\n",
       "      <td>[0.95, 0.97, 0.99, 0.99, 1.0]</td>\n",
       "      <td>0.95-1.0</td>\n",
       "      <td>0.020000</td>\n",
       "    </tr>\n",
       "    <tr>\n",
       "      <th>0</th>\n",
       "      <td>Bag Of Words with NLTK Stemming</td>\n",
       "      <td>Stochastic Gradient Descent</td>\n",
       "      <td>[0.96, 0.98, 0.99, 1.0, 1.0]</td>\n",
       "      <td>0.96-1.0</td>\n",
       "      <td>0.016733</td>\n",
       "    </tr>\n",
       "  </tbody>\n",
       "</table>\n",
       "</div>"
      ],
      "text/plain": [
       "                           Process                       Model Name  \\\n",
       "0  Bag Of Words with NLTK Stemming  Binomial Naive Bayes Classifier   \n",
       "0  Bag Of Words with NLTK Stemming              Logistic Regression   \n",
       "0  Bag Of Words with NLTK Stemming                   Decission Tree   \n",
       "0  Bag Of Words with NLTK Stemming                    Random Forest   \n",
       "0  Bag Of Words with NLTK Stemming                         XG Boost   \n",
       "0  Bag Of Words with NLTK Stemming      Stochastic Gradient Descent   \n",
       "\n",
       "                       F1 Scores Range of F1 Scores  \\\n",
       "0  [0.92, 0.98, 0.99, 0.99, 1.0]           0.92-1.0   \n",
       "0   [0.95, 0.98, 0.99, 1.0, 1.0]           0.95-1.0   \n",
       "0  [0.92, 0.98, 0.99, 0.99, 1.0]           0.92-1.0   \n",
       "0  [0.92, 0.96, 0.99, 0.99, 1.0]           0.92-1.0   \n",
       "0  [0.95, 0.97, 0.99, 0.99, 1.0]           0.95-1.0   \n",
       "0   [0.96, 0.98, 0.99, 1.0, 1.0]           0.96-1.0   \n",
       "\n",
       "   Std Deviation of F1 Scores  \n",
       "0                    0.032094  \n",
       "0                    0.020736  \n",
       "0                    0.032094  \n",
       "0                    0.032711  \n",
       "0                    0.020000  \n",
       "0                    0.016733  "
      ]
     },
     "execution_count": 110,
     "metadata": {},
     "output_type": "execute_result"
    }
   ],
   "source": [
    "model_obj = sgd\n",
    "model_name = \"Stochastic Gradient Descent\"\n",
    "process = \"Bag Of Words with NLTK Stemming\"\n",
    "n_splits = 5\n",
    "X = train_ds_features.toarray()\n",
    "y = train_ds.sentiment\n",
    "stratified_K_fold_validation(model_obj, model_name, process, n_splits, X, y)\n",
    "df_model_selection"
   ]
  },
  {
   "cell_type": "markdown",
   "metadata": {},
   "source": [
    "# Gaussian Process Classifier"
   ]
  },
  {
   "cell_type": "code",
   "execution_count": 111,
   "metadata": {},
   "outputs": [],
   "source": [
    "from sklearn.gaussian_process import GaussianProcessClassifier\n",
    "gausian_process = GaussianProcessClassifier()"
   ]
  },
  {
   "cell_type": "code",
   "execution_count": 112,
   "metadata": {},
   "outputs": [],
   "source": [
    "gausian_process.fit(train_X.toarray(), train_y)\n",
    "test_ds_predicted = gausian_process.predict( test_X.toarray() )"
   ]
  },
  {
   "cell_type": "code",
   "execution_count": 113,
   "metadata": {},
   "outputs": [
    {
     "name": "stdout",
     "output_type": "stream",
     "text": [
      "              precision    recall  f1-score   support\n",
      "\n",
      "           0       1.00      0.97      0.98       873\n",
      "           1       0.98      1.00      0.99      1203\n",
      "\n",
      "    accuracy                           0.99      2076\n",
      "   macro avg       0.99      0.98      0.99      2076\n",
      "weighted avg       0.99      0.99      0.99      2076\n",
      "\n"
     ]
    }
   ],
   "source": [
    "from sklearn import metrics\n",
    "print( metrics.classification_report( test_y, test_ds_predicted ) )"
   ]
  },
  {
   "cell_type": "code",
   "execution_count": 114,
   "metadata": {},
   "outputs": [
    {
     "name": "stdout",
     "output_type": "stream",
     "text": [
      "<generator object _BaseKFold.split at 0x000002150238A148>\n"
     ]
    },
    {
     "data": {
      "text/html": [
       "<div>\n",
       "<style scoped>\n",
       "    .dataframe tbody tr th:only-of-type {\n",
       "        vertical-align: middle;\n",
       "    }\n",
       "\n",
       "    .dataframe tbody tr th {\n",
       "        vertical-align: top;\n",
       "    }\n",
       "\n",
       "    .dataframe thead th {\n",
       "        text-align: right;\n",
       "    }\n",
       "</style>\n",
       "<table border=\"1\" class=\"dataframe\">\n",
       "  <thead>\n",
       "    <tr style=\"text-align: right;\">\n",
       "      <th></th>\n",
       "      <th>Process</th>\n",
       "      <th>Model Name</th>\n",
       "      <th>F1 Scores</th>\n",
       "      <th>Range of F1 Scores</th>\n",
       "      <th>Std Deviation of F1 Scores</th>\n",
       "    </tr>\n",
       "  </thead>\n",
       "  <tbody>\n",
       "    <tr>\n",
       "      <th>0</th>\n",
       "      <td>Bag Of Words with NLTK Stemming</td>\n",
       "      <td>Binomial Naive Bayes Classifier</td>\n",
       "      <td>[0.92, 0.98, 0.99, 0.99, 1.0]</td>\n",
       "      <td>0.92-1.0</td>\n",
       "      <td>0.032094</td>\n",
       "    </tr>\n",
       "    <tr>\n",
       "      <th>0</th>\n",
       "      <td>Bag Of Words with NLTK Stemming</td>\n",
       "      <td>Logistic Regression</td>\n",
       "      <td>[0.95, 0.98, 0.99, 1.0, 1.0]</td>\n",
       "      <td>0.95-1.0</td>\n",
       "      <td>0.020736</td>\n",
       "    </tr>\n",
       "    <tr>\n",
       "      <th>0</th>\n",
       "      <td>Bag Of Words with NLTK Stemming</td>\n",
       "      <td>Decission Tree</td>\n",
       "      <td>[0.92, 0.98, 0.99, 0.99, 1.0]</td>\n",
       "      <td>0.92-1.0</td>\n",
       "      <td>0.032094</td>\n",
       "    </tr>\n",
       "    <tr>\n",
       "      <th>0</th>\n",
       "      <td>Bag Of Words with NLTK Stemming</td>\n",
       "      <td>Random Forest</td>\n",
       "      <td>[0.92, 0.96, 0.99, 0.99, 1.0]</td>\n",
       "      <td>0.92-1.0</td>\n",
       "      <td>0.032711</td>\n",
       "    </tr>\n",
       "    <tr>\n",
       "      <th>0</th>\n",
       "      <td>Bag Of Words with NLTK Stemming</td>\n",
       "      <td>XG Boost</td>\n",
       "      <td>[0.95, 0.97, 0.99, 0.99, 1.0]</td>\n",
       "      <td>0.95-1.0</td>\n",
       "      <td>0.020000</td>\n",
       "    </tr>\n",
       "    <tr>\n",
       "      <th>0</th>\n",
       "      <td>Bag Of Words with NLTK Stemming</td>\n",
       "      <td>Stochastic Gradient Descent</td>\n",
       "      <td>[0.96, 0.98, 0.99, 1.0, 1.0]</td>\n",
       "      <td>0.96-1.0</td>\n",
       "      <td>0.016733</td>\n",
       "    </tr>\n",
       "    <tr>\n",
       "      <th>0</th>\n",
       "      <td>Bag Of Words with NLTK Stemming</td>\n",
       "      <td>Gausian Process</td>\n",
       "      <td>[0.93, 0.99, 0.99, 0.99, 1.0]</td>\n",
       "      <td>0.93-1.0</td>\n",
       "      <td>0.028284</td>\n",
       "    </tr>\n",
       "  </tbody>\n",
       "</table>\n",
       "</div>"
      ],
      "text/plain": [
       "                           Process                       Model Name  \\\n",
       "0  Bag Of Words with NLTK Stemming  Binomial Naive Bayes Classifier   \n",
       "0  Bag Of Words with NLTK Stemming              Logistic Regression   \n",
       "0  Bag Of Words with NLTK Stemming                   Decission Tree   \n",
       "0  Bag Of Words with NLTK Stemming                    Random Forest   \n",
       "0  Bag Of Words with NLTK Stemming                         XG Boost   \n",
       "0  Bag Of Words with NLTK Stemming      Stochastic Gradient Descent   \n",
       "0  Bag Of Words with NLTK Stemming                  Gausian Process   \n",
       "\n",
       "                       F1 Scores Range of F1 Scores  \\\n",
       "0  [0.92, 0.98, 0.99, 0.99, 1.0]           0.92-1.0   \n",
       "0   [0.95, 0.98, 0.99, 1.0, 1.0]           0.95-1.0   \n",
       "0  [0.92, 0.98, 0.99, 0.99, 1.0]           0.92-1.0   \n",
       "0  [0.92, 0.96, 0.99, 0.99, 1.0]           0.92-1.0   \n",
       "0  [0.95, 0.97, 0.99, 0.99, 1.0]           0.95-1.0   \n",
       "0   [0.96, 0.98, 0.99, 1.0, 1.0]           0.96-1.0   \n",
       "0  [0.93, 0.99, 0.99, 0.99, 1.0]           0.93-1.0   \n",
       "\n",
       "   Std Deviation of F1 Scores  \n",
       "0                    0.032094  \n",
       "0                    0.020736  \n",
       "0                    0.032094  \n",
       "0                    0.032711  \n",
       "0                    0.020000  \n",
       "0                    0.016733  \n",
       "0                    0.028284  "
      ]
     },
     "execution_count": 114,
     "metadata": {},
     "output_type": "execute_result"
    }
   ],
   "source": [
    "model_obj = gausian_process\n",
    "model_name = \"Gausian Process\"\n",
    "process = \"Bag Of Words with NLTK Stemming\"\n",
    "n_splits = 5\n",
    "X = train_ds_features.toarray()\n",
    "y = train_ds.sentiment\n",
    "stratified_K_fold_validation(model_obj, model_name, process, n_splits, X, y)\n",
    "df_model_selection"
   ]
  },
  {
   "cell_type": "markdown",
   "metadata": {},
   "source": [
    "# KNN Classifier"
   ]
  },
  {
   "cell_type": "code",
   "execution_count": 115,
   "metadata": {},
   "outputs": [],
   "source": [
    "from sklearn.neighbors import KNeighborsClassifier\n",
    "knn = KNeighborsClassifier()"
   ]
  },
  {
   "cell_type": "code",
   "execution_count": 116,
   "metadata": {},
   "outputs": [],
   "source": [
    "knn.fit(train_X.toarray(), train_y)\n",
    "test_ds_predicted = knn.predict( test_X.toarray() )"
   ]
  },
  {
   "cell_type": "code",
   "execution_count": 117,
   "metadata": {},
   "outputs": [
    {
     "name": "stdout",
     "output_type": "stream",
     "text": [
      "              precision    recall  f1-score   support\n",
      "\n",
      "           0       1.00      0.96      0.98       873\n",
      "           1       0.97      1.00      0.99      1203\n",
      "\n",
      "    accuracy                           0.98      2076\n",
      "   macro avg       0.99      0.98      0.98      2076\n",
      "weighted avg       0.98      0.98      0.98      2076\n",
      "\n"
     ]
    }
   ],
   "source": [
    "from sklearn import metrics\n",
    "print( metrics.classification_report( test_y, test_ds_predicted ) )"
   ]
  },
  {
   "cell_type": "code",
   "execution_count": 118,
   "metadata": {},
   "outputs": [
    {
     "name": "stdout",
     "output_type": "stream",
     "text": [
      "<generator object _BaseKFold.split at 0x000002150238AB48>\n"
     ]
    },
    {
     "data": {
      "text/html": [
       "<div>\n",
       "<style scoped>\n",
       "    .dataframe tbody tr th:only-of-type {\n",
       "        vertical-align: middle;\n",
       "    }\n",
       "\n",
       "    .dataframe tbody tr th {\n",
       "        vertical-align: top;\n",
       "    }\n",
       "\n",
       "    .dataframe thead th {\n",
       "        text-align: right;\n",
       "    }\n",
       "</style>\n",
       "<table border=\"1\" class=\"dataframe\">\n",
       "  <thead>\n",
       "    <tr style=\"text-align: right;\">\n",
       "      <th></th>\n",
       "      <th>Process</th>\n",
       "      <th>Model Name</th>\n",
       "      <th>F1 Scores</th>\n",
       "      <th>Range of F1 Scores</th>\n",
       "      <th>Std Deviation of F1 Scores</th>\n",
       "    </tr>\n",
       "  </thead>\n",
       "  <tbody>\n",
       "    <tr>\n",
       "      <th>0</th>\n",
       "      <td>Bag Of Words with NLTK Stemming</td>\n",
       "      <td>Binomial Naive Bayes Classifier</td>\n",
       "      <td>[0.92, 0.98, 0.99, 0.99, 1.0]</td>\n",
       "      <td>0.92-1.0</td>\n",
       "      <td>0.032094</td>\n",
       "    </tr>\n",
       "    <tr>\n",
       "      <th>0</th>\n",
       "      <td>Bag Of Words with NLTK Stemming</td>\n",
       "      <td>Logistic Regression</td>\n",
       "      <td>[0.95, 0.98, 0.99, 1.0, 1.0]</td>\n",
       "      <td>0.95-1.0</td>\n",
       "      <td>0.020736</td>\n",
       "    </tr>\n",
       "    <tr>\n",
       "      <th>0</th>\n",
       "      <td>Bag Of Words with NLTK Stemming</td>\n",
       "      <td>Decission Tree</td>\n",
       "      <td>[0.92, 0.98, 0.99, 0.99, 1.0]</td>\n",
       "      <td>0.92-1.0</td>\n",
       "      <td>0.032094</td>\n",
       "    </tr>\n",
       "    <tr>\n",
       "      <th>0</th>\n",
       "      <td>Bag Of Words with NLTK Stemming</td>\n",
       "      <td>Random Forest</td>\n",
       "      <td>[0.92, 0.96, 0.99, 0.99, 1.0]</td>\n",
       "      <td>0.92-1.0</td>\n",
       "      <td>0.032711</td>\n",
       "    </tr>\n",
       "    <tr>\n",
       "      <th>0</th>\n",
       "      <td>Bag Of Words with NLTK Stemming</td>\n",
       "      <td>XG Boost</td>\n",
       "      <td>[0.95, 0.97, 0.99, 0.99, 1.0]</td>\n",
       "      <td>0.95-1.0</td>\n",
       "      <td>0.020000</td>\n",
       "    </tr>\n",
       "    <tr>\n",
       "      <th>0</th>\n",
       "      <td>Bag Of Words with NLTK Stemming</td>\n",
       "      <td>Stochastic Gradient Descent</td>\n",
       "      <td>[0.96, 0.98, 0.99, 1.0, 1.0]</td>\n",
       "      <td>0.96-1.0</td>\n",
       "      <td>0.016733</td>\n",
       "    </tr>\n",
       "    <tr>\n",
       "      <th>0</th>\n",
       "      <td>Bag Of Words with NLTK Stemming</td>\n",
       "      <td>Gausian Process</td>\n",
       "      <td>[0.93, 0.99, 0.99, 0.99, 1.0]</td>\n",
       "      <td>0.93-1.0</td>\n",
       "      <td>0.028284</td>\n",
       "    </tr>\n",
       "    <tr>\n",
       "      <th>0</th>\n",
       "      <td>Bag Of Words with NLTK Stemming</td>\n",
       "      <td>K Nearst Neighbour</td>\n",
       "      <td>[0.92, 0.97, 0.98, 0.99, 1.0]</td>\n",
       "      <td>0.92-1.0</td>\n",
       "      <td>0.031145</td>\n",
       "    </tr>\n",
       "  </tbody>\n",
       "</table>\n",
       "</div>"
      ],
      "text/plain": [
       "                           Process                       Model Name  \\\n",
       "0  Bag Of Words with NLTK Stemming  Binomial Naive Bayes Classifier   \n",
       "0  Bag Of Words with NLTK Stemming              Logistic Regression   \n",
       "0  Bag Of Words with NLTK Stemming                   Decission Tree   \n",
       "0  Bag Of Words with NLTK Stemming                    Random Forest   \n",
       "0  Bag Of Words with NLTK Stemming                         XG Boost   \n",
       "0  Bag Of Words with NLTK Stemming      Stochastic Gradient Descent   \n",
       "0  Bag Of Words with NLTK Stemming                  Gausian Process   \n",
       "0  Bag Of Words with NLTK Stemming               K Nearst Neighbour   \n",
       "\n",
       "                       F1 Scores Range of F1 Scores  \\\n",
       "0  [0.92, 0.98, 0.99, 0.99, 1.0]           0.92-1.0   \n",
       "0   [0.95, 0.98, 0.99, 1.0, 1.0]           0.95-1.0   \n",
       "0  [0.92, 0.98, 0.99, 0.99, 1.0]           0.92-1.0   \n",
       "0  [0.92, 0.96, 0.99, 0.99, 1.0]           0.92-1.0   \n",
       "0  [0.95, 0.97, 0.99, 0.99, 1.0]           0.95-1.0   \n",
       "0   [0.96, 0.98, 0.99, 1.0, 1.0]           0.96-1.0   \n",
       "0  [0.93, 0.99, 0.99, 0.99, 1.0]           0.93-1.0   \n",
       "0  [0.92, 0.97, 0.98, 0.99, 1.0]           0.92-1.0   \n",
       "\n",
       "   Std Deviation of F1 Scores  \n",
       "0                    0.032094  \n",
       "0                    0.020736  \n",
       "0                    0.032094  \n",
       "0                    0.032711  \n",
       "0                    0.020000  \n",
       "0                    0.016733  \n",
       "0                    0.028284  \n",
       "0                    0.031145  "
      ]
     },
     "execution_count": 118,
     "metadata": {},
     "output_type": "execute_result"
    }
   ],
   "source": [
    "model_obj = knn\n",
    "model_name = \"K Nearst Neighbour\"\n",
    "process = \"Bag Of Words with NLTK Stemming\"\n",
    "n_splits = 5\n",
    "X = train_ds_features.toarray()\n",
    "y = train_ds.sentiment\n",
    "stratified_K_fold_validation(model_obj, model_name, process, n_splits, X, y)\n",
    "df_model_selection"
   ]
  },
  {
   "cell_type": "markdown",
   "metadata": {},
   "source": [
    "# Linear Discriminant Analysis"
   ]
  },
  {
   "cell_type": "code",
   "execution_count": 119,
   "metadata": {},
   "outputs": [],
   "source": [
    "from sklearn.discriminant_analysis import LinearDiscriminantAnalysis\n",
    "lda = LinearDiscriminantAnalysis()"
   ]
  },
  {
   "cell_type": "code",
   "execution_count": 120,
   "metadata": {},
   "outputs": [],
   "source": [
    "lda.fit(train_X.toarray(), train_y)\n",
    "test_ds_predicted = lda.predict( test_X.toarray() )"
   ]
  },
  {
   "cell_type": "code",
   "execution_count": 121,
   "metadata": {},
   "outputs": [
    {
     "name": "stdout",
     "output_type": "stream",
     "text": [
      "              precision    recall  f1-score   support\n",
      "\n",
      "           0       0.99      0.98      0.99       873\n",
      "           1       0.99      0.99      0.99      1203\n",
      "\n",
      "    accuracy                           0.99      2076\n",
      "   macro avg       0.99      0.99      0.99      2076\n",
      "weighted avg       0.99      0.99      0.99      2076\n",
      "\n"
     ]
    }
   ],
   "source": [
    "from sklearn import metrics\n",
    "print( metrics.classification_report( test_y, test_ds_predicted ) )"
   ]
  },
  {
   "cell_type": "code",
   "execution_count": 122,
   "metadata": {},
   "outputs": [
    {
     "name": "stdout",
     "output_type": "stream",
     "text": [
      "<generator object _BaseKFold.split at 0x00000215023B91C8>\n"
     ]
    },
    {
     "data": {
      "text/html": [
       "<div>\n",
       "<style scoped>\n",
       "    .dataframe tbody tr th:only-of-type {\n",
       "        vertical-align: middle;\n",
       "    }\n",
       "\n",
       "    .dataframe tbody tr th {\n",
       "        vertical-align: top;\n",
       "    }\n",
       "\n",
       "    .dataframe thead th {\n",
       "        text-align: right;\n",
       "    }\n",
       "</style>\n",
       "<table border=\"1\" class=\"dataframe\">\n",
       "  <thead>\n",
       "    <tr style=\"text-align: right;\">\n",
       "      <th></th>\n",
       "      <th>Process</th>\n",
       "      <th>Model Name</th>\n",
       "      <th>F1 Scores</th>\n",
       "      <th>Range of F1 Scores</th>\n",
       "      <th>Std Deviation of F1 Scores</th>\n",
       "    </tr>\n",
       "  </thead>\n",
       "  <tbody>\n",
       "    <tr>\n",
       "      <th>0</th>\n",
       "      <td>Bag Of Words with NLTK Stemming</td>\n",
       "      <td>Binomial Naive Bayes Classifier</td>\n",
       "      <td>[0.92, 0.98, 0.99, 0.99, 1.0]</td>\n",
       "      <td>0.92-1.0</td>\n",
       "      <td>0.032094</td>\n",
       "    </tr>\n",
       "    <tr>\n",
       "      <th>0</th>\n",
       "      <td>Bag Of Words with NLTK Stemming</td>\n",
       "      <td>Logistic Regression</td>\n",
       "      <td>[0.95, 0.98, 0.99, 1.0, 1.0]</td>\n",
       "      <td>0.95-1.0</td>\n",
       "      <td>0.020736</td>\n",
       "    </tr>\n",
       "    <tr>\n",
       "      <th>0</th>\n",
       "      <td>Bag Of Words with NLTK Stemming</td>\n",
       "      <td>Decission Tree</td>\n",
       "      <td>[0.92, 0.98, 0.99, 0.99, 1.0]</td>\n",
       "      <td>0.92-1.0</td>\n",
       "      <td>0.032094</td>\n",
       "    </tr>\n",
       "    <tr>\n",
       "      <th>0</th>\n",
       "      <td>Bag Of Words with NLTK Stemming</td>\n",
       "      <td>Random Forest</td>\n",
       "      <td>[0.92, 0.96, 0.99, 0.99, 1.0]</td>\n",
       "      <td>0.92-1.0</td>\n",
       "      <td>0.032711</td>\n",
       "    </tr>\n",
       "    <tr>\n",
       "      <th>0</th>\n",
       "      <td>Bag Of Words with NLTK Stemming</td>\n",
       "      <td>XG Boost</td>\n",
       "      <td>[0.95, 0.97, 0.99, 0.99, 1.0]</td>\n",
       "      <td>0.95-1.0</td>\n",
       "      <td>0.020000</td>\n",
       "    </tr>\n",
       "    <tr>\n",
       "      <th>0</th>\n",
       "      <td>Bag Of Words with NLTK Stemming</td>\n",
       "      <td>Stochastic Gradient Descent</td>\n",
       "      <td>[0.96, 0.98, 0.99, 1.0, 1.0]</td>\n",
       "      <td>0.96-1.0</td>\n",
       "      <td>0.016733</td>\n",
       "    </tr>\n",
       "    <tr>\n",
       "      <th>0</th>\n",
       "      <td>Bag Of Words with NLTK Stemming</td>\n",
       "      <td>Gausian Process</td>\n",
       "      <td>[0.93, 0.99, 0.99, 0.99, 1.0]</td>\n",
       "      <td>0.93-1.0</td>\n",
       "      <td>0.028284</td>\n",
       "    </tr>\n",
       "    <tr>\n",
       "      <th>0</th>\n",
       "      <td>Bag Of Words with NLTK Stemming</td>\n",
       "      <td>K Nearst Neighbour</td>\n",
       "      <td>[0.92, 0.97, 0.98, 0.99, 1.0]</td>\n",
       "      <td>0.92-1.0</td>\n",
       "      <td>0.031145</td>\n",
       "    </tr>\n",
       "    <tr>\n",
       "      <th>0</th>\n",
       "      <td>Bag Of Words with NLTK Stemming</td>\n",
       "      <td>Linear Discriminant Analysis</td>\n",
       "      <td>[0.98, 0.99, 0.99, 0.99, 1.0]</td>\n",
       "      <td>0.98-1.0</td>\n",
       "      <td>0.007071</td>\n",
       "    </tr>\n",
       "  </tbody>\n",
       "</table>\n",
       "</div>"
      ],
      "text/plain": [
       "                           Process                       Model Name  \\\n",
       "0  Bag Of Words with NLTK Stemming  Binomial Naive Bayes Classifier   \n",
       "0  Bag Of Words with NLTK Stemming              Logistic Regression   \n",
       "0  Bag Of Words with NLTK Stemming                   Decission Tree   \n",
       "0  Bag Of Words with NLTK Stemming                    Random Forest   \n",
       "0  Bag Of Words with NLTK Stemming                         XG Boost   \n",
       "0  Bag Of Words with NLTK Stemming      Stochastic Gradient Descent   \n",
       "0  Bag Of Words with NLTK Stemming                  Gausian Process   \n",
       "0  Bag Of Words with NLTK Stemming               K Nearst Neighbour   \n",
       "0  Bag Of Words with NLTK Stemming     Linear Discriminant Analysis   \n",
       "\n",
       "                       F1 Scores Range of F1 Scores  \\\n",
       "0  [0.92, 0.98, 0.99, 0.99, 1.0]           0.92-1.0   \n",
       "0   [0.95, 0.98, 0.99, 1.0, 1.0]           0.95-1.0   \n",
       "0  [0.92, 0.98, 0.99, 0.99, 1.0]           0.92-1.0   \n",
       "0  [0.92, 0.96, 0.99, 0.99, 1.0]           0.92-1.0   \n",
       "0  [0.95, 0.97, 0.99, 0.99, 1.0]           0.95-1.0   \n",
       "0   [0.96, 0.98, 0.99, 1.0, 1.0]           0.96-1.0   \n",
       "0  [0.93, 0.99, 0.99, 0.99, 1.0]           0.93-1.0   \n",
       "0  [0.92, 0.97, 0.98, 0.99, 1.0]           0.92-1.0   \n",
       "0  [0.98, 0.99, 0.99, 0.99, 1.0]           0.98-1.0   \n",
       "\n",
       "   Std Deviation of F1 Scores  \n",
       "0                    0.032094  \n",
       "0                    0.020736  \n",
       "0                    0.032094  \n",
       "0                    0.032711  \n",
       "0                    0.020000  \n",
       "0                    0.016733  \n",
       "0                    0.028284  \n",
       "0                    0.031145  \n",
       "0                    0.007071  "
      ]
     },
     "execution_count": 122,
     "metadata": {},
     "output_type": "execute_result"
    }
   ],
   "source": [
    "model_obj = lda\n",
    "model_name = \"Linear Discriminant Analysis\"\n",
    "process = \"Bag Of Words with NLTK Stemming\"\n",
    "n_splits = 5\n",
    "X = train_ds_features.toarray()\n",
    "y = train_ds.sentiment\n",
    "stratified_K_fold_validation(model_obj, model_name, process, n_splits, X, y)\n",
    "df_model_selection"
   ]
  },
  {
   "cell_type": "markdown",
   "metadata": {},
   "source": [
    "# Support Vector Machine"
   ]
  },
  {
   "cell_type": "code",
   "execution_count": 123,
   "metadata": {},
   "outputs": [],
   "source": [
    "from sklearn.svm import SVC\n",
    "svm = SVC()"
   ]
  },
  {
   "cell_type": "code",
   "execution_count": 124,
   "metadata": {},
   "outputs": [],
   "source": [
    "svm.fit(train_X.toarray(), train_y)\n",
    "test_ds_predicted = svm.predict( test_X.toarray() )"
   ]
  },
  {
   "cell_type": "code",
   "execution_count": 125,
   "metadata": {},
   "outputs": [
    {
     "name": "stdout",
     "output_type": "stream",
     "text": [
      "<generator object _BaseKFold.split at 0x00000215023B9B48>\n"
     ]
    },
    {
     "data": {
      "text/html": [
       "<div>\n",
       "<style scoped>\n",
       "    .dataframe tbody tr th:only-of-type {\n",
       "        vertical-align: middle;\n",
       "    }\n",
       "\n",
       "    .dataframe tbody tr th {\n",
       "        vertical-align: top;\n",
       "    }\n",
       "\n",
       "    .dataframe thead th {\n",
       "        text-align: right;\n",
       "    }\n",
       "</style>\n",
       "<table border=\"1\" class=\"dataframe\">\n",
       "  <thead>\n",
       "    <tr style=\"text-align: right;\">\n",
       "      <th></th>\n",
       "      <th>Process</th>\n",
       "      <th>Model Name</th>\n",
       "      <th>F1 Scores</th>\n",
       "      <th>Range of F1 Scores</th>\n",
       "      <th>Std Deviation of F1 Scores</th>\n",
       "    </tr>\n",
       "  </thead>\n",
       "  <tbody>\n",
       "    <tr>\n",
       "      <th>0</th>\n",
       "      <td>Bag Of Words with NLTK Stemming</td>\n",
       "      <td>Binomial Naive Bayes Classifier</td>\n",
       "      <td>[0.92, 0.98, 0.99, 0.99, 1.0]</td>\n",
       "      <td>0.92-1.0</td>\n",
       "      <td>0.032094</td>\n",
       "    </tr>\n",
       "    <tr>\n",
       "      <th>0</th>\n",
       "      <td>Bag Of Words with NLTK Stemming</td>\n",
       "      <td>Logistic Regression</td>\n",
       "      <td>[0.95, 0.98, 0.99, 1.0, 1.0]</td>\n",
       "      <td>0.95-1.0</td>\n",
       "      <td>0.020736</td>\n",
       "    </tr>\n",
       "    <tr>\n",
       "      <th>0</th>\n",
       "      <td>Bag Of Words with NLTK Stemming</td>\n",
       "      <td>Decission Tree</td>\n",
       "      <td>[0.92, 0.98, 0.99, 0.99, 1.0]</td>\n",
       "      <td>0.92-1.0</td>\n",
       "      <td>0.032094</td>\n",
       "    </tr>\n",
       "    <tr>\n",
       "      <th>0</th>\n",
       "      <td>Bag Of Words with NLTK Stemming</td>\n",
       "      <td>Random Forest</td>\n",
       "      <td>[0.92, 0.96, 0.99, 0.99, 1.0]</td>\n",
       "      <td>0.92-1.0</td>\n",
       "      <td>0.032711</td>\n",
       "    </tr>\n",
       "    <tr>\n",
       "      <th>0</th>\n",
       "      <td>Bag Of Words with NLTK Stemming</td>\n",
       "      <td>XG Boost</td>\n",
       "      <td>[0.95, 0.97, 0.99, 0.99, 1.0]</td>\n",
       "      <td>0.95-1.0</td>\n",
       "      <td>0.020000</td>\n",
       "    </tr>\n",
       "    <tr>\n",
       "      <th>0</th>\n",
       "      <td>Bag Of Words with NLTK Stemming</td>\n",
       "      <td>Stochastic Gradient Descent</td>\n",
       "      <td>[0.96, 0.98, 0.99, 1.0, 1.0]</td>\n",
       "      <td>0.96-1.0</td>\n",
       "      <td>0.016733</td>\n",
       "    </tr>\n",
       "    <tr>\n",
       "      <th>0</th>\n",
       "      <td>Bag Of Words with NLTK Stemming</td>\n",
       "      <td>Gausian Process</td>\n",
       "      <td>[0.93, 0.99, 0.99, 0.99, 1.0]</td>\n",
       "      <td>0.93-1.0</td>\n",
       "      <td>0.028284</td>\n",
       "    </tr>\n",
       "    <tr>\n",
       "      <th>0</th>\n",
       "      <td>Bag Of Words with NLTK Stemming</td>\n",
       "      <td>K Nearst Neighbour</td>\n",
       "      <td>[0.92, 0.97, 0.98, 0.99, 1.0]</td>\n",
       "      <td>0.92-1.0</td>\n",
       "      <td>0.031145</td>\n",
       "    </tr>\n",
       "    <tr>\n",
       "      <th>0</th>\n",
       "      <td>Bag Of Words with NLTK Stemming</td>\n",
       "      <td>Linear Discriminant Analysis</td>\n",
       "      <td>[0.98, 0.99, 0.99, 0.99, 1.0]</td>\n",
       "      <td>0.98-1.0</td>\n",
       "      <td>0.007071</td>\n",
       "    </tr>\n",
       "    <tr>\n",
       "      <th>0</th>\n",
       "      <td>Bag Of Words with NLTK Stemming</td>\n",
       "      <td>Support Vector Machine</td>\n",
       "      <td>[0.95, 0.97, 0.99, 0.99, 1.0]</td>\n",
       "      <td>0.95-1.0</td>\n",
       "      <td>0.020000</td>\n",
       "    </tr>\n",
       "  </tbody>\n",
       "</table>\n",
       "</div>"
      ],
      "text/plain": [
       "                           Process                       Model Name  \\\n",
       "0  Bag Of Words with NLTK Stemming  Binomial Naive Bayes Classifier   \n",
       "0  Bag Of Words with NLTK Stemming              Logistic Regression   \n",
       "0  Bag Of Words with NLTK Stemming                   Decission Tree   \n",
       "0  Bag Of Words with NLTK Stemming                    Random Forest   \n",
       "0  Bag Of Words with NLTK Stemming                         XG Boost   \n",
       "0  Bag Of Words with NLTK Stemming      Stochastic Gradient Descent   \n",
       "0  Bag Of Words with NLTK Stemming                  Gausian Process   \n",
       "0  Bag Of Words with NLTK Stemming               K Nearst Neighbour   \n",
       "0  Bag Of Words with NLTK Stemming     Linear Discriminant Analysis   \n",
       "0  Bag Of Words with NLTK Stemming           Support Vector Machine   \n",
       "\n",
       "                       F1 Scores Range of F1 Scores  \\\n",
       "0  [0.92, 0.98, 0.99, 0.99, 1.0]           0.92-1.0   \n",
       "0   [0.95, 0.98, 0.99, 1.0, 1.0]           0.95-1.0   \n",
       "0  [0.92, 0.98, 0.99, 0.99, 1.0]           0.92-1.0   \n",
       "0  [0.92, 0.96, 0.99, 0.99, 1.0]           0.92-1.0   \n",
       "0  [0.95, 0.97, 0.99, 0.99, 1.0]           0.95-1.0   \n",
       "0   [0.96, 0.98, 0.99, 1.0, 1.0]           0.96-1.0   \n",
       "0  [0.93, 0.99, 0.99, 0.99, 1.0]           0.93-1.0   \n",
       "0  [0.92, 0.97, 0.98, 0.99, 1.0]           0.92-1.0   \n",
       "0  [0.98, 0.99, 0.99, 0.99, 1.0]           0.98-1.0   \n",
       "0  [0.95, 0.97, 0.99, 0.99, 1.0]           0.95-1.0   \n",
       "\n",
       "   Std Deviation of F1 Scores  \n",
       "0                    0.032094  \n",
       "0                    0.020736  \n",
       "0                    0.032094  \n",
       "0                    0.032711  \n",
       "0                    0.020000  \n",
       "0                    0.016733  \n",
       "0                    0.028284  \n",
       "0                    0.031145  \n",
       "0                    0.007071  \n",
       "0                    0.020000  "
      ]
     },
     "execution_count": 125,
     "metadata": {},
     "output_type": "execute_result"
    }
   ],
   "source": [
    "model_obj = svm\n",
    "model_name = \"Support Vector Machine\"\n",
    "process = \"Bag Of Words with NLTK Stemming\"\n",
    "n_splits = 5\n",
    "X = train_ds_features.toarray()\n",
    "y = train_ds.sentiment\n",
    "stratified_K_fold_validation(model_obj, model_name, process, n_splits, X, y)\n",
    "df_model_selection"
   ]
  },
  {
   "cell_type": "code",
   "execution_count": 126,
   "metadata": {},
   "outputs": [],
   "source": [
    "df_model_selection.to_csv(\"Model_statistics.csv\",index = False)"
   ]
  },
  {
   "cell_type": "code",
   "execution_count": null,
   "metadata": {},
   "outputs": [],
   "source": []
  }
 ],
 "metadata": {
  "kernelspec": {
   "display_name": "Python 3",
   "language": "python",
   "name": "python3"
  },
  "language_info": {
   "codemirror_mode": {
    "name": "ipython",
    "version": 3
   },
   "file_extension": ".py",
   "mimetype": "text/x-python",
   "name": "python",
   "nbconvert_exporter": "python",
   "pygments_lexer": "ipython3",
   "version": "3.8.5"
  }
 },
 "nbformat": 4,
 "nbformat_minor": 2
}

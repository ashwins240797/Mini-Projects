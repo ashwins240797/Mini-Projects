{
 "cells": [
  {
   "cell_type": "code",
   "execution_count": 1,
   "metadata": {},
   "outputs": [],
   "source": [
    "import pandas as pd\n",
    "import numpy as np\n",
    "\n",
    "import matplotlib\n",
    "import matplotlib.pyplot as plt\n",
    "from pandas.plotting import scatter_matrix\n",
    "%matplotlib inline\n",
    "\n",
    "import seaborn as sns\n",
    "sns.set(style='white',color_codes=True)\n",
    "sns.set(font_scale=1.5)\n",
    "\n",
    "from sklearn.linear_model import LogisticRegression\n",
    "from sklearn.model_selection import train_test_split\n",
    "\n",
    "from sklearn.metrics import confusion_matrix\n",
    "from sklearn.metrics import classification_report\n",
    "from sklearn.metrics import accuracy_score\n",
    "from sklearn.metrics import precision_score\n",
    "from sklearn.metrics import recall_score\n",
    "from sklearn.metrics import f1_score\n",
    "from sklearn import metrics"
   ]
  },
  {
   "cell_type": "code",
   "execution_count": 2,
   "metadata": {},
   "outputs": [
    {
     "data": {
      "text/plain": [
       "(891, 12)"
      ]
     },
     "execution_count": 2,
     "metadata": {},
     "output_type": "execute_result"
    }
   ],
   "source": [
    "# load the dataset\n",
    "df = pd.read_csv(\"D://M_AI//Machine Learning//Demo Datasets//Lesson 4//train.csv\")\n",
    "df.shape"
   ]
  },
  {
   "cell_type": "code",
   "execution_count": 3,
   "metadata": {},
   "outputs": [
    {
     "name": "stdout",
     "output_type": "stream",
     "text": [
      "<class 'pandas.core.frame.DataFrame'>\n",
      "RangeIndex: 891 entries, 0 to 890\n",
      "Data columns (total 12 columns):\n",
      " #   Column       Non-Null Count  Dtype  \n",
      "---  ------       --------------  -----  \n",
      " 0   PassengerId  891 non-null    int64  \n",
      " 1   Survived     891 non-null    int64  \n",
      " 2   Pclass       891 non-null    int64  \n",
      " 3   Name         891 non-null    object \n",
      " 4   Sex          891 non-null    object \n",
      " 5   Age          714 non-null    float64\n",
      " 6   SibSp        891 non-null    int64  \n",
      " 7   Parch        891 non-null    int64  \n",
      " 8   Ticket       891 non-null    object \n",
      " 9   Fare         891 non-null    float64\n",
      " 10  Cabin        204 non-null    object \n",
      " 11  Embarked     889 non-null    object \n",
      "dtypes: float64(2), int64(5), object(5)\n",
      "memory usage: 83.7+ KB\n"
     ]
    }
   ],
   "source": [
    "df.info()"
   ]
  },
  {
   "cell_type": "code",
   "execution_count": 50,
   "metadata": {},
   "outputs": [
    {
     "data": {
      "text/plain": [
       "0    549\n",
       "1    342\n",
       "Name: Survived, dtype: int64"
      ]
     },
     "execution_count": 50,
     "metadata": {},
     "output_type": "execute_result"
    }
   ],
   "source": [
    "df.Survived.value_counts()"
   ]
  },
  {
   "cell_type": "code",
   "execution_count": 51,
   "metadata": {},
   "outputs": [
    {
     "data": {
      "text/plain": [
       "male      577\n",
       "female    314\n",
       "Name: Sex, dtype: int64"
      ]
     },
     "execution_count": 51,
     "metadata": {},
     "output_type": "execute_result"
    }
   ],
   "source": [
    "df.Sex.value_counts()"
   ]
  },
  {
   "cell_type": "code",
   "execution_count": 52,
   "metadata": {},
   "outputs": [
    {
     "data": {
      "text/plain": [
       "S    644\n",
       "C    168\n",
       "Q     77\n",
       "Name: Embarked, dtype: int64"
      ]
     },
     "execution_count": 52,
     "metadata": {},
     "output_type": "execute_result"
    }
   ],
   "source": [
    "df.Embarked.value_counts()"
   ]
  },
  {
   "cell_type": "code",
   "execution_count": 53,
   "metadata": {},
   "outputs": [
    {
     "data": {
      "text/plain": [
       "PassengerId      0\n",
       "Survived         0\n",
       "Pclass           0\n",
       "Name             0\n",
       "Sex              0\n",
       "Age            177\n",
       "SibSp            0\n",
       "Parch            0\n",
       "Ticket           0\n",
       "Fare             0\n",
       "Cabin          687\n",
       "Embarked         2\n",
       "dtype: int64"
      ]
     },
     "execution_count": 53,
     "metadata": {},
     "output_type": "execute_result"
    }
   ],
   "source": [
    "# check for null values\n",
    "df.isna().sum()"
   ]
  },
  {
   "cell_type": "code",
   "execution_count": 54,
   "metadata": {},
   "outputs": [
    {
     "data": {
      "text/html": [
       "<div>\n",
       "<style scoped>\n",
       "    .dataframe tbody tr th:only-of-type {\n",
       "        vertical-align: middle;\n",
       "    }\n",
       "\n",
       "    .dataframe tbody tr th {\n",
       "        vertical-align: top;\n",
       "    }\n",
       "\n",
       "    .dataframe thead th {\n",
       "        text-align: right;\n",
       "    }\n",
       "</style>\n",
       "<table border=\"1\" class=\"dataframe\">\n",
       "  <thead>\n",
       "    <tr style=\"text-align: right;\">\n",
       "      <th></th>\n",
       "      <th>Survived</th>\n",
       "      <th>Pclass</th>\n",
       "      <th>Sex</th>\n",
       "      <th>Age</th>\n",
       "      <th>SibSp</th>\n",
       "      <th>Parch</th>\n",
       "      <th>Fare</th>\n",
       "      <th>Embarked</th>\n",
       "    </tr>\n",
       "  </thead>\n",
       "  <tbody>\n",
       "    <tr>\n",
       "      <th>0</th>\n",
       "      <td>0</td>\n",
       "      <td>3</td>\n",
       "      <td>male</td>\n",
       "      <td>22.0</td>\n",
       "      <td>1</td>\n",
       "      <td>0</td>\n",
       "      <td>7.2500</td>\n",
       "      <td>S</td>\n",
       "    </tr>\n",
       "    <tr>\n",
       "      <th>1</th>\n",
       "      <td>1</td>\n",
       "      <td>1</td>\n",
       "      <td>female</td>\n",
       "      <td>38.0</td>\n",
       "      <td>1</td>\n",
       "      <td>0</td>\n",
       "      <td>71.2833</td>\n",
       "      <td>C</td>\n",
       "    </tr>\n",
       "    <tr>\n",
       "      <th>2</th>\n",
       "      <td>1</td>\n",
       "      <td>3</td>\n",
       "      <td>female</td>\n",
       "      <td>26.0</td>\n",
       "      <td>0</td>\n",
       "      <td>0</td>\n",
       "      <td>7.9250</td>\n",
       "      <td>S</td>\n",
       "    </tr>\n",
       "    <tr>\n",
       "      <th>3</th>\n",
       "      <td>1</td>\n",
       "      <td>1</td>\n",
       "      <td>female</td>\n",
       "      <td>35.0</td>\n",
       "      <td>1</td>\n",
       "      <td>0</td>\n",
       "      <td>53.1000</td>\n",
       "      <td>S</td>\n",
       "    </tr>\n",
       "    <tr>\n",
       "      <th>4</th>\n",
       "      <td>0</td>\n",
       "      <td>3</td>\n",
       "      <td>male</td>\n",
       "      <td>35.0</td>\n",
       "      <td>0</td>\n",
       "      <td>0</td>\n",
       "      <td>8.0500</td>\n",
       "      <td>S</td>\n",
       "    </tr>\n",
       "  </tbody>\n",
       "</table>\n",
       "</div>"
      ],
      "text/plain": [
       "   Survived  Pclass     Sex   Age  SibSp  Parch     Fare Embarked\n",
       "0         0       3    male  22.0      1      0   7.2500        S\n",
       "1         1       1  female  38.0      1      0  71.2833        C\n",
       "2         1       3  female  26.0      0      0   7.9250        S\n",
       "3         1       1  female  35.0      1      0  53.1000        S\n",
       "4         0       3    male  35.0      0      0   8.0500        S"
      ]
     },
     "execution_count": 54,
     "metadata": {},
     "output_type": "execute_result"
    }
   ],
   "source": [
    "# drop the irrelated columns\n",
    "df = df.drop(['PassengerId','Name','Ticket','Cabin'],axis=1)\n",
    "df.head()"
   ]
  },
  {
   "cell_type": "code",
   "execution_count": 55,
   "metadata": {},
   "outputs": [
    {
     "data": {
      "text/plain": [
       "28.0"
      ]
     },
     "execution_count": 55,
     "metadata": {},
     "output_type": "execute_result"
    }
   ],
   "source": [
    "# check the age median\n",
    "df['Age'].median()"
   ]
  },
  {
   "cell_type": "code",
   "execution_count": 56,
   "metadata": {},
   "outputs": [],
   "source": [
    "# define age function to remove null values\n",
    "def age_approx(cols):\n",
    "    Age = cols[0]\n",
    "    Pclass = cols[1]\n",
    "    \n",
    "    if pd.isnull(Age):\n",
    "        if Pclass == 1:\n",
    "            return 37\n",
    "        elif Pclass == 2:\n",
    "            return 28\n",
    "        else:\n",
    "            return 22\n",
    "    else:\n",
    "        return Age"
   ]
  },
  {
   "cell_type": "code",
   "execution_count": 57,
   "metadata": {},
   "outputs": [
    {
     "data": {
      "text/html": [
       "<div>\n",
       "<style scoped>\n",
       "    .dataframe tbody tr th:only-of-type {\n",
       "        vertical-align: middle;\n",
       "    }\n",
       "\n",
       "    .dataframe tbody tr th {\n",
       "        vertical-align: top;\n",
       "    }\n",
       "\n",
       "    .dataframe thead th {\n",
       "        text-align: right;\n",
       "    }\n",
       "</style>\n",
       "<table border=\"1\" class=\"dataframe\">\n",
       "  <thead>\n",
       "    <tr style=\"text-align: right;\">\n",
       "      <th></th>\n",
       "      <th>Survived</th>\n",
       "      <th>Age</th>\n",
       "      <th>SibSp</th>\n",
       "      <th>Parch</th>\n",
       "      <th>Fare</th>\n",
       "    </tr>\n",
       "    <tr>\n",
       "      <th>Pclass</th>\n",
       "      <th></th>\n",
       "      <th></th>\n",
       "      <th></th>\n",
       "      <th></th>\n",
       "      <th></th>\n",
       "    </tr>\n",
       "  </thead>\n",
       "  <tbody>\n",
       "    <tr>\n",
       "      <th>1</th>\n",
       "      <td>0.629630</td>\n",
       "      <td>38.233441</td>\n",
       "      <td>0.416667</td>\n",
       "      <td>0.356481</td>\n",
       "      <td>84.154687</td>\n",
       "    </tr>\n",
       "    <tr>\n",
       "      <th>2</th>\n",
       "      <td>0.472826</td>\n",
       "      <td>29.877630</td>\n",
       "      <td>0.402174</td>\n",
       "      <td>0.380435</td>\n",
       "      <td>20.662183</td>\n",
       "    </tr>\n",
       "    <tr>\n",
       "      <th>3</th>\n",
       "      <td>0.242363</td>\n",
       "      <td>25.140620</td>\n",
       "      <td>0.615071</td>\n",
       "      <td>0.393075</td>\n",
       "      <td>13.675550</td>\n",
       "    </tr>\n",
       "  </tbody>\n",
       "</table>\n",
       "</div>"
      ],
      "text/plain": [
       "        Survived        Age     SibSp     Parch       Fare\n",
       "Pclass                                                    \n",
       "1       0.629630  38.233441  0.416667  0.356481  84.154687\n",
       "2       0.472826  29.877630  0.402174  0.380435  20.662183\n",
       "3       0.242363  25.140620  0.615071  0.393075  13.675550"
      ]
     },
     "execution_count": 57,
     "metadata": {},
     "output_type": "execute_result"
    }
   ],
   "source": [
    "df.groupby(df.Pclass).mean()"
   ]
  },
  {
   "cell_type": "code",
   "execution_count": 58,
   "metadata": {},
   "outputs": [],
   "source": [
    "# applying the age finvtion to remove null values\n",
    "df['Age'] = df[['Age','Pclass']].apply(age_approx,axis=1)"
   ]
  },
  {
   "cell_type": "code",
   "execution_count": 59,
   "metadata": {},
   "outputs": [
    {
     "data": {
      "text/plain": [
       "Survived    0\n",
       "Pclass      0\n",
       "Sex         0\n",
       "Age         0\n",
       "SibSp       0\n",
       "Parch       0\n",
       "Fare        0\n",
       "Embarked    2\n",
       "dtype: int64"
      ]
     },
     "execution_count": 59,
     "metadata": {},
     "output_type": "execute_result"
    }
   ],
   "source": [
    "df.isnull().sum()"
   ]
  },
  {
   "cell_type": "code",
   "execution_count": 60,
   "metadata": {},
   "outputs": [
    {
     "data": {
      "text/plain": [
       "Survived    0\n",
       "Pclass      0\n",
       "Sex         0\n",
       "Age         0\n",
       "SibSp       0\n",
       "Parch       0\n",
       "Fare        0\n",
       "Embarked    0\n",
       "dtype: int64"
      ]
     },
     "execution_count": 60,
     "metadata": {},
     "output_type": "execute_result"
    }
   ],
   "source": [
    "# dropping the embarked null values\n",
    "df.dropna(inplace=True)\n",
    "df.isnull().sum()"
   ]
  },
  {
   "cell_type": "code",
   "execution_count": 61,
   "metadata": {},
   "outputs": [
    {
     "data": {
      "text/plain": [
       "Survived      int64\n",
       "Pclass        int64\n",
       "Sex          object\n",
       "Age         float64\n",
       "SibSp         int64\n",
       "Parch         int64\n",
       "Fare        float64\n",
       "Embarked     object\n",
       "dtype: object"
      ]
     },
     "execution_count": 61,
     "metadata": {},
     "output_type": "execute_result"
    }
   ],
   "source": [
    "# check the data types of columns\n",
    "df.dtypes"
   ]
  },
  {
   "cell_type": "code",
   "execution_count": 62,
   "metadata": {},
   "outputs": [
    {
     "data": {
      "text/html": [
       "<div>\n",
       "<style scoped>\n",
       "    .dataframe tbody tr th:only-of-type {\n",
       "        vertical-align: middle;\n",
       "    }\n",
       "\n",
       "    .dataframe tbody tr th {\n",
       "        vertical-align: top;\n",
       "    }\n",
       "\n",
       "    .dataframe thead th {\n",
       "        text-align: right;\n",
       "    }\n",
       "</style>\n",
       "<table border=\"1\" class=\"dataframe\">\n",
       "  <thead>\n",
       "    <tr style=\"text-align: right;\">\n",
       "      <th></th>\n",
       "      <th>Survived</th>\n",
       "      <th>Pclass</th>\n",
       "      <th>Age</th>\n",
       "      <th>SibSp</th>\n",
       "      <th>Parch</th>\n",
       "      <th>Fare</th>\n",
       "      <th>Sex_female</th>\n",
       "      <th>Sex_male</th>\n",
       "      <th>Embarked_C</th>\n",
       "      <th>Embarked_Q</th>\n",
       "      <th>Embarked_S</th>\n",
       "    </tr>\n",
       "  </thead>\n",
       "  <tbody>\n",
       "    <tr>\n",
       "      <th>0</th>\n",
       "      <td>0</td>\n",
       "      <td>3</td>\n",
       "      <td>22.0</td>\n",
       "      <td>1</td>\n",
       "      <td>0</td>\n",
       "      <td>7.2500</td>\n",
       "      <td>0</td>\n",
       "      <td>1</td>\n",
       "      <td>0</td>\n",
       "      <td>0</td>\n",
       "      <td>1</td>\n",
       "    </tr>\n",
       "    <tr>\n",
       "      <th>1</th>\n",
       "      <td>1</td>\n",
       "      <td>1</td>\n",
       "      <td>38.0</td>\n",
       "      <td>1</td>\n",
       "      <td>0</td>\n",
       "      <td>71.2833</td>\n",
       "      <td>1</td>\n",
       "      <td>0</td>\n",
       "      <td>1</td>\n",
       "      <td>0</td>\n",
       "      <td>0</td>\n",
       "    </tr>\n",
       "    <tr>\n",
       "      <th>2</th>\n",
       "      <td>1</td>\n",
       "      <td>3</td>\n",
       "      <td>26.0</td>\n",
       "      <td>0</td>\n",
       "      <td>0</td>\n",
       "      <td>7.9250</td>\n",
       "      <td>1</td>\n",
       "      <td>0</td>\n",
       "      <td>0</td>\n",
       "      <td>0</td>\n",
       "      <td>1</td>\n",
       "    </tr>\n",
       "    <tr>\n",
       "      <th>3</th>\n",
       "      <td>1</td>\n",
       "      <td>1</td>\n",
       "      <td>35.0</td>\n",
       "      <td>1</td>\n",
       "      <td>0</td>\n",
       "      <td>53.1000</td>\n",
       "      <td>1</td>\n",
       "      <td>0</td>\n",
       "      <td>0</td>\n",
       "      <td>0</td>\n",
       "      <td>1</td>\n",
       "    </tr>\n",
       "    <tr>\n",
       "      <th>4</th>\n",
       "      <td>0</td>\n",
       "      <td>3</td>\n",
       "      <td>35.0</td>\n",
       "      <td>0</td>\n",
       "      <td>0</td>\n",
       "      <td>8.0500</td>\n",
       "      <td>0</td>\n",
       "      <td>1</td>\n",
       "      <td>0</td>\n",
       "      <td>0</td>\n",
       "      <td>1</td>\n",
       "    </tr>\n",
       "  </tbody>\n",
       "</table>\n",
       "</div>"
      ],
      "text/plain": [
       "   Survived  Pclass   Age  SibSp  Parch     Fare  Sex_female  Sex_male  Embarked_C  Embarked_Q  Embarked_S\n",
       "0         0       3  22.0      1      0   7.2500           0         1           0           0           1\n",
       "1         1       1  38.0      1      0  71.2833           1         0           1           0           0\n",
       "2         1       3  26.0      0      0   7.9250           1         0           0           0           1\n",
       "3         1       1  35.0      1      0  53.1000           1         0           0           0           1\n",
       "4         0       3  35.0      0      0   8.0500           0         1           0           0           1"
      ]
     },
     "execution_count": 62,
     "metadata": {},
     "output_type": "execute_result"
    }
   ],
   "source": [
    "# get dummies to change Sex and Embarked dtypes ie from categorical to numerical values\n",
    "df_dummied = pd.get_dummies(df,columns=['Sex'])\n",
    "df_dummied = pd.get_dummies(df_dummied,columns=['Embarked'])\n",
    "df_dummied.head()"
   ]
  },
  {
   "cell_type": "code",
   "execution_count": 63,
   "metadata": {},
   "outputs": [
    {
     "data": {
      "text/plain": [
       "<matplotlib.axes._subplots.AxesSubplot at 0x2088f441610>"
      ]
     },
     "execution_count": 63,
     "metadata": {},
     "output_type": "execute_result"
    },
    {
     "data": {
      "image/png": "[encoded data removed]",
      "text/plain": [
       "<Figure size 576x576 with 2 Axes>"
      ]
     },
     "metadata": {},
     "output_type": "display_data"
    }
   ],
   "source": [
    "# check the correlation using the heatmap\n",
    "plt.figure(figsize=(8,8))\n",
    "sns.heatmap(df_dummied.corr())"
   ]
  },
  {
   "cell_type": "code",
   "execution_count": 64,
   "metadata": {},
   "outputs": [],
   "source": [
    "used_features = ['Pclass','Age','SibSp','Parch','Sex_female','Sex_male','Embarked_C','Embarked_Q','Embarked_S']\n",
    "X = df_dummied[used_features].values\n",
    "y = df.Survived"
   ]
  },
  {
   "cell_type": "code",
   "execution_count": 65,
   "metadata": {},
   "outputs": [
    {
     "name": "stdout",
     "output_type": "stream",
     "text": [
      "(622, 9)\n",
      "(267, 9)\n",
      "(622,)\n",
      "(267,)\n"
     ]
    }
   ],
   "source": [
    "# split train and test data sets\n",
    "X_Train,X_test,y_Train,y_test = train_test_split(X,y,test_size=0.3,random_state=None)\n",
    "\n",
    "print(X_Train.shape)\n",
    "print(X_test.shape)\n",
    "print(y_Train.shape)\n",
    "print(y_test.shape)"
   ]
  },
  {
   "cell_type": "code",
   "execution_count": 66,
   "metadata": {},
   "outputs": [
    {
     "name": "stderr",
     "output_type": "stream",
     "text": [
      "C:\\Users\\User\\anaconda3\\lib\\site-packages\\sklearn\\linear_model\\_logistic.py:762: ConvergenceWarning: lbfgs failed to converge (status=1):\n",
      "STOP: TOTAL NO. of ITERATIONS REACHED LIMIT.\n",
      "\n",
      "Increase the number of iterations (max_iter) or scale the data as shown in:\n",
      "    https://scikit-learn.org/stable/modules/preprocessing.html\n",
      "Please also refer to the documentation for alternative solver options:\n",
      "    https://scikit-learn.org/stable/modules/linear_model.html#logistic-regression\n",
      "  n_iter_i = _check_optimize_result(\n"
     ]
    },
    {
     "data": {
      "text/plain": [
       "LogisticRegression()"
      ]
     },
     "execution_count": 66,
     "metadata": {},
     "output_type": "execute_result"
    }
   ],
   "source": [
    "# call logistic regression \n",
    "logReg = LogisticRegression()\n",
    "logReg.fit(X_Train,y_Train)"
   ]
  },
  {
   "cell_type": "code",
   "execution_count": 67,
   "metadata": {},
   "outputs": [],
   "source": [
    "y_pred = logReg.predict(X_test)"
   ]
  },
  {
   "cell_type": "code",
   "execution_count": 68,
   "metadata": {},
   "outputs": [
    {
     "data": {
      "text/plain": [
       "array([[148,  19],\n",
       "       [ 31,  69]], dtype=int64)"
      ]
     },
     "execution_count": 68,
     "metadata": {},
     "output_type": "execute_result"
    }
   ],
   "source": [
    "metrics.confusion_matrix(y_test,y_pred)"
   ]
  },
  {
   "cell_type": "code",
   "execution_count": 69,
   "metadata": {},
   "outputs": [
    {
     "data": {
      "text/plain": [
       "0.8127340823970037"
      ]
     },
     "execution_count": 69,
     "metadata": {},
     "output_type": "execute_result"
    }
   ],
   "source": [
    "metrics.accuracy_score(y_test,y_pred)"
   ]
  },
  {
   "cell_type": "code",
   "execution_count": 70,
   "metadata": {},
   "outputs": [
    {
     "name": "stdout",
     "output_type": "stream",
     "text": [
      "              precision    recall  f1-score   support\n",
      "\n",
      "           0       0.83      0.89      0.86       167\n",
      "           1       0.78      0.69      0.73       100\n",
      "\n",
      "    accuracy                           0.81       267\n",
      "   macro avg       0.81      0.79      0.79       267\n",
      "weighted avg       0.81      0.81      0.81       267\n",
      "\n"
     ]
    }
   ],
   "source": [
    "print(classification_report(y_test,y_pred))"
   ]
  },
  {
   "cell_type": "code",
   "execution_count": 71,
   "metadata": {},
   "outputs": [
    {
     "name": "stdout",
     "output_type": "stream",
     "text": [
      "[[-1.23332697 -0.04619549 -0.28382778 -0.11209744  1.3161125  -1.32021766\n",
      "   0.11237305  0.02155733 -0.13803554]]\n",
      "[4.16526984]\n"
     ]
    }
   ],
   "source": [
    "# print coefficients and intercepts\n",
    "print(logReg.coef_)\n",
    "print(logReg.intercept_)"
   ]
  },
  {
   "cell_type": "code",
   "execution_count": 72,
   "metadata": {},
   "outputs": [
    {
     "data": {
      "text/plain": [
       "array([[0.85306639, 0.14693361],\n",
       "       [0.85306639, 0.14693361],\n",
       "       [0.54649367, 0.45350633],\n",
       "       [0.03750402, 0.96249598],\n",
       "       [0.95487127, 0.04512873],\n",
       "       [0.88176643, 0.11823357],\n",
       "       [0.44736927, 0.55263073],\n",
       "       [0.82653429, 0.17346571],\n",
       "       [0.36597937, 0.63402063],\n",
       "       [0.04706081, 0.95293919],\n",
       "       [0.74137186, 0.25862814],\n",
       "       [0.71676598, 0.28323402],\n",
       "       [0.08569518, 0.91430482],\n",
       "       [0.88176643, 0.11823357],\n",
       "       [0.27885301, 0.72114699],\n",
       "       [0.92309571, 0.07690429],\n",
       "       [0.21426748, 0.78573252],\n",
       "       [0.89546784, 0.10453216],\n",
       "       [0.10993849, 0.89006151],\n",
       "       [0.87955879, 0.12044121],\n",
       "       [0.90220335, 0.09779665],\n",
       "       [0.13479434, 0.86520566],\n",
       "       [0.91104908, 0.08895092],\n",
       "       [0.90380555, 0.09619445],\n",
       "       [0.91155442, 0.08844558],\n",
       "       [0.36942739, 0.63057261],\n",
       "       [0.89363496, 0.10636504],\n",
       "       [0.96290753, 0.03709247],\n",
       "       [0.10313385, 0.89686615],\n",
       "       [0.88649822, 0.11350178],\n",
       "       [0.98905733, 0.01094267],\n",
       "       [0.55861513, 0.44138487],\n",
       "       [0.66760456, 0.33239544],\n",
       "       [0.53455087, 0.46544913],\n",
       "       [0.28556664, 0.71443336],\n",
       "       [0.79318558, 0.20681442],\n",
       "       [0.55861513, 0.44138487],\n",
       "       [0.16473869, 0.83526131],\n",
       "       [0.80070495, 0.19929505],\n",
       "       [0.90830338, 0.09169662],\n",
       "       [0.9077476 , 0.0922524 ],\n",
       "       [0.89971366, 0.10028634],\n",
       "       [0.88649822, 0.11350178],\n",
       "       [0.84967983, 0.15032017],\n",
       "       [0.86653678, 0.13346322],\n",
       "       [0.18690888, 0.81309112],\n",
       "       [0.40335941, 0.59664059],\n",
       "       [0.90206728, 0.09793272],\n",
       "       [0.98905733, 0.01094267],\n",
       "       [0.86154116, 0.13845884],\n",
       "       [0.04858832, 0.95141168],\n",
       "       [0.94917921, 0.05082079],\n",
       "       [0.69493821, 0.30506179],\n",
       "       [0.88176643, 0.11823357],\n",
       "       [0.64363038, 0.35636962],\n",
       "       [0.82186249, 0.17813751],\n",
       "       [0.88176643, 0.11823357],\n",
       "       [0.82653429, 0.17346571],\n",
       "       [0.8611032 , 0.1388968 ],\n",
       "       [0.1074594 , 0.8925406 ],\n",
       "       [0.75397252, 0.24602748],\n",
       "       [0.56025533, 0.43974467],\n",
       "       [0.41826244, 0.58173756],\n",
       "       [0.94093468, 0.05906532],\n",
       "       [0.79934966, 0.20065034],\n",
       "       [0.65415455, 0.34584545],\n",
       "       [0.72451607, 0.27548393],\n",
       "       [0.87686477, 0.12313523],\n",
       "       [0.86408861, 0.13591139],\n",
       "       [0.38025204, 0.61974796],\n",
       "       [0.38821518, 0.61178482],\n",
       "       [0.94946224, 0.05053776],\n",
       "       [0.89170833, 0.10829167],\n",
       "       [0.04561334, 0.95438666],\n",
       "       [0.06632631, 0.93367369],\n",
       "       [0.1074594 , 0.8925406 ],\n",
       "       [0.96936907, 0.03063093],\n",
       "       [0.55861513, 0.44138487],\n",
       "       [0.21314922, 0.78685078],\n",
       "       [0.53089096, 0.46910904],\n",
       "       [0.211054  , 0.788946  ],\n",
       "       [0.12641044, 0.87358956],\n",
       "       [0.65415455, 0.34584545],\n",
       "       [0.40275565, 0.59724435],\n",
       "       [0.2808777 , 0.7191223 ],\n",
       "       [0.71811504, 0.28188496],\n",
       "       [0.84157151, 0.15842849],\n",
       "       [0.88176643, 0.11823357],\n",
       "       [0.31288673, 0.68711327],\n",
       "       [0.09254625, 0.90745375],\n",
       "       [0.97439186, 0.02560814],\n",
       "       [0.91367833, 0.08632167],\n",
       "       [0.12936471, 0.87063529],\n",
       "       [0.7043979 , 0.2956021 ],\n",
       "       [0.90610745, 0.09389255],\n",
       "       [0.79318558, 0.20681442],\n",
       "       [0.39119709, 0.60880291],\n",
       "       [0.32858761, 0.67141239],\n",
       "       [0.83028138, 0.16971862],\n",
       "       [0.22214742, 0.77785258],\n",
       "       [0.8587139 , 0.1412861 ],\n",
       "       [0.07633784, 0.92366216],\n",
       "       [0.8611032 , 0.1388968 ],\n",
       "       [0.55861513, 0.44138487],\n",
       "       [0.86408861, 0.13591139],\n",
       "       [0.72239599, 0.27760401],\n",
       "       [0.13094418, 0.86905582],\n",
       "       [0.48678247, 0.51321753],\n",
       "       [0.87686477, 0.12313523],\n",
       "       [0.85229281, 0.14770719],\n",
       "       [0.76355443, 0.23644557],\n",
       "       [0.06881734, 0.93118266],\n",
       "       [0.25657805, 0.74342195],\n",
       "       [0.33776713, 0.66223287],\n",
       "       [0.13931643, 0.86068357],\n",
       "       [0.74137186, 0.25862814],\n",
       "       [0.88176643, 0.11823357],\n",
       "       [0.57301157, 0.42698843],\n",
       "       [0.9077476 , 0.0922524 ],\n",
       "       [0.24786597, 0.75213403],\n",
       "       [0.63916112, 0.36083888],\n",
       "       [0.87686477, 0.12313523],\n",
       "       [0.74137186, 0.25862814],\n",
       "       [0.64363038, 0.35636962],\n",
       "       [0.31288673, 0.68711327],\n",
       "       [0.87686477, 0.12313523],\n",
       "       [0.95868942, 0.04131058],\n",
       "       [0.12580654, 0.87419346],\n",
       "       [0.38336336, 0.61663664],\n",
       "       [0.86653678, 0.13346322],\n",
       "       [0.86408861, 0.13591139],\n",
       "       [0.94238269, 0.05761731],\n",
       "       [0.85548529, 0.14451471],\n",
       "       [0.88686663, 0.11313337],\n",
       "       [0.06591538, 0.93408462],\n",
       "       [0.77519705, 0.22480295],\n",
       "       [0.86619795, 0.13380205],\n",
       "       [0.34817632, 0.65182368],\n",
       "       [0.94484033, 0.05515967],\n",
       "       [0.73755069, 0.26244931],\n",
       "       [0.73514142, 0.26485858],\n",
       "       [0.62280319, 0.37719681],\n",
       "       [0.94946224, 0.05053776],\n",
       "       [0.90610745, 0.09389255],\n",
       "       [0.17511517, 0.82488483],\n",
       "       [0.9516334 , 0.0483666 ],\n",
       "       [0.80900479, 0.19099521],\n",
       "       [0.78314493, 0.21685507],\n",
       "       [0.89971366, 0.10028634],\n",
       "       [0.88649822, 0.11350178],\n",
       "       [0.89611476, 0.10388524],\n",
       "       [0.89328594, 0.10671406],\n",
       "       [0.36194822, 0.63805178],\n",
       "       [0.86408861, 0.13591139],\n",
       "       [0.94850199, 0.05149801],\n",
       "       [0.55861513, 0.44138487],\n",
       "       [0.37214738, 0.62785262],\n",
       "       [0.88176643, 0.11823357],\n",
       "       [0.91154391, 0.08845609],\n",
       "       [0.71392514, 0.28607486],\n",
       "       [0.2209996 , 0.7790004 ],\n",
       "       [0.75013015, 0.24986985],\n",
       "       [0.41340858, 0.58659142],\n",
       "       [0.80783208, 0.19216792],\n",
       "       [0.55583874, 0.44416126],\n",
       "       [0.04679274, 0.95320726],\n",
       "       [0.31288673, 0.68711327],\n",
       "       [0.72216781, 0.27783219],\n",
       "       [0.47027449, 0.52972551],\n",
       "       [0.798425  , 0.201575  ],\n",
       "       [0.81499842, 0.18500158],\n",
       "       [0.91154391, 0.08845609],\n",
       "       [0.49832827, 0.50167173],\n",
       "       [0.87434905, 0.12565095],\n",
       "       [0.62700074, 0.37299926],\n",
       "       [0.96606992, 0.03393008],\n",
       "       [0.86408861, 0.13591139],\n",
       "       [0.73241609, 0.26758391],\n",
       "       [0.51275645, 0.48724355],\n",
       "       [0.89491589, 0.10508411],\n",
       "       [0.44736927, 0.55263073],\n",
       "       [0.86408861, 0.13591139],\n",
       "       [0.94720553, 0.05279447],\n",
       "       [0.76748029, 0.23251971],\n",
       "       [0.31288673, 0.68711327],\n",
       "       [0.82930779, 0.17069221],\n",
       "       [0.34239162, 0.65760838],\n",
       "       [0.87686477, 0.12313523],\n",
       "       [0.08406334, 0.91593666],\n",
       "       [0.92209945, 0.07790055],\n",
       "       [0.90380555, 0.09619445],\n",
       "       [0.92848261, 0.07151739],\n",
       "       [0.89971366, 0.10028634],\n",
       "       [0.05894756, 0.94105244],\n",
       "       [0.44901512, 0.55098488],\n",
       "       [0.59245655, 0.40754345],\n",
       "       [0.5833439 , 0.4166561 ],\n",
       "       [0.11664749, 0.88335251],\n",
       "       [0.41679584, 0.58320416],\n",
       "       [0.94313556, 0.05686444],\n",
       "       [0.31288673, 0.68711327],\n",
       "       [0.88176643, 0.11823357],\n",
       "       [0.02904014, 0.97095986],\n",
       "       [0.93023958, 0.06976042],\n",
       "       [0.95371584, 0.04628416],\n",
       "       [0.88176643, 0.11823357],\n",
       "       [0.87686477, 0.12313523],\n",
       "       [0.60716985, 0.39283015],\n",
       "       [0.39119709, 0.60880291],\n",
       "       [0.67925469, 0.32074531],\n",
       "       [0.73156422, 0.26843578],\n",
       "       [0.94238269, 0.05761731],\n",
       "       [0.55861513, 0.44138487],\n",
       "       [0.48959415, 0.51040585],\n",
       "       [0.64363038, 0.35636962],\n",
       "       [0.90031252, 0.09968748],\n",
       "       [0.95841986, 0.04158014],\n",
       "       [0.42947581, 0.57052419],\n",
       "       [0.93982253, 0.06017747],\n",
       "       [0.86408861, 0.13591139],\n",
       "       [0.3768758 , 0.6231242 ],\n",
       "       [0.03726453, 0.96273547],\n",
       "       [0.31288673, 0.68711327],\n",
       "       [0.34817632, 0.65182368],\n",
       "       [0.89411682, 0.10588318],\n",
       "       [0.25947339, 0.74052661],\n",
       "       [0.28295974, 0.71704026],\n",
       "       [0.80277677, 0.19722323],\n",
       "       [0.14895612, 0.85104388],\n",
       "       [0.93598569, 0.06401431],\n",
       "       [0.88176643, 0.11823357],\n",
       "       [0.34817632, 0.65182368],\n",
       "       [0.95639823, 0.04360177],\n",
       "       [0.76353137, 0.23646863],\n",
       "       [0.46654496, 0.53345504],\n",
       "       [0.1569512 , 0.8430488 ],\n",
       "       [0.4022527 , 0.5977473 ],\n",
       "       [0.78539677, 0.21460323],\n",
       "       [0.85548529, 0.14451471],\n",
       "       [0.20175856, 0.79824144],\n",
       "       [0.54602424, 0.45397576],\n",
       "       [0.88176643, 0.11823357],\n",
       "       [0.91697411, 0.08302589],\n",
       "       [0.17050618, 0.82949382],\n",
       "       [0.45227847, 0.54772153],\n",
       "       [0.09145597, 0.90854403],\n",
       "       [0.88176643, 0.11823357],\n",
       "       [0.9151986 , 0.0848014 ],\n",
       "       [0.50554338, 0.49445662],\n",
       "       [0.75273598, 0.24726402],\n",
       "       [0.12870357, 0.87129643],\n",
       "       [0.9401978 , 0.0598022 ],\n",
       "       [0.76484623, 0.23515377],\n",
       "       [0.86408861, 0.13591139],\n",
       "       [0.90830338, 0.09169662],\n",
       "       [0.85306639, 0.14693361],\n",
       "       [0.9151986 , 0.0848014 ],\n",
       "       [0.90380555, 0.09619445],\n",
       "       [0.92209945, 0.07790055],\n",
       "       [0.88176643, 0.11823357],\n",
       "       [0.42913451, 0.57086549],\n",
       "       [0.92209945, 0.07790055],\n",
       "       [0.85306639, 0.14693361],\n",
       "       [0.44512668, 0.55487332],\n",
       "       [0.14579109, 0.85420891],\n",
       "       [0.57373835, 0.42626165],\n",
       "       [0.87907245, 0.12092755]])"
      ]
     },
     "execution_count": 72,
     "metadata": {},
     "output_type": "execute_result"
    }
   ],
   "source": [
    "# predict surviving probability\n",
    "logReg.predict_proba(X_test)"
   ]
  },
  {
   "cell_type": "code",
   "execution_count": null,
   "metadata": {},
   "outputs": [],
   "source": []
  },
  {
   "cell_type": "code",
   "execution_count": null,
   "metadata": {},
   "outputs": [],
   "source": []
  }
 ],
 "metadata": {
  "kernelspec": {
   "display_name": "Python 3",
   "language": "python",
   "name": "python3"
  },
  "language_info": {
   "codemirror_mode": {
    "name": "ipython",
    "version": 3
   },
   "file_extension": ".py",
   "mimetype": "text/x-python",
   "name": "python",
   "nbconvert_exporter": "python",
   "pygments_lexer": "ipython3",
   "version": "3.8.3"
  }
 },
 "nbformat": 4,
 "nbformat_minor": 4
}

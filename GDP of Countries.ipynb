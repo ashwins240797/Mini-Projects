{
 "cells": [
  {
   "cell_type": "code",
   "execution_count": 17,
   "metadata": {},
   "outputs": [
    {
     "data": {
      "text/plain": [
       "'Norway'"
      ]
     },
     "execution_count": 17,
     "metadata": {},
     "output_type": "execute_result"
    }
   ],
   "source": [
    "Countries = ['Algeria','Angola','Argentina','Australia','Austria','Bahamas','Bangladesh','Belarus','Belgium','Bhutan','Brazil','Bulgaria','Cambodia','Cameroon','Chile','China','Colombia','Cyprus','Denmark','El Salvador','Estonia','Ethiopia','Fiji','Finland','France','Georgia','Ghana','Grenada','Guinea','Haiti','Honduras','Hungary','India','Indonesia','Ireland','Italy','Japan','Kenya', 'South Korea','Liberia','Malaysia','Mexico', 'Morocco','Nepal','New Zealand','Norway','Pakistan', 'Peru','Qatar','Russia','Singapore','South Africa','Spain','Sweden','Switzerland','Thailand', 'United Arab Emirates','United Kingdom','United States','Uruguay','Venezuela','Vietnam','Zimbabwe']\n",
    "GDP = [2255.225482,629.9553062,11601.63022,25306.82494,27266.40335,19466.99052,588.3691778,2890.345675,24733.62696,1445.760002,4803.398244,2618.876037,590.4521124,665.7982328,7122.938458,2639.54156,3362.4656,15378.16704,30860.12808,2579.115607,6525.541272,229.6769525,2242.689259,27570.4852,23016.84778,1334.646773,402.6953275,6047.200797,394.1156638,385.5793827,1414.072488,5745.981529,837.7464011,1206.991065,27715.52837,18937.24998,39578.07441,478.2194906,16684.21278,279.2204061,5345.213415,6288.25324,1908.304416,274.8728621,14646.42094,40034.85063,672.1547506,3359.517402,36152.66676,3054.727742,33529.83052,3825.093781,15428.32098,33630.24604,39170.41371,2699.123242,21058.43643,28272.40661,37691.02733,9581.05659,5671.912202,757.4009286,347.7456605]\n",
    "\n",
    "import numpy as np\n",
    "\n",
    "Countries_list = np.array(Countries)\n",
    "GDP_list = np.array(GDP)\n",
    "\n",
    "#Country with maximum GDP\n",
    "max_GDP = GDP_list.argmax()\n",
    "Country_with_max_GDP = Countries_list[max_GDP]\n",
    "Country_with_max_GDP\n"
   ]
  },
  {
   "cell_type": "code",
   "execution_count": 18,
   "metadata": {},
   "outputs": [
    {
     "data": {
      "text/plain": [
       "'Ethiopia'"
      ]
     },
     "execution_count": 18,
     "metadata": {},
     "output_type": "execute_result"
    }
   ],
   "source": [
    "#Country with minimum GDP\n",
    "min_GDP = GDP_list.argmin()\n",
    "Country_with_min_GDP = Countries_list[min_GDP]\n",
    "Country_with_min_GDP"
   ]
  },
  {
   "cell_type": "code",
   "execution_count": 19,
   "metadata": {},
   "outputs": [
    {
     "name": "stdout",
     "output_type": "stream",
     "text": [
      "1. Algeria - GDP is 2255.225482\n",
      "2. Angola - GDP is 629.9553062\n",
      "3. Argentina - GDP is 11601.63022\n",
      "4. Australia - GDP is 25306.82494\n",
      "5. Austria - GDP is 27266.40335\n",
      "6. Bahamas - GDP is 19466.99052\n",
      "7. Bangladesh - GDP is 588.3691778\n",
      "8. Belarus - GDP is 2890.345675\n",
      "9. Belgium - GDP is 24733.62696\n",
      "10. Bhutan - GDP is 1445.760002\n",
      "11. Brazil - GDP is 4803.398244\n",
      "12. Bulgaria - GDP is 2618.876037\n",
      "13. Cambodia - GDP is 590.4521124\n",
      "14. Cameroon - GDP is 665.7982328\n",
      "15. Chile - GDP is 7122.938458\n",
      "16. China - GDP is 2639.54156\n",
      "17. Colombia - GDP is 3362.4656\n",
      "18. Cyprus - GDP is 15378.16704\n",
      "19. Denmark - GDP is 30860.12808\n",
      "20. El Salvador - GDP is 2579.115607\n",
      "21. Estonia - GDP is 6525.541272\n",
      "22. Ethiopia - GDP is 229.6769525\n",
      "23. Fiji - GDP is 2242.689259\n",
      "24. Finland - GDP is 27570.4852\n",
      "25. France - GDP is 23016.84778\n",
      "26. Georgia - GDP is 1334.646773\n",
      "27. Ghana - GDP is 402.6953275\n",
      "28. Grenada - GDP is 6047.200797\n",
      "29. Guinea - GDP is 394.1156638\n",
      "30. Haiti - GDP is 385.5793827\n",
      "31. Honduras - GDP is 1414.072488\n",
      "32. Hungary - GDP is 5745.981529\n",
      "33. India - GDP is 837.7464011\n",
      "34. Indonesia - GDP is 1206.991065\n",
      "35. Ireland - GDP is 27715.52837\n",
      "36. Italy - GDP is 18937.24998\n",
      "37. Japan - GDP is 39578.07441\n",
      "38. Kenya - GDP is 478.2194906\n",
      "39. South Korea - GDP is 16684.21278\n",
      "40. Liberia - GDP is 279.2204061\n",
      "41. Malaysia - GDP is 5345.213415\n",
      "42. Mexico - GDP is 6288.25324\n",
      "43. Morocco - GDP is 1908.304416\n",
      "44. Nepal - GDP is 274.8728621\n",
      "45. New Zealand - GDP is 14646.42094\n",
      "46. Norway - GDP is 40034.85063\n",
      "47. Pakistan - GDP is 672.1547506\n",
      "48. Peru - GDP is 3359.517402\n",
      "49. Qatar - GDP is 36152.66676\n",
      "50. Russia - GDP is 3054.727742\n",
      "51. Singapore - GDP is 33529.83052\n",
      "52. South Africa - GDP is 3825.093781\n",
      "53. Spain - GDP is 15428.32098\n",
      "54. Sweden - GDP is 33630.24604\n",
      "55. Switzerland - GDP is 39170.41371\n",
      "56. Thailand - GDP is 2699.123242\n",
      "57. United Arab Emirates - GDP is 21058.43643\n",
      "58. United Kingdom - GDP is 28272.40661\n",
      "59. United States - GDP is 37691.02733\n",
      "60. Uruguay - GDP is 9581.05659\n",
      "61. Venezuela - GDP is 5671.912202\n",
      "62. Vietnam - GDP is 757.4009286\n",
      "63. Zimbabwe - GDP is 347.7456605\n"
     ]
    }
   ],
   "source": [
    "# Iterative entries of Countries and their respective GDP\n",
    "for i in range(len(Countries_list)):\n",
    "    serial = i+1\n",
    "    country = Countries_list[i]\n",
    "    country_gdp = GDP_list[i]\n",
    "    print('{}. {} - GDP is {}'.format(serial,country,country_gdp))"
   ]
  },
  {
   "cell_type": "code",
   "execution_count": 20,
   "metadata": {},
   "outputs": [
    {
     "name": "stdout",
     "output_type": "stream",
     "text": [
      "40034.85063\n",
      "229.6769525\n",
      "11289.409271639683\n",
      "12743.828910617945\n"
     ]
    }
   ],
   "source": [
    "# Maximum, Minimum , Mean and Standardized GDPs\n",
    "print(GDP_list.max())\n",
    "print(GDP_list.min())\n",
    "print(GDP_list.mean())\n",
    "print(GDP_list.std())"
   ]
  },
  {
   "cell_type": "code",
   "execution_count": null,
   "metadata": {},
   "outputs": [],
   "source": []
  }
 ],
 "metadata": {
  "kernelspec": {
   "display_name": "Python 3",
   "language": "python",
   "name": "python3"
  },
  "language_info": {
   "codemirror_mode": {
    "name": "ipython",
    "version": 3
   },
   "file_extension": ".py",
   "mimetype": "text/x-python",
   "name": "python",
   "nbconvert_exporter": "python",
   "pygments_lexer": "ipython3",
   "version": "3.8.3"
  }
 },
 "nbformat": 4,
 "nbformat_minor": 4
}

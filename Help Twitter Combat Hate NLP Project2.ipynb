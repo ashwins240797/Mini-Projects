{
 "cells": [
  {
   "cell_type": "code",
   "execution_count": 2,
   "metadata": {},
   "outputs": [],
   "source": [
    "import numpy as np\n",
    "import pandas as pd \n",
    "from sklearn.model_selection import train_test_split \n",
    "import nltk\n",
    "from nltk.corpus import stopwords\n",
    "from nltk.classify import SklearnClassifier\n",
    "from wordcloud import WordCloud,STOPWORDS\n",
    "import matplotlib.pyplot as plt\n",
    "%matplotlib inline\n",
    "from subprocess import check_output\n",
    "import nltk\n",
    "import re\n",
    "from sklearn.feature_extraction.text import TfidfVectorizer\n",
    "import string\n",
    "from nltk import TweetTokenizer"
   ]
  },
  {
   "cell_type": "code",
   "execution_count": 25,
   "metadata": {},
   "outputs": [],
   "source": [
    "from sklearn.linear_model import LogisticRegression  \n",
    "from sklearn.model_selection import KFold, cross_val_score\n",
    "from sklearn.metrics import precision_recall_fscore_support as score\n",
    "from sklearn.metrics import classification_report, confusion_matrix, accuracy_score"
   ]
  },
  {
   "cell_type": "code",
   "execution_count": 4,
   "metadata": {},
   "outputs": [
    {
     "data": {
      "text/html": [
       "<div>\n",
       "<style scoped>\n",
       "    .dataframe tbody tr th:only-of-type {\n",
       "        vertical-align: middle;\n",
       "    }\n",
       "\n",
       "    .dataframe tbody tr th {\n",
       "        vertical-align: top;\n",
       "    }\n",
       "\n",
       "    .dataframe thead th {\n",
       "        text-align: right;\n",
       "    }\n",
       "</style>\n",
       "<table border=\"1\" class=\"dataframe\">\n",
       "  <thead>\n",
       "    <tr style=\"text-align: right;\">\n",
       "      <th></th>\n",
       "      <th>id</th>\n",
       "      <th>label</th>\n",
       "      <th>tweet</th>\n",
       "    </tr>\n",
       "  </thead>\n",
       "  <tbody>\n",
       "    <tr>\n",
       "      <th>0</th>\n",
       "      <td>1</td>\n",
       "      <td>0</td>\n",
       "      <td>@user when a father is dysfunctional and is s...</td>\n",
       "    </tr>\n",
       "    <tr>\n",
       "      <th>1</th>\n",
       "      <td>2</td>\n",
       "      <td>0</td>\n",
       "      <td>@user @user thanks for #lyft credit i can't us...</td>\n",
       "    </tr>\n",
       "    <tr>\n",
       "      <th>2</th>\n",
       "      <td>3</td>\n",
       "      <td>0</td>\n",
       "      <td>bihday your majesty</td>\n",
       "    </tr>\n",
       "    <tr>\n",
       "      <th>3</th>\n",
       "      <td>4</td>\n",
       "      <td>0</td>\n",
       "      <td>#model   i love u take with u all the time in ...</td>\n",
       "    </tr>\n",
       "    <tr>\n",
       "      <th>4</th>\n",
       "      <td>5</td>\n",
       "      <td>0</td>\n",
       "      <td>factsguide: society now    #motivation</td>\n",
       "    </tr>\n",
       "  </tbody>\n",
       "</table>\n",
       "</div>"
      ],
      "text/plain": [
       "   id  label                                              tweet\n",
       "0   1      0   @user when a father is dysfunctional and is s...\n",
       "1   2      0  @user @user thanks for #lyft credit i can't us...\n",
       "2   3      0                                bihday your majesty\n",
       "3   4      0  #model   i love u take with u all the time in ...\n",
       "4   5      0             factsguide: society now    #motivation"
      ]
     },
     "execution_count": 4,
     "metadata": {},
     "output_type": "execute_result"
    }
   ],
   "source": [
    "df = pd.read_csv(\"D://M_AI//Natural Language Processing//Datasets//TwitterHate.csv\")\n",
    "df.head()"
   ]
  },
  {
   "cell_type": "code",
   "execution_count": 5,
   "metadata": {},
   "outputs": [],
   "source": [
    "tweets = df['tweet'].to_list()"
   ]
  },
  {
   "cell_type": "code",
   "execution_count": 6,
   "metadata": {},
   "outputs": [],
   "source": [
    "import re\n",
    "from nltk.tokenize import TweetTokenizer\n",
    "\n",
    "def basic_tweet_cleanup(tweets):\n",
    "    #Lower casing\n",
    "    tweets = [tweet.lower() for tweet in tweets]\n",
    "    \n",
    "    #Removing @\n",
    "    tweets = [re.sub('@\\S+\\s+','',tweet) for tweet in tweets]\n",
    "    \n",
    "    #Removing URL \n",
    "    tweets = [re.sub('http\\S://\\S+','',tweet) for tweet in tweets]\n",
    "    \n",
    "    #Remove ‘#’ symbols from the tweet while retaining the term.\n",
    "    tweets = [re.sub('#','',tweet) for tweet in tweets]\n",
    "      \n",
    "    #Using TweetTokenizer from NLTK, tokenize the tweets into individual terms.\n",
    "    tweet_tokenizer = TweetTokenizer()\n",
    "    tweets = [tweet_tokenizer.tokenize(tweet) for tweet in tweets]\n",
    "    \n",
    "    #Remove stop words\n",
    "    tweets = [[token for token in tweet if token not in nltk.corpus.stopwords.words('english')] for tweet in tweets]\n",
    "    \n",
    "    #Remove redundant words like 'amp', 'rt'\n",
    "    tweets = [[token for token in tweet if token not in ['amp','rt']] for tweet in tweets]\n",
    "    \n",
    "    return tweets"
   ]
  },
  {
   "cell_type": "code",
   "execution_count": 7,
   "metadata": {},
   "outputs": [
    {
     "name": "stdout",
     "output_type": "stream",
     "text": [
      "[['father', 'dysfunctional', 'selfish', 'drags', 'kids', 'dysfunction', '.', 'run'], ['thanks', 'lyft', 'credit', \"can't\", 'use', 'cause', 'offer', 'wheelchair', 'vans', 'pdx', '.', 'disapointed', 'getthanked'], ['bihday', 'majesty'], ['model', 'love', 'u', 'take', 'u', 'time', 'urð', '\\x9f', '\\x93', '±', '!', '!', '!', 'ð', '\\x9f', '\\x98', '\\x99', 'ð', '\\x9f', '\\x98', '\\x8e', 'ð', '\\x9f', '\\x91', '\\x84', 'ð', '\\x9f', '\\x91', 'ð', '\\x9f', '\\x92', '¦', 'ð', '\\x9f', '\\x92', '¦', 'ð', '\\x9f', '\\x92', '¦'], ['factsguide', ':', 'society', 'motivation']]\n"
     ]
    }
   ],
   "source": [
    "#View the cleaned tweets\n",
    "tweets_cleaned = basic_tweet_cleanup(tweets)\n",
    "print(tweets_cleaned[:5])"
   ]
  },
  {
   "cell_type": "code",
   "execution_count": 8,
   "metadata": {},
   "outputs": [],
   "source": [
    "#Defining an Advanced Cleanup function\n",
    "\n",
    "def advanced_tweet_cleanup(tweets):\n",
    "    #Filtering only alphabet words with length > 1\n",
    "    tweets_cleaned = [[token for token in tweet_tokens if token.isalpha() and len(token) > 1] for tweet_tokens in tweets]\n",
    "    return tweets_cleaned"
   ]
  },
  {
   "cell_type": "code",
   "execution_count": 9,
   "metadata": {},
   "outputs": [],
   "source": [
    "tweets_cleaned = advanced_tweet_cleanup(tweets_cleaned)"
   ]
  },
  {
   "cell_type": "code",
   "execution_count": 10,
   "metadata": {},
   "outputs": [
    {
     "name": "stdout",
     "output_type": "stream",
     "text": [
      "Total Tokens: 236837\n"
     ]
    }
   ],
   "source": [
    "#Joining the tokens in a list to find the top ten common terms\n",
    "terms = []\n",
    "\n",
    "for tweet in tweets_cleaned:\n",
    "    for token in tweet:\n",
    "        terms.append(token)\n",
    "\n",
    "print(\"Total Tokens: {}\".format(len(terms)))"
   ]
  },
  {
   "cell_type": "code",
   "execution_count": 11,
   "metadata": {},
   "outputs": [
    {
     "data": {
      "text/html": [
       "<div>\n",
       "<style scoped>\n",
       "    .dataframe tbody tr th:only-of-type {\n",
       "        vertical-align: middle;\n",
       "    }\n",
       "\n",
       "    .dataframe tbody tr th {\n",
       "        vertical-align: top;\n",
       "    }\n",
       "\n",
       "    .dataframe thead th {\n",
       "        text-align: right;\n",
       "    }\n",
       "</style>\n",
       "<table border=\"1\" class=\"dataframe\">\n",
       "  <thead>\n",
       "    <tr style=\"text-align: right;\">\n",
       "      <th></th>\n",
       "      <th>term</th>\n",
       "      <th>count</th>\n",
       "    </tr>\n",
       "  </thead>\n",
       "  <tbody>\n",
       "    <tr>\n",
       "      <th>0</th>\n",
       "      <td>love</td>\n",
       "      <td>2680</td>\n",
       "    </tr>\n",
       "    <tr>\n",
       "      <th>1</th>\n",
       "      <td>day</td>\n",
       "      <td>2271</td>\n",
       "    </tr>\n",
       "    <tr>\n",
       "      <th>2</th>\n",
       "      <td>happy</td>\n",
       "      <td>1683</td>\n",
       "    </tr>\n",
       "    <tr>\n",
       "      <th>3</th>\n",
       "      <td>time</td>\n",
       "      <td>1128</td>\n",
       "    </tr>\n",
       "    <tr>\n",
       "      <th>4</th>\n",
       "      <td>life</td>\n",
       "      <td>1103</td>\n",
       "    </tr>\n",
       "    <tr>\n",
       "      <th>5</th>\n",
       "      <td>like</td>\n",
       "      <td>1097</td>\n",
       "    </tr>\n",
       "    <tr>\n",
       "      <th>6</th>\n",
       "      <td>today</td>\n",
       "      <td>1008</td>\n",
       "    </tr>\n",
       "    <tr>\n",
       "      <th>7</th>\n",
       "      <td>new</td>\n",
       "      <td>988</td>\n",
       "    </tr>\n",
       "    <tr>\n",
       "      <th>8</th>\n",
       "      <td>positive</td>\n",
       "      <td>929</td>\n",
       "    </tr>\n",
       "    <tr>\n",
       "      <th>9</th>\n",
       "      <td>thankful</td>\n",
       "      <td>920</td>\n",
       "    </tr>\n",
       "  </tbody>\n",
       "</table>\n",
       "</div>"
      ],
      "text/plain": [
       "       term  count\n",
       "0      love   2680\n",
       "1       day   2271\n",
       "2     happy   1683\n",
       "3      time   1128\n",
       "4      life   1103\n",
       "5      like   1097\n",
       "6     today   1008\n",
       "7       new    988\n",
       "8  positive    929\n",
       "9  thankful    920"
      ]
     },
     "execution_count": 11,
     "metadata": {},
     "output_type": "execute_result"
    }
   ],
   "source": [
    "#Creating a table of top ten common words in the text data\n",
    "\n",
    "from collections import Counter\n",
    "\n",
    "counts_terms = Counter(terms)\n",
    "terms_df = pd.DataFrame(counts_terms.most_common(10), columns=['term', 'count'])\n",
    "terms_df"
   ]
  },
  {
   "cell_type": "code",
   "execution_count": 12,
   "metadata": {},
   "outputs": [
    {
     "data": {
      "image/png": "[encoded data removed]",
      "text/plain": [
       "<Figure size 864x720 with 1 Axes>"
      ]
     },
     "metadata": {
      "needs_background": "light"
     },
     "output_type": "display_data"
    }
   ],
   "source": [
    "#Visualising the top ten common words\n",
    "terms_df.sort_values(by='count', ascending=True).plot(kind=\"barh\", x='term', figsize=(12,10), color='teal')\n",
    "plt.show()"
   ]
  },
  {
   "cell_type": "code",
   "execution_count": 18,
   "metadata": {},
   "outputs": [
    {
     "data": {
      "text/plain": [
       "['father dysfunctional selfish drags kids dysfunction run',\n",
       " 'thanks lyft credit use cause offer wheelchair vans pdx disapointed getthanked',\n",
       " 'bihday majesty',\n",
       " 'model love take time urð',\n",
       " 'factsguide society motivation']"
      ]
     },
     "execution_count": 18,
     "metadata": {},
     "output_type": "execute_result"
    }
   ],
   "source": [
    "#Adding cleaned tweet data to the data frame for creating Bag of Words by TfidfVectorizer\n",
    "\n",
    "tweets_cleaned_sent = []\n",
    "\n",
    "for tweet in tweets_cleaned:\n",
    "    sent = \"\"\n",
    "    for token in tweet:\n",
    "        sent = sent + token + \" \"\n",
    "    tweets_cleaned_sent.append(sent[:-1])\n",
    "\n",
    "tweets_cleaned_sent[:5]"
   ]
  },
  {
   "cell_type": "code",
   "execution_count": 19,
   "metadata": {},
   "outputs": [
    {
     "name": "stdout",
     "output_type": "stream",
     "text": [
      "(25569,)\n",
      "(6393,)\n",
      "(25569,)\n",
      "(6393,)\n"
     ]
    }
   ],
   "source": [
    "#Assigning X and y for Classification\n",
    "df['tweet_cleaned'] = tweets_cleaned_sent\n",
    "X =  df['tweet_cleaned']\n",
    "y = df['label']\n",
    "\n",
    "X_train, X_test, y_train, y_test = train_test_split(X, y, train_size=0.8, random_state = 123)\n",
    "\n",
    "print(X_train.shape)\n",
    "print(X_test.shape)\n",
    "print(y_train.shape)\n",
    "print(y_test.shape)"
   ]
  },
  {
   "cell_type": "code",
   "execution_count": 22,
   "metadata": {},
   "outputs": [],
   "source": [
    "vectorizer = TfidfVectorizer(max_features = 5000)"
   ]
  },
  {
   "cell_type": "code",
   "execution_count": 24,
   "metadata": {},
   "outputs": [
    {
     "name": "stdout",
     "output_type": "stream",
     "text": [
      "(25569, 5000)\n",
      "(6393, 5000)\n"
     ]
    }
   ],
   "source": [
    "X_train_bow = vectorizer.fit_transform(X_train)\n",
    "X_test_bow = vectorizer.fit_transform(X_test)\n",
    "\n",
    "print(X_train_bow.shape)\n",
    "print(X_test_bow.shape)"
   ]
  },
  {
   "cell_type": "code",
   "execution_count": 26,
   "metadata": {},
   "outputs": [],
   "source": [
    "#Logistic Regression Model\n",
    "log_reg = LogisticRegression()\n",
    "model = log_reg.fit(X_train_bow,y_train)\n",
    "y_test_pred = model.predict(X_test_bow)"
   ]
  },
  {
   "cell_type": "code",
   "execution_count": 27,
   "metadata": {
    "scrolled": true
   },
   "outputs": [
    {
     "name": "stdout",
     "output_type": "stream",
     "text": [
      "              precision    recall  f1-score   support\n",
      "\n",
      "           0       0.93      1.00      0.97      5960\n",
      "           1       0.75      0.03      0.07       433\n",
      "\n",
      "    accuracy                           0.93      6393\n",
      "   macro avg       0.84      0.52      0.52      6393\n",
      "weighted avg       0.92      0.93      0.90      6393\n",
      "\n"
     ]
    }
   ],
   "source": [
    "#test report\n",
    "print(classification_report(y_test,y_test_pred))"
   ]
  },
  {
   "cell_type": "code",
   "execution_count": 28,
   "metadata": {
    "scrolled": true
   },
   "outputs": [
    {
     "name": "stdout",
     "output_type": "stream",
     "text": [
      "              precision    recall  f1-score   support\n",
      "\n",
      "           0       0.95      1.00      0.98     23760\n",
      "           1       0.95      0.38      0.54      1809\n",
      "\n",
      "    accuracy                           0.95     25569\n",
      "   macro avg       0.95      0.69      0.76     25569\n",
      "weighted avg       0.95      0.95      0.95     25569\n",
      "\n"
     ]
    }
   ],
   "source": [
    "#Train Report\n",
    "y_train_pred = model.predict(X_train_bow)\n",
    "print(classification_report(y_train,y_train_pred))"
   ]
  },
  {
   "cell_type": "code",
   "execution_count": 29,
   "metadata": {},
   "outputs": [],
   "source": [
    "#Creating a classifier model by Logistic Regression using class weight as 'balanced'\n",
    "log_reg2 = LogisticRegression(class_weight = 'balanced')\n",
    "model2 = log_reg2.fit(X_train_bow,y_train)"
   ]
  },
  {
   "cell_type": "code",
   "execution_count": 33,
   "metadata": {},
   "outputs": [
    {
     "name": "stdout",
     "output_type": "stream",
     "text": [
      "New Test Report: \n",
      "               precision    recall  f1-score   support\n",
      "\n",
      "           0       0.93      1.00      0.97      5960\n",
      "           1       0.75      0.03      0.07       433\n",
      "\n",
      "    accuracy                           0.93      6393\n",
      "   macro avg       0.84      0.52      0.52      6393\n",
      "weighted avg       0.92      0.93      0.90      6393\n",
      "\n",
      "New Train Report: \n",
      "               precision    recall  f1-score   support\n",
      "\n",
      "           0       0.95      1.00      0.98     23760\n",
      "           1       0.95      0.38      0.54      1809\n",
      "\n",
      "    accuracy                           0.95     25569\n",
      "   macro avg       0.95      0.69      0.76     25569\n",
      "weighted avg       0.95      0.95      0.95     25569\n",
      "\n"
     ]
    }
   ],
   "source": [
    "#New Test Report\n",
    "y_test_pred2 = model.predict(X_test_bow)\n",
    "print(\"New Test Report: \\n\", classification_report(y_test,y_test_pred2))\n",
    "\n",
    "#New Train Report\n",
    "y_train_pred2 = model.predict(X_train_bow)\n",
    "print(\"New Train Report: \\n\",classification_report(y_train,y_train_pred2))"
   ]
  },
  {
   "cell_type": "code",
   "execution_count": 34,
   "metadata": {},
   "outputs": [],
   "source": [
    "#Regularization and Hypermeter Tuning\n",
    "from sklearn.model_selection import GridSearchCV, StratifiedKFold\n",
    "search_params= {\n",
    "    \"C\": [0.01,0.1,1,10,100],\n",
    "    \"penalty\": [\"l1\",\"l2\"],\n",
    "}"
   ]
  },
  {
   "cell_type": "code",
   "execution_count": 35,
   "metadata": {},
   "outputs": [
    {
     "name": "stdout",
     "output_type": "stream",
     "text": [
      "Fitting 4 folds for each of 10 candidates, totalling 40 fits\n"
     ]
    },
    {
     "name": "stderr",
     "output_type": "stream",
     "text": [
      "[Parallel(n_jobs=-1)]: Using backend LokyBackend with 8 concurrent workers.\n",
      "[Parallel(n_jobs=-1)]: Done  40 out of  40 | elapsed:    3.6s finished\n"
     ]
    },
    {
     "data": {
      "text/plain": [
       "GridSearchCV(cv=StratifiedKFold(n_splits=4, random_state=None, shuffle=False),\n",
       "             estimator=LogisticRegression(class_weight='balanced'), n_jobs=-1,\n",
       "             param_grid={'C': [0.01, 0.1, 1, 10, 100], 'penalty': ['l1', 'l2']},\n",
       "             scoring='recall', verbose=1)"
      ]
     },
     "execution_count": 35,
     "metadata": {},
     "output_type": "execute_result"
    }
   ],
   "source": [
    "grid_search = GridSearchCV(estimator = log_reg2, param_grid = search_params, cv = StratifiedKFold(4), scoring = \"recall\", \n",
    "                           n_jobs = -1, verbose = 1)\n",
    "grid_search.fit(X_train_bow, y_train)"
   ]
  },
  {
   "cell_type": "code",
   "execution_count": 36,
   "metadata": {},
   "outputs": [
    {
     "data": {
      "text/plain": [
       "LogisticRegression(C=0.1, class_weight='balanced')"
      ]
     },
     "execution_count": 36,
     "metadata": {},
     "output_type": "execute_result"
    }
   ],
   "source": [
    "#Finding the best estimator\n",
    "grid_search.best_estimator_"
   ]
  },
  {
   "cell_type": "code",
   "execution_count": 37,
   "metadata": {},
   "outputs": [
    {
     "name": "stdout",
     "output_type": "stream",
     "text": [
      "              precision    recall  f1-score   support\n",
      "\n",
      "           0       0.94      0.90      0.92      5960\n",
      "           1       0.12      0.19      0.15       433\n",
      "\n",
      "    accuracy                           0.85      6393\n",
      "   macro avg       0.53      0.54      0.53      6393\n",
      "weighted avg       0.88      0.85      0.86      6393\n",
      "\n"
     ]
    }
   ],
   "source": [
    "#Validation of best estimator\n",
    "y_test_pred3 = grid_search.best_estimator_.predict(X_test_bow)\n",
    "print(classification_report(y_test, y_test_pred3))"
   ]
  },
  {
   "cell_type": "code",
   "execution_count": null,
   "metadata": {},
   "outputs": [],
   "source": []
  }
 ],
 "metadata": {
  "kernelspec": {
   "display_name": "Python 3",
   "language": "python",
   "name": "python3"
  },
  "language_info": {
   "codemirror_mode": {
    "name": "ipython",
    "version": 3
   },
   "file_extension": ".py",
   "mimetype": "text/x-python",
   "name": "python",
   "nbconvert_exporter": "python",
   "pygments_lexer": "ipython3",
   "version": "3.8.5"
  }
 },
 "nbformat": 4,
 "nbformat_minor": 4
}

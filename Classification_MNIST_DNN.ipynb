{
 "cells": [
  {
   "cell_type": "code",
   "execution_count": 29,
   "metadata": {},
   "outputs": [],
   "source": [
    "import tensorflow as tf"
   ]
  },
  {
   "cell_type": "code",
   "execution_count": 30,
   "metadata": {},
   "outputs": [],
   "source": [
    "#Collect the data\n",
    "(trainX,trainY),(testX,testY) = tf.keras.datasets.mnist.load_data()"
   ]
  },
  {
   "cell_type": "code",
   "execution_count": 31,
   "metadata": {},
   "outputs": [
    {
     "data": {
      "text/plain": [
       "(60000, 28, 28)"
      ]
     },
     "execution_count": 31,
     "metadata": {},
     "output_type": "execute_result"
    }
   ],
   "source": [
    "trainX.shape"
   ]
  },
  {
   "cell_type": "code",
   "execution_count": 32,
   "metadata": {},
   "outputs": [
    {
     "data": {
      "text/plain": [
       "(60000,)"
      ]
     },
     "execution_count": 32,
     "metadata": {},
     "output_type": "execute_result"
    }
   ],
   "source": [
    "trainY.shape"
   ]
  },
  {
   "cell_type": "code",
   "execution_count": 33,
   "metadata": {},
   "outputs": [],
   "source": [
    "#Convert output labels to multiple values\n",
    "trainY = tf.keras.utils.to_categorical(trainY,num_classes=10)\n",
    "testY = tf.keras.utils.to_categorical(testY,num_classes=10)"
   ]
  },
  {
   "cell_type": "code",
   "execution_count": 34,
   "metadata": {},
   "outputs": [],
   "source": [
    "##Build the graph\n",
    "\n",
    "#Instantiate sequential graph(model)\n",
    "model = tf.keras.models.Sequential()\n",
    "\n",
    "#Reshape dat from 2D -> 1D\n",
    "model.add(tf.keras.layers.Reshape((784,),input_shape=(28,28,)))\n",
    "\n",
    "#Normalize input data\n",
    "model.add(tf.keras.layers.BatchNormalization())"
   ]
  },
  {
   "cell_type": "code",
   "execution_count": 35,
   "metadata": {},
   "outputs": [],
   "source": [
    "#Add  1st hidden layer\n",
    "model.add(tf.keras.layers.Dense(200,activation='relu'))"
   ]
  },
  {
   "cell_type": "code",
   "execution_count": 36,
   "metadata": {},
   "outputs": [],
   "source": [
    "#Add  2nd hidden layer\n",
    "model.add(tf.keras.layers.Dense(100,activation='relu'))"
   ]
  },
  {
   "cell_type": "code",
   "execution_count": 37,
   "metadata": {},
   "outputs": [],
   "source": [
    "#Add  3rd hidden layer\n",
    "model.add(tf.keras.layers.Dense(60,activation='relu'))"
   ]
  },
  {
   "cell_type": "code",
   "execution_count": 38,
   "metadata": {},
   "outputs": [],
   "source": [
    "#Add  4th hidden layer\n",
    "model.add(tf.keras.layers.Dense(30,activation='relu'))"
   ]
  },
  {
   "cell_type": "code",
   "execution_count": 39,
   "metadata": {},
   "outputs": [],
   "source": [
    "#Add  Output layer\n",
    "model.add(tf.keras.layers.Dense(10,activation='softmax'))"
   ]
  },
  {
   "cell_type": "code",
   "execution_count": 40,
   "metadata": {},
   "outputs": [],
   "source": [
    "#Create an optimizer with non default learning rate\n",
    "sgd_optimizer = tf.keras.optimizers.SGD(lr=0.3)\n",
    "\n",
    "#Compile the model \n",
    "model.compile(optimizer= sgd_optimizer,loss='categorical_crossentropy',metrics=['accuracy'])"
   ]
  },
  {
   "cell_type": "code",
   "execution_count": 41,
   "metadata": {},
   "outputs": [
    {
     "name": "stdout",
     "output_type": "stream",
     "text": [
      "Model: \"sequential_2\"\n",
      "_________________________________________________________________\n",
      "Layer (type)                 Output Shape              Param #   \n",
      "=================================================================\n",
      "reshape_2 (Reshape)          (None, 784)               0         \n",
      "_________________________________________________________________\n",
      "batch_normalization_2 (Batch (None, 784)               3136      \n",
      "_________________________________________________________________\n",
      "dense_11 (Dense)             (None, 200)               157000    \n",
      "_________________________________________________________________\n",
      "dense_12 (Dense)             (None, 100)               20100     \n",
      "_________________________________________________________________\n",
      "dense_13 (Dense)             (None, 60)                6060      \n",
      "_________________________________________________________________\n",
      "dense_14 (Dense)             (None, 30)                1830      \n",
      "_________________________________________________________________\n",
      "dense_15 (Dense)             (None, 10)                310       \n",
      "=================================================================\n",
      "Total params: 188,436\n",
      "Trainable params: 186,868\n",
      "Non-trainable params: 1,568\n",
      "_________________________________________________________________\n"
     ]
    }
   ],
   "source": [
    "model.summary()"
   ]
  },
  {
   "cell_type": "code",
   "execution_count": 42,
   "metadata": {},
   "outputs": [
    {
     "name": "stdout",
     "output_type": "stream",
     "text": [
      "Train on 60000 samples, validate on 10000 samples\n",
      "Epoch 1/30\n",
      "60000/60000 [==============================] - 11s 181us/sample - loss: 0.3163 - accuracy: 0.9099 - val_loss: 0.1942 - val_accuracy: 0.9525\n",
      "Epoch 2/30\n",
      "60000/60000 [==============================] - 10s 162us/sample - loss: 0.1579 - accuracy: 0.9568 - val_loss: 0.1654 - val_accuracy: 0.9599\n",
      "Epoch 3/30\n",
      "60000/60000 [==============================] - 10s 161us/sample - loss: 0.1164 - accuracy: 0.9669 - val_loss: 0.1362 - val_accuracy: 0.9652\n",
      "Epoch 4/30\n",
      "60000/60000 [==============================] - 9s 156us/sample - loss: 0.0976 - accuracy: 0.9735 - val_loss: 0.1373 - val_accuracy: 0.9683\n",
      "Epoch 5/30\n",
      "60000/60000 [==============================] - 9s 152us/sample - loss: 0.0858 - accuracy: 0.9762 - val_loss: 0.1481 - val_accuracy: 0.9709\n",
      "Epoch 6/30\n",
      "60000/60000 [==============================] - 10s 158us/sample - loss: 0.0721 - accuracy: 0.9798 - val_loss: 0.1224 - val_accuracy: 0.9723\n",
      "Epoch 7/30\n",
      "60000/60000 [==============================] - 10s 168us/sample - loss: 0.0664 - accuracy: 0.9813 - val_loss: 0.1295 - val_accuracy: 0.9705\n",
      "Epoch 8/30\n",
      "60000/60000 [==============================] - 10s 163us/sample - loss: 0.0629 - accuracy: 0.9823 - val_loss: 0.1425 - val_accuracy: 0.9709\n",
      "Epoch 9/30\n",
      "60000/60000 [==============================] - 10s 163us/sample - loss: 0.0531 - accuracy: 0.9845 - val_loss: 0.1623 - val_accuracy: 0.9703\n",
      "Epoch 10/30\n",
      "60000/60000 [==============================] - 10s 167us/sample - loss: 0.0494 - accuracy: 0.9856 - val_loss: 0.1492 - val_accuracy: 0.9713\n",
      "Epoch 11/30\n",
      "60000/60000 [==============================] - 9s 155us/sample - loss: 0.0497 - accuracy: 0.9867 - val_loss: 0.1308 - val_accuracy: 0.9749\n",
      "Epoch 12/30\n",
      "60000/60000 [==============================] - 9s 157us/sample - loss: 0.0451 - accuracy: 0.9871 - val_loss: 0.1523 - val_accuracy: 0.9714\n",
      "Epoch 13/30\n",
      "60000/60000 [==============================] - 10s 160us/sample - loss: 0.0413 - accuracy: 0.9884 - val_loss: 0.1708 - val_accuracy: 0.9734\n",
      "Epoch 14/30\n",
      "60000/60000 [==============================] - 9s 156us/sample - loss: 0.0411 - accuracy: 0.9883 - val_loss: 0.2328 - val_accuracy: 0.9748\n",
      "Epoch 15/30\n",
      "60000/60000 [==============================] - 9s 157us/sample - loss: 0.0398 - accuracy: 0.9890 - val_loss: 0.1732 - val_accuracy: 0.9732\n",
      "Epoch 16/30\n",
      "60000/60000 [==============================] - 10s 161us/sample - loss: 0.0471 - accuracy: 0.9874 - val_loss: 0.1533 - val_accuracy: 0.9743\n",
      "Epoch 17/30\n",
      "60000/60000 [==============================] - 10s 160us/sample - loss: 0.0378 - accuracy: 0.9891 - val_loss: 0.1568 - val_accuracy: 0.9733\n",
      "Epoch 18/30\n",
      "60000/60000 [==============================] - 10s 164us/sample - loss: 0.0352 - accuracy: 0.9904 - val_loss: 0.2064 - val_accuracy: 0.9764\n",
      "Epoch 19/30\n",
      "60000/60000 [==============================] - 9s 157us/sample - loss: 0.0333 - accuracy: 0.9908 - val_loss: 0.1619 - val_accuracy: 0.9736\n",
      "Epoch 20/30\n",
      "60000/60000 [==============================] - 9s 155us/sample - loss: 0.0324 - accuracy: 0.9912 - val_loss: 0.1970 - val_accuracy: 0.9727\n",
      "Epoch 21/30\n",
      "60000/60000 [==============================] - 9s 158us/sample - loss: 0.0324 - accuracy: 0.9911 - val_loss: 0.1673 - val_accuracy: 0.9767\n",
      "Epoch 22/30\n",
      "60000/60000 [==============================] - 9s 157us/sample - loss: 0.0325 - accuracy: 0.9910 - val_loss: 0.1524 - val_accuracy: 0.9736\n",
      "Epoch 23/30\n",
      "60000/60000 [==============================] - 9s 157us/sample - loss: 0.0327 - accuracy: 0.9915 - val_loss: 0.2133 - val_accuracy: 0.9757\n",
      "Epoch 24/30\n",
      "60000/60000 [==============================] - 9s 155us/sample - loss: 0.0328 - accuracy: 0.9915 - val_loss: 0.1542 - val_accuracy: 0.9771\n",
      "Epoch 25/30\n",
      "60000/60000 [==============================] - 9s 157us/sample - loss: 0.0303 - accuracy: 0.9920 - val_loss: 0.1718 - val_accuracy: 0.9765\n",
      "Epoch 26/30\n",
      "60000/60000 [==============================] - 9s 157us/sample - loss: 0.0368 - accuracy: 0.9909 - val_loss: 0.1851 - val_accuracy: 0.9713\n",
      "Epoch 27/30\n",
      "60000/60000 [==============================] - 10s 162us/sample - loss: 0.0334 - accuracy: 0.9915 - val_loss: 0.1785 - val_accuracy: 0.9742\n",
      "Epoch 28/30\n",
      "60000/60000 [==============================] - 10s 165us/sample - loss: 0.0270 - accuracy: 0.9932 - val_loss: 0.2281 - val_accuracy: 0.9743\n",
      "Epoch 29/30\n",
      "60000/60000 [==============================] - 10s 165us/sample - loss: 0.0313 - accuracy: 0.9924 - val_loss: 0.3737 - val_accuracy: 0.9750\n",
      "Epoch 30/30\n",
      "60000/60000 [==============================] - 10s 164us/sample - loss: 0.0354 - accuracy: 0.9914 - val_loss: 0.2206 - val_accuracy: 0.9697\n"
     ]
    },
    {
     "data": {
      "text/plain": [
       "<tensorflow.python.keras.callbacks.History at 0x1dd84a091c8>"
      ]
     },
     "execution_count": 42,
     "metadata": {},
     "output_type": "execute_result"
    }
   ],
   "source": [
    "#Train the model\n",
    "model.fit(trainX,trainY,validation_data=(testX,testY),epochs=30,batch_size=32)"
   ]
  },
  {
   "cell_type": "code",
   "execution_count": null,
   "metadata": {},
   "outputs": [],
   "source": []
  }
 ],
 "metadata": {
  "kernelspec": {
   "display_name": "Python 3",
   "language": "python",
   "name": "python3"
  },
  "language_info": {
   "codemirror_mode": {
    "name": "ipython",
    "version": 3
   },
   "file_extension": ".py",
   "mimetype": "text/x-python",
   "name": "python",
   "nbconvert_exporter": "python",
   "pygments_lexer": "ipython3",
   "version": "3.8.5"
  }
 },
 "nbformat": 4,
 "nbformat_minor": 4
}

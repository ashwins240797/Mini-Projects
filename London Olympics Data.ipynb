{
 "cells": [
  {
   "cell_type": "code",
   "execution_count": 19,
   "metadata": {},
   "outputs": [
    {
     "data": {
      "text/plain": [
       "'United States'"
      ]
     },
     "execution_count": 19,
     "metadata": {},
     "output_type": "execute_result"
    }
   ],
   "source": [
    "import numpy as np\n",
    "\n",
    "countries_list = np.array(['Great Britain','China','Russia','United States','Korea','Japan','Germany'])\n",
    "gold_medal_list = np.array([29,38,24,46,13,7,11])\n",
    "silver_medal_list = np.array([17,28,25,28,8,14,11])\n",
    "bronze_medal_list = np.array([19,22,32,29,7,17,14])\n",
    "\n",
    "#Country with maximum gold\n",
    "\n",
    "max_gold = gold_medal_list.argmax()\n",
    "country_with_max_gold = countries_list[max_gold]\n",
    "country_with_max_gold"
   ]
  },
  {
   "cell_type": "code",
   "execution_count": 20,
   "metadata": {},
   "outputs": [
    {
     "name": "stdout",
     "output_type": "stream",
     "text": [
      "Great Britain, China, Russia, United States, "
     ]
    }
   ],
   "source": [
    "#Countries with more than 20 gold medals\n",
    "\n",
    "C_with_morethan20_gold = countries_list[gold_medal_list>20]\n",
    "for i in C_with_morethan20_gold:\n",
    " print(i,end = \", \")"
   ]
  },
  {
   "cell_type": "code",
   "execution_count": 21,
   "metadata": {},
   "outputs": [
    {
     "name": "stdout",
     "output_type": "stream",
     "text": [
      "1. Great Britain : Gold_Medals-29 : Total_Medals-65\n",
      "2. China : Gold_Medals-38 : Total_Medals-88\n",
      "3. Russia : Gold_Medals-24 : Total_Medals-81\n",
      "4. United States : Gold_Medals-46 : Total_Medals-103\n",
      "5. Korea : Gold_Medals-13 : Total_Medals-28\n",
      "6. Japan : Gold_Medals-7 : Total_Medals-38\n",
      "7. Germany : Gold_Medals-11 : Total_Medals-36\n"
     ]
    }
   ],
   "source": [
    "#Countries tally\n",
    "for j in range(len(countries_list)):\n",
    "    serial = j+1\n",
    "    country = countries_list[j]\n",
    "    gold_medal = gold_medal_list[j]\n",
    "    Tot_medal = gold_medal_list[j]+ silver_medal_list[j]+ bronze_medal_list[j]\n",
    "    print('{}. {} : Gold_Medals-{} : Total_Medals-{}'.format(serial,country,gold_medal,Tot_medal))"
   ]
  },
  {
   "cell_type": "code",
   "execution_count": null,
   "metadata": {},
   "outputs": [],
   "source": []
  }
 ],
 "metadata": {
  "kernelspec": {
   "display_name": "Python 3",
   "language": "python",
   "name": "python3"
  },
  "language_info": {
   "codemirror_mode": {
    "name": "ipython",
    "version": 3
   },
   "file_extension": ".py",
   "mimetype": "text/x-python",
   "name": "python",
   "nbconvert_exporter": "python",
   "pygments_lexer": "ipython3",
   "version": "3.8.3"
  }
 },
 "nbformat": 4,
 "nbformat_minor": 4
}
